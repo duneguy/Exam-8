{
 "cells": [
  {
   "cell_type": "markdown",
   "metadata": {
    "slideshow": {
     "slide_type": "slide"
    }
   },
   "source": [
    "## Target Variables\n",
    "\n",
    "- Modeling rating plan\n",
    "    - Frequency\n",
    "    - Severity\n",
    "    - Pure Premium<br>\n",
    "    \n",
    "- Identify deficiencies in the existing rating plan\n",
    "    - Loss ratio<br>\n",
    "    \n",
    "- Evaluating UW restrictions\n",
    "    - Prob of large loss"
   ]
  },
  {
   "cell_type": "markdown",
   "metadata": {
    "slideshow": {
     "slide_type": "slide"
    }
   },
   "source": [
    "## Frequency/Severity vs PP\n",
    "\n",
    "- Advantages of modeling freq/sev over PP\n",
    "    - Provides more insight into variables driven by freq vs sev\n",
    "        - Properly addresses situations where freq and sev counteract\n",
    "    - Freq/Sev is more stable (i.e. less noise) than PP model\n",
    "        - If variable only impacts sev then it would look less significant in PP model and could be omitted (underfitting)\n",
    "            - If variable is included in PP model then it would be overfit since it picks up noise from sev.\n",
    "    - Tweedie assumes freq and sev move in the same direction"
   ]
  },
  {
   "cell_type": "markdown",
   "metadata": {
    "slideshow": {
     "slide_type": "slide"
    }
   },
   "source": [
    "## Combining Models and Perils<br>\n",
    "\n",
    "- Combining Freq and Sev model\n",
    "    - Just multiply the factors from the freq and sev model for each record.\n",
    "    - Or, add coefficients together.<br><br>\n",
    "\n"
   ]
  },
  {
   "cell_type": "markdown",
   "metadata": {
    "slideshow": {
     "slide_type": "subslide"
    }
   },
   "source": [
    "- Combining perils\n",
    "    - Add by-peril expected loss cost predictions together for each exposure.\n",
    "    - Run model using all-peril exp loss cost as target and union of model predictors as predictors.\n",
    "    - Since the target variable is very stable, doesn't require lot of data. Focus on business mix instead."
   ]
  },
  {
   "cell_type": "markdown",
   "metadata": {
    "slideshow": {
     "slide_type": "slide"
    }
   },
   "source": [
    "## Adjustments to Target variable\n",
    "\n",
    "- Cap large losses\n",
    "- Model non-CAT losses only\n",
    "- Develop losses$^1$\n",
    "    - For sev model, dev factor should reflect development on known claims only.\n",
    "    - For PP or loss ratio model, the dev factor should include IBNR as well.\n",
    "- For LR model, might need to on-level premium$^1$\n",
    "- For multi-year data, losses and exposures may need to be trended$^1$<br><br>\n",
    "\n",
    "\n",
    "$^1$ Could also use temporal variable such as year to adjust for these"
   ]
  },
  {
   "cell_type": "markdown",
   "metadata": {
    "slideshow": {
     "slide_type": "slide"
    }
   },
   "source": [
    "## Detecting Non-Linearity in Continuous Predictor Variables\n",
    "\n",
    "- If the GLM coefficient for log of age is -.314 then it means that each unit increase in log of age results in .314 decrease in log of expected severity.\n",
    "    - GLM assumes a linear relationship in this case.\n",
    "        - To detect non-linearity we use <b>Partial Residual Plot</b>."
   ]
  },
  {
   "cell_type": "markdown",
   "metadata": {
    "slideshow": {
     "slide_type": "subslide"
    }
   },
   "source": [
    "#### Partial Residual Plot\n",
    "\n",
    "- Let $r_i$ be a partial residual for predictor $x_j$.<br>\n",
    "\n",
    "$$r_i = (y_i-\\mu_i) g^\\prime(\\mu_i) + \\beta_j x_{ij}$$<br>\n",
    "$$ \\text{Since, } g^{\\prime}(\\mu_i) = \\frac{1}{\\mu_i}$$<br>\n",
    "$$ \\therefore r_i = \\frac{y_i-\\mu_i}{\\mu_i} + \\beta_j x_{ij} = \\frac{\\text{actual - predicted}}{\\text{predicted}} + \\text{contribution to predicted}$$<br>\n",
    "\n",
    "- Only the effect of predictor $x_j$ is reflected since scaled residual should otherwise be unbiased and distributed around 0.\n",
    "\n"
   ]
  },
  {
   "cell_type": "markdown",
   "metadata": {
    "slideshow": {
     "slide_type": "subslide"
    }
   },
   "source": [
    "- Plot $x_{i}$ against $r_i$ and draw $y = \\beta_j x_j$.<br><br>\n",
    "\n",
    "<center><img src='images/Partial_Resid.JPG'></center><br>\n",
    "\n",
    "- Model over-predicts below log(2.5) and under-predicts between log(2.5) - log(3.25)."
   ]
  },
  {
   "cell_type": "markdown",
   "metadata": {
    "slideshow": {
     "slide_type": "slide"
    }
   },
   "source": [
    "## Ways to transform continuous predictor variables\n",
    "\n",
    "- Binning\n",
    "- Polynomial terms\n",
    "- Piecewise linear functions\n",
    "- Natural cubic splines"
   ]
  },
  {
   "cell_type": "markdown",
   "metadata": {
    "slideshow": {
     "slide_type": "subslide"
    }
   },
   "source": [
    "#### Binning\n",
    "\n",
    "- Drawbacks\n",
    "    - Adds a lot more parameters to the model.\n",
    "    - Could end up with reversals in factors due to volatility in data.\n",
    "        - Could combine buckets to avoid reversals.\n",
    "        - Or, use manual smoothing.\n",
    "    - Variation within intervals is ignored.\n",
    "        - Could make buckets smaller\n",
    "            - Results in less credible estimates."
   ]
  },
  {
   "cell_type": "markdown",
   "metadata": {
    "slideshow": {
     "slide_type": "subslide"
    }
   },
   "source": [
    "#### Polynomial Terms\n",
    "\n",
    "- Add $x^2, x^3, \\ldots$ terms.\n",
    "    - If x = log(age) then $x^2$ = log(age)$^2$.\n",
    "    \n",
    "- <b>Drawback</b>\n",
    "    - Leads to loss of interpretability\n",
    "        - Can't tell the relationship based on terms and coeffiecients alone.\n",
    "        - Have to graph to understand.\n",
    "    - Polynomial functions tend to behave irratically at the edges of the data."
   ]
  },
  {
   "cell_type": "markdown",
   "metadata": {
    "slideshow": {
     "slide_type": "subslide"
    }
   },
   "source": [
    "#### Piecewise Linear Functions\n",
    "\n",
    "- Can add a hinge function at the break-point.\n",
    "\n",
    "- <b>Drawback</b>\n",
    "    - Break-points needs to be selected by the user.\n",
    "    - Fitted curve changes abruptly around breakpoints.<br><br>\n",
    "\n",
    "- Assume pattern reversal happens at log(age) = 2.75 then we add the following variable:<br><br>\n",
    "\n",
    "$$ max(0,ln(age)-2.75) = \n",
    "\\begin{cases}\n",
    "0, & \\text{if log(age) <= 2.75} \\\\[2ex]\n",
    "\\gt 0, & \\text{if log(age) > 2.75}\n",
    "\\end{cases}$$"
   ]
  },
  {
   "cell_type": "markdown",
   "metadata": {
    "slideshow": {
     "slide_type": "subslide"
    }
   },
   "source": [
    "\n",
    "<table><tr><td><img src='images/Hinge_1.JPG'></td><td><img src='images/Hinge_2.JPG'></td></tr></table><br><br>\n",
    "\n",
    "$$ \\text{Slope} = \n",
    "\\begin{cases}\n",
    "1.225, & \\text{if log(age) <= 2.75} \\\\[2ex]\n",
    "-1.044, & \\text{if log(age) > 2.75}\n",
    "\\end{cases}$$\n"
   ]
  },
  {
   "cell_type": "markdown",
   "metadata": {
    "slideshow": {
     "slide_type": "subslide"
    }
   },
   "source": [
    "#### Natural Cubic Splines\n",
    "\n",
    "- Combines polynomial and piecewise functions.<br><br>\n",
    "\n",
    "- <b>Advantages</b>\n",
    "    - Curves are smooth around breakpoints. (1st and 2nd deriv. are continuous)\n",
    "    - Fits at the edges are restricted to be linear.\n",
    "    - Use of breakpoints makes it more suitable than regular polynomial functions for complex effect responses.<br><br>\n",
    "\n",
    "- <b>Disadvantages</b>\n",
    "    - Need to graph to understand modeled effect.\n"
   ]
  },
  {
   "cell_type": "markdown",
   "metadata": {
    "slideshow": {
     "slide_type": "slide"
    }
   },
   "source": [
    "## Interactions\n",
    "\n",
    "- <b>Interaction effect</b>: When two or more variables have additional combined effect on the target variable.<br><br>\n",
    "- <b>Main effect:</b> Effect of a variable by itself."
   ]
  },
  {
   "cell_type": "markdown",
   "metadata": {
    "slideshow": {
     "slide_type": "subslide"
    }
   },
   "source": [
    "#### Interacting categorical variables\n",
    "\n",
    "- Software adds column for each combination of non-base levels for the two variables.<br><br>\n",
    "\n"
   ]
  },
  {
   "cell_type": "markdown",
   "metadata": {
    "slideshow": {
     "slide_type": "subslide"
    }
   },
   "source": [
    "<center><img src = 'images/Cat_x_Cat.JPG'></center><br>\n",
    "Discount for occupancy class 2 with sprinklers compared to class 2 with no sprinklers is:<br><br>\n",
    "$$e^{-.2895-.2847} -1 = 43.7\\% \\text{ discount}$$"
   ]
  },
  {
   "cell_type": "markdown",
   "metadata": {
    "slideshow": {
     "slide_type": "subslide"
    }
   },
   "source": [
    "#### Interacting categorical with continuous variable\n",
    "\n",
    "- Software adds a column for interaction of <b>non-base levels of the categorical variable x log(continuous variable)</b>.\n",
    "    - For a (Yes/No) categorical variable, the new predictor is 0 where categorical variable is 'No' and log(continuous variable) otherwise.\n",
    "        - If categorical variable has various levels, then the number of log(continuous variable) values are divided among columns.\n",
    "            - Causes credibility issues since data is getting sliced more."
   ]
  },
  {
   "cell_type": "markdown",
   "metadata": {
    "slideshow": {
     "slide_type": "subslide"
    }
   },
   "source": [
    "<table><tr><td><img src='images/Cat_x_Cont_2.JPG'></td><td><img src='images/Cat_x_Cont_1.JPG'></td><td><img src='images/Cat_x_Cont.JPG'></td></tr></table><br><br>\n",
    "\n",
    "- For better interpretability, it is best to divide the continuous variable with the base value.\n",
    "    - Base Classes\n",
    "        - In Table 11, log(aoi = 1) = 0 \n",
    "        - In Table 12, log(aoi = 200k/200k) = 0 .\n",
    "    - Predicted values don't differ between the two."
   ]
  }
 ],
 "metadata": {
  "celltoolbar": "Slideshow",
  "kernelspec": {
   "display_name": "Python 3",
   "language": "python",
   "name": "python3"
  },
  "language_info": {
   "codemirror_mode": {
    "name": "ipython",
    "version": 3
   },
   "file_extension": ".py",
   "mimetype": "text/x-python",
   "name": "python",
   "nbconvert_exporter": "python",
   "pygments_lexer": "ipython3",
   "version": "3.7.1"
  }
 },
 "nbformat": 4,
 "nbformat_minor": 2
}
