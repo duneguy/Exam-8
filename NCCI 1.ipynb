{
 "cells": [
  {
   "cell_type": "markdown",
   "metadata": {
    "slideshow": {
     "slide_type": "slide"
    }
   },
   "source": [
    "- NCCI Experience Rating Plan uses split-loss plan.\n",
    "- Unlike ISO, NCCI makes adjustments to the expected losses to make them comparable to historical levels."
   ]
  },
  {
   "cell_type": "markdown",
   "metadata": {
    "slideshow": {
     "slide_type": "slide"
    }
   },
   "source": [
    "## Eligibility Requirements<br>\n",
    "\n",
    "- These are the requirements for Alabama.\n",
    "- Either one needs to be satisfied.<br><br>\n",
    "\n",
    "- MP$_{yr-1}$ + MP$_{yr-2} \\geq \\$10,000 \\qquad \\quad \\text{[Based on values in Column A]}$<br><br>\n",
    "\n",
    "- $\\frac{MP_{yr-1}+MP_{yr-2}+MP_{yr-3}}{3} \\geq \\$5,000 \\qquad \\text{[Based on values in Column B]}$"
   ]
  },
  {
   "cell_type": "markdown",
   "metadata": {
    "slideshow": {
     "slide_type": "slide"
    }
   },
   "source": [
    "## NCCI Experience Rating Formula<br><br>\n",
    "\n",
    "$$\\begin{align} Mod & = \\frac{A_p + WA_e + (1-W)E_e +B}{E+B} \\\\ \\\\\n",
    "Z_p & = \\frac{E}{E+B} \\qquad [B=K_p] \\\\ \\\\\n",
    "W & = \\frac{E+K_p}{E+K_e} = \\frac{Z_e}{Z_p}\\end{align}$$"
   ]
  },
  {
   "cell_type": "markdown",
   "metadata": {
    "slideshow": {
     "slide_type": "subslide"
    }
   },
   "source": [
    "- W is used to limit the weight of actual xs losses.\n",
    "- B is used to provide stability by limiting the impact of any single loss on the mod."
   ]
  },
  {
   "cell_type": "markdown",
   "metadata": {
    "slideshow": {
     "slide_type": "slide"
    }
   },
   "source": [
    "## Actual Losses\n",
    "\n",
    "- Uses \\$5,000 for the split between primary and xs losses.\n",
    "- Medical-<b>only</b> losses are reduced by 70\\% after being divided into primary and xs."
   ]
  },
  {
   "cell_type": "markdown",
   "metadata": {
    "slideshow": {
     "slide_type": "slide"
    }
   },
   "source": [
    "- ELR is <b>Expected Losses</b> per <b>\\$100 Payroll</b>"
   ]
  },
  {
   "cell_type": "markdown",
   "metadata": {
    "slideshow": {
     "slide_type": "slide"
    }
   },
   "source": [
    "- Calculate manual premium using payroll and class rates.\n",
    "- Then multiply by mod to get SP.<br><br>\n",
    "\n",
    "- Check to make sure the debit mod is less than max debit mod.<br><br>\n",
    "\n",
    "$$\\text{Max Debit Mod} = 1 +.00005\\left(E[A] +\\frac{2E[A]}{G}\\right) $$"
   ]
  },
  {
   "cell_type": "markdown",
   "metadata": {
    "slideshow": {
     "slide_type": "slide"
    }
   },
   "source": [
    "<center><img src='images/RF_NCCI_1.JPG'></center>"
   ]
  },
  {
   "cell_type": "markdown",
   "metadata": {
    "slideshow": {
     "slide_type": "subslide"
    }
   },
   "source": [
    "<center><img src='images/RF_NCCI_2.JPG'></center>"
   ]
  },
  {
   "cell_type": "markdown",
   "metadata": {
    "slideshow": {
     "slide_type": "subslide"
    }
   },
   "source": [
    "<center><img src='images/RF_NCCI_3.JPG'></center>"
   ]
  },
  {
   "cell_type": "markdown",
   "metadata": {
    "slideshow": {
     "slide_type": "subslide"
    }
   },
   "source": [
    "<center><img src='images/RF_NCCI_4.JPG'></center>"
   ]
  },
  {
   "cell_type": "markdown",
   "metadata": {
    "slideshow": {
     "slide_type": "subslide"
    }
   },
   "source": [
    "<center><img src='images/RF_NCCI_5.JPG'></center>"
   ]
  },
  {
   "cell_type": "markdown",
   "metadata": {
    "slideshow": {
     "slide_type": "subslide"
    }
   },
   "source": [
    "<center><img src='images/RF_NCCI_6.JPG'></center>"
   ]
  }
 ],
 "metadata": {
  "celltoolbar": "Slideshow",
  "kernelspec": {
   "display_name": "Python 3",
   "language": "python",
   "name": "python3"
  },
  "language_info": {
   "codemirror_mode": {
    "name": "ipython",
    "version": 3
   },
   "file_extension": ".py",
   "mimetype": "text/x-python",
   "name": "python",
   "nbconvert_exporter": "python",
   "pygments_lexer": "ipython3",
   "version": "3.7.1"
  }
 },
 "nbformat": 4,
 "nbformat_minor": 2
}
