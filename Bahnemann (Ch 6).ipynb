{
 "cells": [
  {
   "cell_type": "markdown",
   "metadata": {
    "slideshow": {
     "slide_type": "slide"
    }
   },
   "source": [
    "# Limits and Deductibles\n",
    "\n",
    "## Premium Concepts\n",
    "\n",
    "- <b>Risk Charge</b>: The extra premium collected by the insurer to cover:\n",
    "    1. Random fluctuations of losses about the expected values (process risk).\n",
    "    2. Uncertainty inherent in the selection of the parameters describing the loss process (parameter risk)."
   ]
  },
  {
   "cell_type": "markdown",
   "metadata": {
    "slideshow": {
     "slide_type": "subslide"
    }
   },
   "source": [
    "$$ \\text{Rate per unit exposure (R)} = \\frac{p +f}{1-v}$$<br><br>\n",
    "$$ \\text{Loss-cost multiplies ($\\Psi$)} = \\frac{1}{1-v}$$"
   ]
  },
  {
   "cell_type": "markdown",
   "metadata": {
    "slideshow": {
     "slide_type": "slide"
    }
   },
   "source": [
    "## Increased Limit Factors\n",
    "\n",
    "- Premium for basic limit is calculated and then multiplied by an ILF to get the full policy premium.<br><br>\n",
    "\n",
    "$$I(l) = \\frac{P_l}{P_b} = \\frac{\\text{Premium at policy per-claim limit $\\ell$}}{\\text{Premium at basic policy limit}} = \\frac{E_l[N] \\cdot E_l[X]}{E_b[N] \\cdot E_b[X]} =\\frac{E_l[X]}{E_b[X]}$$"
   ]
  },
  {
   "cell_type": "markdown",
   "metadata": {
    "slideshow": {
     "slide_type": "subslide"
    }
   },
   "source": [
    "- If limit applies to loss and ALAE:\n",
    "<br><br>\n",
    "$$I(l) = \\frac{E[X;l]}{E[X;b]}$$\n",
    "<br><br>\n",
    "- If limit applies to losses only and $\\epsilon$ represents overall average per-claim ALAE. ALAE is independent of losses:\n",
    "<br><br>\n",
    "$$I(l) = \\frac{E[X;l] + \\epsilon}{E[X;b]+ \\epsilon}$$"
   ]
  },
  {
   "cell_type": "markdown",
   "metadata": {
    "slideshow": {
     "slide_type": "subslide"
    }
   },
   "source": [
    "- If limit applies to losses only and  ALAE is proportional to losses:\n",
    "    - Doesn't work well when indemnity is very large or when indemnity is 0 for non-zero ALAE.\n",
    "<br><br>\n",
    "$$I(l) = \\frac{E[X;l](1+u)}{E[X;b](1+u)} = \\frac{E[X;l]}{E[X;b]}$$\n",
    "<br><br>\n",
    "- If limit applies to losses only. We use proportional ULAE and average ALAE:\n",
    "    - You can derive prior forms from this.\n",
    "<br><br>\n",
    "$$I(l) = \\frac{(E[X;l] + \\epsilon)(1+u)}{(E[X;b]+ \\epsilon)(1+u)} = \\frac{E[X;l] + \\epsilon}{E[X;b]+ \\epsilon}$$"
   ]
  },
  {
   "cell_type": "markdown",
   "metadata": {
    "slideshow": {
     "slide_type": "slide"
    }
   },
   "source": [
    "## Excess Layer Pricing\n",
    "\n",
    "- ILF can be used to price layer with attachmet point <b>a</b> and policy limit <b>l</b>.\n",
    "- $p_{a,l}$ is the pure premium for layer (a,a+l].\n",
    "- $\\varphi$ is the ground-up frequency.\n",
    "- When limit applies to loss and ALAE.\n",
    "<br><br>\n",
    "$$\\begin{align} P_{a,l} & = \\varphi (1-F_x(a)) \\left( \\frac{E[X;a+l]-E[X;a]}{1-F_x(a)} \\right) \\\\ \\\\\n",
    "& = \\varphi E[X;b] \\left ( \\frac{E[X;a+l]}{E[X;b]} - \\frac{E[X;a]}{E[X;b]} \\right ) \\\\ \\\\\n",
    "& = p_b \\cdot \\left ( I(a+l) - I(a) \\right )\n",
    "\\end{align}$$<br>\n"
   ]
  },
  {
   "cell_type": "markdown",
   "metadata": {
    "slideshow": {
     "slide_type": "subslide"
    }
   },
   "source": [
    "\n",
    "- If limit only applies to losses and ALAE is average amount then:\n",
    "    - m is exposures.<br><br>\n",
    "\n",
    "$$\\text{Premium for layer} = m \\cdot \\varphi \\cdot [ E[X;a+l] - E[X;a] + (1 - F_x(a))\\cdot \\epsilon] \\cdot \\Psi$$"
   ]
  },
  {
   "cell_type": "markdown",
   "metadata": {
    "slideshow": {
     "slide_type": "subslide"
    }
   },
   "source": [
    "<center><img src='images/Basic_Lim_Prem.JPG'></center>"
   ]
  },
  {
   "cell_type": "markdown",
   "metadata": {
    "slideshow": {
     "slide_type": "slide"
    }
   },
   "source": [
    "## Consistency\n",
    "\n",
    "- ILFs must increase at a decreasing rate $\\Longleftrightarrow$ premium for successive layers of coverage of constant width must decrease.\n",
    "\n",
    "$$I'(l) \\geq 0$$\n",
    "<br>\n",
    "$$I''(l) \\leq 0$$\n",
    "<br><br>\n",
    "- This could be violated if payouts were influenced by policy limits (ex. malpractice lawsuits).\n",
    "    - Violates the same frequency assumption."
   ]
  },
  {
   "cell_type": "markdown",
   "metadata": {
    "slideshow": {
     "slide_type": "subslide"
    }
   },
   "source": [
    "<center><img src='images/Consistency.JPG'></center>"
   ]
  },
  {
   "cell_type": "markdown",
   "metadata": {
    "slideshow": {
     "slide_type": "slide"
    }
   },
   "source": [
    "## Risk Loads\n",
    "\n",
    "- ILF formula with risk load:<br><br>\n",
    "\n",
    "$$I(l) = \\frac{(E[X;l]+\\epsilon)(1+u)+\\rho(l)}{(E[X;b]+\\epsilon)(1+u)+\\rho(b)}$$"
   ]
  },
  {
   "cell_type": "markdown",
   "metadata": {
    "slideshow": {
     "slide_type": "subslide"
    }
   },
   "source": [
    "#### Miccolis Approach\n",
    "\n",
    "- Risk load $\\rho (l)$ based on constant multiple of variance of aggregate losses:\n",
    "<br><br>\n",
    "$$\\begin{align}\n",
    "\\rho(l) & = k \\cdot \\frac{Var(S)}{E[N]} \\\\ \\\\\n",
    "& = \\color{blue}{k \\cdot \\left( E[X^2;l]+ \\delta \\cdot E[X;l]^2 \\right)}\n",
    "\\end{align}$$\n",
    "<br><br>\n",
    "- Where, k is an arbitrary constant and $\\delta = \\frac{Var(N)}{E[N]} -1$\n",
    "    - Here, $\\delta = 0$ when N $\\sim$ Poisson.\n"
   ]
  },
  {
   "cell_type": "markdown",
   "metadata": {
    "slideshow": {
     "slide_type": "subslide"
    }
   },
   "source": [
    "#### ISO Approach\n",
    "\n",
    "\n",
    "$$\\begin{align}\n",
    "\\rho(l) & = k \\frac{\\sqrt{Var(S)}}{E[N]} \\\\\n",
    "& = \\frac{k}{E[N]} \\cdot STD(S) \\\\\n",
    "& = \\frac{k}{\\sqrt{E[N]}} \\cdot \\sqrt{E[X^2;l]+ \\delta \\cdot E[X;l]^2} \\\\ \\\\\n",
    "& = \\color{blue}{k' \\cdot \\sqrt{E[X^2;l]+ \\delta \\cdot E[X;l]^2}}\n",
    "\\end{align}$$\n",
    "<br><br>"
   ]
  },
  {
   "cell_type": "markdown",
   "metadata": {
    "slideshow": {
     "slide_type": "subslide"
    }
   },
   "source": [
    "<center><img src='images/RF_Risk_Load.JPG'></center>\n",
    "<br><br>\n",
    "- Risk load accounts for higher process risk for policies with higher limits."
   ]
  },
  {
   "cell_type": "markdown",
   "metadata": {
    "slideshow": {
     "slide_type": "subslide"
    }
   },
   "source": [
    "- We can't calculate risk loaded ILF for a layer by taking difference of risk loaded ILFs.\n",
    "<br><br>\n",
    "$$\\begin{align} \\rho_{a,l} & \\neq \\rho(a+l) - \\rho(a) \\\\ \\\\\n",
    "& \\lt \\rho(a+l) - \\rho(a)\n",
    "\\end{align}$$"
   ]
  },
  {
   "cell_type": "markdown",
   "metadata": {
    "slideshow": {
     "slide_type": "slide"
    }
   },
   "source": [
    "## Aggregate Limits\n",
    "\n",
    "- Most policies have an aggregate limit (L) on losses.\n",
    "<br><br>\n",
    "$$\\begin{align} E[S_l] & = E[N] \\cdot E[X;l] \\\\ \\\\ \\text{Losses elimiated by aggregate limit L} & = E[S_l]-E[S_l;L]\n",
    "\\end{align}$$"
   ]
  },
  {
   "cell_type": "markdown",
   "metadata": {
    "slideshow": {
     "slide_type": "subslide"
    }
   },
   "source": [
    "- Formula for ILF with per-claim and aggregate limit.\n",
    "    - Assumes limits apply to losses only and ALAE is loaded multiplicatively.\n",
    "<br><br>\n",
    "$$\\begin{align}I(l,L) & = \\frac{m \\cdot \\varphi \\cdot E[S_l;L]\\cdot (1+u)}{m \\cdot \\varphi \\cdot E[S_b] \\cdot (1+u)} \\\\ \\\\\n",
    "& = \\frac{E[S_l;L]}{E[N] \\cdot E[X;b]}\n",
    "\\end{align}$$"
   ]
  },
  {
   "cell_type": "markdown",
   "metadata": {
    "slideshow": {
     "slide_type": "slide"
    }
   },
   "source": [
    "## Deductibles\n",
    "\n",
    "- We assume deductible and limits apply to losses only. ALAE is loaded separately.\n",
    "\n",
    "#### Straight Deductible\n",
    "\n",
    "$$\\begin{align} \n",
    "p_{d,b} & = \\varphi (1-F_x(d)) \\left ( \\frac{E[X;b]-E[X;d]}{1-F_x(d)} + \\epsilon \\right ) (1+ u) \\\\ \\\\\n",
    "& = \\color{blue}{\\varphi (E[X;b]-E[X;d] + (1-F_x(d)) \\epsilon)(1+u)}\n",
    "\\end{align}$$\n",
    "<br><br>\n"
   ]
  },
  {
   "cell_type": "markdown",
   "metadata": {
    "slideshow": {
     "slide_type": "subslide"
    }
   },
   "source": [
    "$$P_{d,b} = P_b \\cdot (1-C(d))$$\n",
    "<br>\n",
    "- Here, the premium credit amount is $P_b \\cdot C(d)$.<br><br>\n",
    "\n",
    "$$\\begin{align} \n",
    "C(d) & = \\frac{\\text{Pure Premium Eliminated}}{\\text{Total Basic-Limit Pure Premium}} \\\\ \\\\\n",
    "& = \\frac{\\varphi (E[X;d]+F_x(d) \\epsilon)(1+u)}{ \\varphi (E[X;b] + \\epsilon)(1+u)} \\\\ \\\\\n",
    "& = \\color{blue}{\\frac{E[X;d]+F_x(d) \\epsilon}{E[X;b]+\\epsilon}}\n",
    "\\end{align}$$"
   ]
  },
  {
   "cell_type": "markdown",
   "metadata": {
    "slideshow": {
     "slide_type": "subslide"
    }
   },
   "source": [
    "$$\\begin{align}\n",
    "P_{d,l} & = P_b \\cdot ( I(l) - C(d)) \\\\ \\\\\n",
    "& = \\text{Prem}_\\text{Basic} \\cdot (\\text{ILF}(\\text{limit}) - \\text{LER}(\\text{deductible}))\n",
    "\\end{align}$$"
   ]
  },
  {
   "cell_type": "markdown",
   "metadata": {
    "slideshow": {
     "slide_type": "subslide"
    }
   },
   "source": [
    "#### Franchise Deductible\n",
    "\n",
    "- <b>Definition:</b> Eliminates claims less than or equal to d. Claims greater than d are paid in full.\n",
    "<br><br>\n",
    "$$P_{d,b} = \\varphi \\cdot (E[X;b]-E[X;d] + (1-F_x(d)) \\cdot(d + \\epsilon))\\cdot(1+u)$$\n",
    "<br><br>\n",
    "$$C(d) = \\frac{E[X;d]-d(1-F_x(d))+F_x(d)\\epsilon}{E[X;b]+\\epsilon}$$"
   ]
  },
  {
   "cell_type": "markdown",
   "metadata": {
    "slideshow": {
     "slide_type": "subslide"
    }
   },
   "source": [
    "#### Diminishing (or Disappearing) Deductible \n",
    "<br>\n",
    "$$  \\text{Payment} =\n",
    "\\begin{cases}\n",
    "\\text{No Payment},  & \\text{claim < d} \\\\\n",
    "\\text{Partial Payment}, & \\text{d < claim < D} \\\\\n",
    "\\text{Full Payment}, & \\text{claim > D}\n",
    "\\end{cases}$$\n",
    "<br><br>\n",
    "$$  \\text{Ded(x)} =\n",
    "\\begin{cases}\n",
    "x,  & \\text{x < d} \\\\ \\\\\n",
    "\\frac{d}{D-d} \\cdot (D-x), & \\text{d < x < D} \\\\ \\\\\n",
    "0, & \\text{x > D}\n",
    "\\end{cases}$$\n",
    "<br><br>\n",
    "- Deductible declines linearly from d to D."
   ]
  },
  {
   "cell_type": "markdown",
   "metadata": {
    "slideshow": {
     "slide_type": "subslide"
    }
   },
   "source": [
    "- Losses eliminated by deductible type:<br><br>\n",
    "\n",
    "$$\\text{Straight} > \\text{Diminishing} > \\text{Franchise}$$"
   ]
  },
  {
   "cell_type": "markdown",
   "metadata": {
    "slideshow": {
     "slide_type": "subslide"
    }
   },
   "source": [
    "#### Deductibles and Inflation\n",
    "\n",
    "<br><br>\n",
    "$$\\tau_{d,l} = \\frac{ \\tau \\left( E \\left[X;\\frac{l}{\\tau}\\right] - E \\left[ X;\\frac{d}{\\tau} \\right] + \\left( 1 - F_x \\left(\\frac{d}{\\tau}\\right)\\right) \\epsilon \\right)}{E[X;l]-E[X;d]+(1-F_x(d)) \\epsilon}$$\n",
    "<br><br>\n",
    "- $\\tau_{d,l} \\gt \\tau$,  if there is no per-claim limit."
   ]
  }
 ],
 "metadata": {
  "celltoolbar": "Slideshow",
  "kernelspec": {
   "display_name": "Python 3",
   "language": "python",
   "name": "python3"
  },
  "language_info": {
   "codemirror_mode": {
    "name": "ipython",
    "version": 3
   },
   "file_extension": ".py",
   "mimetype": "text/x-python",
   "name": "python",
   "nbconvert_exporter": "python",
   "pygments_lexer": "ipython3",
   "version": "3.7.1"
  }
 },
 "nbformat": 4,
 "nbformat_minor": 2
}
