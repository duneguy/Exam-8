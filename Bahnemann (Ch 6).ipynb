{
 "cells": [
  {
   "cell_type": "markdown",
   "metadata": {
    "slideshow": {
     "slide_type": "slide"
    }
   },
   "source": [
    "# Limits and Deductibles\n",
    "\n",
    "## Premium Concepts\n",
    "\n",
    "- <b>Risk Charge</b>: The extra premium collected by the insurer to cover:\n",
    "    1. Random fluctuations of losses about the expected values (process risk).\n",
    "    2. Uncertainty inherent in the selection of the parameters describing the loss process (parameter risk)."
   ]
  },
  {
   "cell_type": "markdown",
   "metadata": {
    "slideshow": {
     "slide_type": "subslide"
    }
   },
   "source": [
    "$$ \\text{Rate per unit exposure (R)} = \\frac{p +f}{1-v}$$<br><br>\n",
    "$$ \\text{Loss-cost multiplies ($\\Psi$)} = \\frac{1}{1-v}$$"
   ]
  },
  {
   "cell_type": "markdown",
   "metadata": {
    "slideshow": {
     "slide_type": "slide"
    }
   },
   "source": [
    "## Increased Limit Factors\n",
    "\n",
    "- Premium for basic limit is calculated and then multiplied by an ILF to get the full policy premium.<br><br>\n",
    "\n",
    "$$I(l) = \\frac{P_l}{P_b} = \\frac{\\text{Premium at policy per-claim limit $\\ell$}}{\\text{Premium at basic policy limit}} = \\frac{E_l[N] \\cdot E_l[X]}{E_b[N] \\cdot E_b[X]} =\\frac{E_l[X]}{E_b[X]}$$"
   ]
  },
  {
   "cell_type": "markdown",
   "metadata": {
    "slideshow": {
     "slide_type": "subslide"
    }
   },
   "source": [
    "- If limit applies to loss and ALAE:\n",
    "<br><br>\n",
    "$$I(l) = \\frac{E[X;l]}{E[X;b]}$$\n",
    "<br><br>\n",
    "- If limit applies to losses only and $\\epsilon$ represents overall average per-claim ALAE. ALAE is independent of losses:\n",
    "<br><br>\n",
    "$$I(l) = \\frac{E[X;l] + \\epsilon}{E[X;b]+ \\epsilon}$$"
   ]
  },
  {
   "cell_type": "markdown",
   "metadata": {
    "slideshow": {
     "slide_type": "subslide"
    }
   },
   "source": [
    "- If limit applies to losses only and  ALAE is proportional to losses:\n",
    "    - Doesn't work well when indemnity is very large or when indemnity is 0 for non-zero ALAE.\n",
    "<br><br>\n",
    "$$I(l) = \\frac{E[X;l](1+u)}{E[X;b](1+u)} = \\frac{E[X;l]}{E[X;b]}$$\n",
    "<br><br>\n",
    "- If limit applies to losses only. We use proportional and average ALAE:\n",
    "    - You can derive prior forms from this.\n",
    "<br><br>\n",
    "$$I(l) = \\frac{(E[X;l] + \\epsilon)(1+u)}{(E[X;b]+ \\epsilon)(1+u)} = \\frac{E[X;l] + \\epsilon}{E[X;b]+ \\epsilon}$$"
   ]
  },
  {
   "cell_type": "markdown",
   "metadata": {
    "slideshow": {
     "slide_type": "slide"
    }
   },
   "source": [
    "## Excess Layer Pricing\n",
    "\n",
    "- ILF can be used to price layer with attachmet point <b>a</b> and policy limit <b>l</b>.\n",
    "- $p_{a,l}$ is the pure premium for layer (a,a+l].\n",
    "- $\\varphi$ is the ground-up frequency.\n",
    "- When limit applies to loss and ALAE.\n",
    "<br><br>\n",
    "$$\\begin{align} P_{a,l} & = \\varphi (1-F_x(a)) \\frac{E[X;a+l-E[X;a]}{1-F_x(a)} \\\\ \\\\\n",
    "& = \\varphi E[X;b] \\left ( \\frac{E[X;a+l}{E[X;b]} - \\frac{E[X;a]}{E[X;b]} \\right ) \\\\ \\\\\n",
    "& = p_b \\cdot \\left ( I(a+l) - I(a) \\right )\n",
    "\\end{align}$$<br>\n"
   ]
  },
  {
   "cell_type": "markdown",
   "metadata": {
    "slideshow": {
     "slide_type": "subslide"
    }
   },
   "source": [
    "\n",
    "- If limit only applies to losses and ALAE is average amount then:\n",
    "    - m is exposures.\n",
    "<br><br>\n",
    "$$\\text{Premium for layer} = m \\cdot \\varphi \\cdot E[N] (E[X;a+l] - E[X;a] + (1 - F_x(a))\\cdot \\epsilon)$$"
   ]
  },
  {
   "cell_type": "markdown",
   "metadata": {
    "slideshow": {
     "slide_type": "slide"
    }
   },
   "source": [
    "## Consistency\n",
    "\n",
    "- ILFs must increase at a decreasing rate $\\Longleftrightarrow$ premium for successive layers of coverage of constant width must decrease.\n",
    "\n",
    "$$I'(l) \\geq 0$$\n",
    "<br>\n",
    "$$I''(l) \\leq 0$$\n",
    "<br><br>\n",
    "- This could be violated if payouts were influenced by policy limits (ex. malpractice lawsuits).\n",
    "    - Violates the same frequency assumption."
   ]
  },
  {
   "cell_type": "markdown",
   "metadata": {
    "slideshow": {
     "slide_type": "subslide"
    }
   },
   "source": [
    "<center><img src='images/Consistency.JPG'></center>"
   ]
  },
  {
   "cell_type": "markdown",
   "metadata": {
    "slideshow": {
     "slide_type": "slide"
    }
   },
   "source": [
    "## Risk Loads\n",
    "\n",
    "- ILF formula with risk load:\n",
    "<br><br>\n",
    "$$I(l) = \\frac{(E[X;l]+\\epsilon)(1+u)+\\rho(l)}{(E[X;b]+\\epsilon)(1+u)+\\rho(b)}$$"
   ]
  },
  {
   "cell_type": "markdown",
   "metadata": {
    "slideshow": {
     "slide_type": "subslide"
    }
   },
   "source": [
    "- Risk load $\\rho (l)$ based on constant multiple of variance of aggregate losses (i.e. Miccolis approach):\n",
    "<br><br>\n",
    "$$\\begin{align}\n",
    "\\rho(l) & = k \\cdot \\frac{Var(S)}{E[N]} \\\\ \\\\\n",
    "& = \\color{blue}{k \\cdot (E[X^2;l]+ \\delta \\cdot E[X;l]^2)}\n",
    "\\end{align}$$\n",
    "<br><br>\n",
    "- Where, k is an arbitrary constant and $\\delta = \\frac{Var(N)}{E[N]} -1$\n",
    "    - Here, $\\delta = 0$ when N $\\sim$ Poisson.\n"
   ]
  },
  {
   "cell_type": "markdown",
   "metadata": {
    "slideshow": {
     "slide_type": "subslide"
    }
   },
   "source": [
    "- ISO's approach for risk load calculation:\n",
    "<br><br>\n",
    "$$\\begin{align}\n",
    "\\rho(l) & = k \\frac{\\sqrt{Var(S)}}{E[N]} \\\\\n",
    "& = \\frac{k}{E[N]} \\cdot STD(S) \\\\\n",
    "& = \\frac{k}{\\sqrt{E[N]}} \\cdot \\sqrt{E[X^2;l]+ \\delta \\cdot E[X;l]^2} \\\\ \\\\\n",
    "& = \\color{blue}{k' \\cdot \\sqrt{E[X^2;l]+ \\delta \\cdot E[X;l]^2}}\n",
    "\\end{align}$$\n",
    "<br><br>"
   ]
  },
  {
   "cell_type": "markdown",
   "metadata": {
    "slideshow": {
     "slide_type": "subslide"
    }
   },
   "source": [
    "- We can't calculate risk loaded ILF for a layer by taking difference of risk loaded ILFs.\n",
    "<br><br>\n",
    "$$\\begin{align} \\rho_{a,l} & \\neq \\rho(a+l) - \\rho(a) \\\\ \\\\\n",
    "& \\lt \\rho(a+l) - \\rho(a)\n",
    "\\end{align}$$"
   ]
  },
  {
   "cell_type": "markdown",
   "metadata": {
    "slideshow": {
     "slide_type": "slide"
    }
   },
   "source": [
    "## Aggregate Limits\n",
    "\n",
    "- Most policies have an aggregate limit (L) on losses.\n",
    "<br><br>\n",
    "$$\\begin{align} E[S_l] & = E[N] \\cdot E[X;l] \\\\ \\\\ \\text{Losses elimiated by aggregate limit L} & = E[S_l]-E[S_l;L]\n",
    "\\end{align}$$"
   ]
  },
  {
   "cell_type": "markdown",
   "metadata": {
    "slideshow": {
     "slide_type": "subslide"
    }
   },
   "source": [
    "- Formula for ILF with per-claim and aggregate limit.\n",
    "    - Assumes limits apply to losses only and ALAE is loaded multiplicatively.\n",
    "<br><br>\n",
    "$$\\begin{align}I(l,L) & = \\frac{m \\cdot \\varphi \\cdot E[S_l;L]\\cdot (1+u)}{m \\cdot \\varphi \\cdot E[S_b] \\cdot (1+u)} \\\\ \\\\\n",
    "& = \\frac{E[S_l;L]}{E[N] \\cdot E[X;b]}\n",
    "\\end{align}$$"
   ]
  },
  {
   "cell_type": "markdown",
   "metadata": {
    "slideshow": {
     "slide_type": "slide"
    }
   },
   "source": [
    "## Deductibles\n",
    "\n",
    "- We assume limits apply to losses only and ALAE is loaded separately.\n",
    "\n",
    "#### Straight Deductible\n",
    "\n"
   ]
  }
 ],
 "metadata": {
  "celltoolbar": "Slideshow",
  "kernelspec": {
   "display_name": "Python 3",
   "language": "python",
   "name": "python3"
  },
  "language_info": {
   "codemirror_mode": {
    "name": "ipython",
    "version": 3
   },
   "file_extension": ".py",
   "mimetype": "text/x-python",
   "name": "python",
   "nbconvert_exporter": "python",
   "pygments_lexer": "ipython3",
   "version": "3.7.1"
  }
 },
 "nbformat": 4,
 "nbformat_minor": 2
}
