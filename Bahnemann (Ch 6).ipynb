{
 "cells": [
  {
   "cell_type": "markdown",
   "metadata": {
    "slideshow": {
     "slide_type": "slide"
    }
   },
   "source": [
    "# Limits and Deductibles\n",
    "\n",
    "## Premium Concepts\n",
    "\n",
    "- <b>Risk Charge</b>: The extra premium collected by the insurer to cover:\n",
    "    1. Random fluctuations of losses about the expected values (process risk).\n",
    "    2. Uncertainty inherent in the selection of the parameters describing the loss process (parameter risk)."
   ]
  },
  {
   "cell_type": "markdown",
   "metadata": {
    "slideshow": {
     "slide_type": "subslide"
    }
   },
   "source": [
    "$$ \\text{Rate per unit exposure (R)} = \\frac{p +f}{1-v}$$<br><br>\n",
    "$$ \\text{Loss-cost multiplies ($\\Psi$)} = \\frac{1}{1-v}$$"
   ]
  },
  {
   "cell_type": "markdown",
   "metadata": {
    "slideshow": {
     "slide_type": "slide"
    }
   },
   "source": [
    "## Increased Limit Factors\n",
    "\n",
    "- Premium for basic limit is calculated and then multiplied by an ILF to get the full policy premium.<br><br>\n",
    "\n",
    "$$I(l) = \\frac{P_l}{P_b} = \\frac{\\text{Premium at policy per-claim limit $\\ell$}}{\\text{Premium at basic policy limit}} = \\frac{E_l[Y]}{E_b[Y]}$$"
   ]
  }
 ],
 "metadata": {
  "celltoolbar": "Slideshow",
  "kernelspec": {
   "display_name": "Python 3",
   "language": "python",
   "name": "python3"
  },
  "language_info": {
   "codemirror_mode": {
    "name": "ipython",
    "version": 3
   },
   "file_extension": ".py",
   "mimetype": "text/x-python",
   "name": "python",
   "nbconvert_exporter": "python",
   "pygments_lexer": "ipython3",
   "version": "3.7.1"
  }
 },
 "nbformat": 4,
 "nbformat_minor": 2
}
