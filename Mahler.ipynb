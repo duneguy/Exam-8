{
 "cells": [
  {
   "cell_type": "markdown",
   "metadata": {
    "slideshow": {
     "slide_type": "slide"
    }
   },
   "source": [
    "- Experience rating and merit rating modify an insured's rate above or below average."
   ]
  },
  {
   "cell_type": "markdown",
   "metadata": {
    "slideshow": {
     "slide_type": "slide"
    }
   },
   "source": [
    "## Are Teams/Risks Different From One Another?\n",
    "\n",
    "- If the teams/risks(within a class) were not different from each other, then the average value should fall within +/- 2 stds. of the mean. \n",
    "    - For baseball, there are only 2 outcomes, hence he uses binomial distribution."
   ]
  },
  {
   "cell_type": "markdown",
   "metadata": {
    "slideshow": {
     "slide_type": "slide"
    }
   },
   "source": [
    "## Methods to Test Shifting of Parameters\n",
    "\n",
    "1. Chi-square test\n",
    "2. Compare correlations between lagged years"
   ]
  },
  {
   "cell_type": "markdown",
   "metadata": {
    "slideshow": {
     "slide_type": "slide"
    }
   },
   "source": [
    "## Chi-Square Test\n",
    "\n",
    "<br><br>\n",
    "$$\\begin{align}\n",
    "\\chi^2 & = \\color{blue}{\\sum_{i=1}^n \\frac{(\\text{Actual Counts$_i$ - Expected Counts$_i$})^2}{\\text{Expected Counts$_i$}}} \\\\ \\\\\n",
    "& = \\sum_{i=1}^n \\frac{(\\text{$w_i \\cdot$ Actual Frequency$_i$ - $w_i \\cdot$ Expected Frequency$_i$})^2}{\\text{$w_i \\cdot$ Expected Frequency$_i$}} \\\\ \\\\\n",
    "& = \\color{blue}{\\sum_{i=1}^n \\frac{w_i \\cdot (\\text{Actual Frequency$_i$ - Expected Frequency$_i$})^2}{\\text{Expected Frequency$_i$}}}\n",
    "\\end{align}\n",
    "$$\n",
    "\n"
   ]
  },
  {
   "cell_type": "markdown",
   "metadata": {
    "slideshow": {
     "slide_type": "subslide"
    }
   },
   "source": [
    "- Degrees of freedom = n - 1"
   ]
  },
  {
   "cell_type": "markdown",
   "metadata": {
    "slideshow": {
     "slide_type": "slide"
    }
   },
   "source": [
    "<center><img src = 'images/Mahler_Chi_1.JPG'></center>"
   ]
  },
  {
   "cell_type": "markdown",
   "metadata": {
    "slideshow": {
     "slide_type": "subslide"
    }
   },
   "source": [
    "<center><img src = 'images/Mahler_Chi_2.JPG'></center>\n",
    "\n",
    "- Basically compare the actual with the expected that is calculated using the full dataset.\n"
   ]
  },
  {
   "cell_type": "markdown",
   "metadata": {
    "slideshow": {
     "slide_type": "slide"
    }
   },
   "source": [
    "## Comparing Correlations Between Years\n",
    "\n",
    "- Select data for all the teams that is x years apart.\n",
    "- Calculate correlation between the two vectors.\n",
    "- Take average of all such correlations that were x years apart.<br><br>\n",
    "\n",
    "<center><img src = 'images/Mahler_Corr_3.JPG'></center>"
   ]
  },
  {
   "cell_type": "markdown",
   "metadata": {
    "slideshow": {
     "slide_type": "subslide"
    }
   },
   "source": [
    "- If correlation between years that are closer together is greater than those further apart, this implies that risk parameters are shifting over time.<br><br>\n",
    "\n",
    "$$\\begin{align}\n",
    "\\text{Corr}(X,Y) & = \\frac{Cov(X,Y)}{\\sigma_X \\cdot \\sigma_Y} = \\frac{E\\big[(X-\\overline{X})(Y-\\overline{Y})\\big]}{\\sigma_X \\cdot \\sigma_Y} \\\\ \\\\\n",
    "& = \\frac{\\overline{XY}- \\overline{X} \\cdot \\overline{Y}}{\\sigma_X \\cdot \\sigma_Y} \\end{align}$$"
   ]
  },
  {
   "cell_type": "markdown",
   "metadata": {
    "slideshow": {
     "slide_type": "slide"
    }
   },
   "source": [
    "<center><img src = 'images/Mahler_Corr_1.JPG'></center>"
   ]
  },
  {
   "cell_type": "markdown",
   "metadata": {
    "slideshow": {
     "slide_type": "subslide"
    }
   },
   "source": [
    "<center><img src = 'images/Mahler_Corr_2.JPG'></center>"
   ]
  },
  {
   "cell_type": "markdown",
   "metadata": {
    "slideshow": {
     "slide_type": "slide"
    }
   },
   "source": [
    "# Credibility Options\n",
    "\n",
    "- $X_{est} = \\mu$<br>\n",
    "\n",
    "- $X_{est} = Y_1$<br>\n",
    "\n",
    "- $X_{est} = Z \\cdot Y_i + (1-Z) \\mu$<br>\n",
    "\n",
    "- $X_{est} = \\frac{Z}{n} \\sum_{i=1}^n Y_i + (1-Z) \\mu$<br>\n",
    "\n",
    "$\\begin{align} X_{est, i+1} &= Z \\cdot Y_i + (1-Z) X_{est,i} \\\\\n",
    "& = Z \\cdot Y_i + Z(1-Z) \\cdot Y_{i-1} + Z(1-Z)^2 \\cdot Y_{i-2} + \\cdots + (1-Z)^N \\cdot \\mu \\end{align}$<br>\n",
    "\n",
    "- $X_{est} = \\sum_{i=1}^n Z_i \\cdot Y_i + \\left(1-\\sum_{i=1}^n Z_i \\right) \\mu$<br><br>"
   ]
  },
  {
   "cell_type": "markdown",
   "metadata": {
    "slideshow": {
     "slide_type": "subslide"
    }
   },
   "source": [
    "<center><img src='images/Mahler_Cred_3.JPG'></center><br><br>\n",
    "<center><img src='images/Mahler_Cred_2.JPG'></center>"
   ]
  },
  {
   "cell_type": "markdown",
   "metadata": {
    "slideshow": {
     "slide_type": "slide"
    }
   },
   "source": [
    "## Criteria to Help Select Best Credibility \n",
    "<br><br>\n",
    "<b>Least Squared Error</b><br><br>\n",
    "\n",
    "$$ SSE = \\sum \\big(X_{\\text{est}} - X_{\\text{actual}}\\big)^2$$<br><br>\n",
    "$$ MSE = \\frac{SSE}{n}$$\n",
    "\n",
    "- The Buhlmann/Bayesian credibility methods attempt to minimize this criteria."
   ]
  },
  {
   "cell_type": "markdown",
   "metadata": {
    "slideshow": {
     "slide_type": "subslide"
    }
   },
   "source": [
    "<b>Limited Fluctuation</b> - Measures the prob that the actual result differs by more than a certain percent from the predicted result.<br><br>\n",
    "\n",
    "$$Pr \\left( \\frac{|X_{\\text{est}}-X_{\\text{actual}}|}{X_{\\text{est}}} > K\\% \\right)$$<br><br>\n",
    "\n",
    "<center><img src ='images/Mahler_lim.JPG'></center>"
   ]
  },
  {
   "cell_type": "markdown",
   "metadata": {
    "slideshow": {
     "slide_type": "subslide"
    }
   },
   "source": [
    "<b>Meyers/Dorweiler</b> - The optimal credibilities result in 0 correlation between the prediction values and the prediction errors.<br><br>\n",
    "\n",
    "<center><img src='images/Mahler_Meyers.JPG'></center>"
   ]
  }
 ],
 "metadata": {
  "celltoolbar": "Slideshow",
  "kernelspec": {
   "display_name": "Python 3",
   "language": "python",
   "name": "python3"
  },
  "language_info": {
   "codemirror_mode": {
    "name": "ipython",
    "version": 3
   },
   "file_extension": ".py",
   "mimetype": "text/x-python",
   "name": "python",
   "nbconvert_exporter": "python",
   "pygments_lexer": "ipython3",
   "version": "3.7.1"
  }
 },
 "nbformat": 4,
 "nbformat_minor": 2
}
