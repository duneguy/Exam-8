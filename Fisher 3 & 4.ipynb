{
 "cells": [
  {
   "cell_type": "markdown",
   "metadata": {
    "slideshow": {
     "slide_type": "slide"
    }
   },
   "source": [
    "- LDD policies are a lot more prevalent than retro policies.<br><br>\n",
    "\n",
    "- Both policies are basically same except for treatment of expenses, cashflow timing and terminology difference<br><br>\n",
    "\n",
    "$$\n",
    "\\begin{array}{c|c}\n",
    "\\text{LDD} & \\text{Retro}\\\\\n",
    "\\hline\n",
    "\\text{Per-occurence deductible} &  \\text{Loss limitation} \\\\\n",
    "\\text{Aggregate limit} &  \\text{Maximum loss}\n",
    "\\end{array}$$\n"
   ]
  },
  {
   "cell_type": "markdown",
   "metadata": {
    "slideshow": {
     "slide_type": "slide"
    }
   },
   "source": [
    "## Tables<br><br>\n",
    "\n",
    "- <b>Table M</b> - No per-occurence limit.\n",
    "    - $r = \\frac{A}{E}$<br><br>\n",
    "\n",
    "- <b>Table M$_D$</b> - When there is a per-occurence limit.\n",
    "    - $r_D = \\frac{A_D}{E_D}$<br><br>\n",
    "\n",
    "- <b>Table L</b> - Basically table M\n",
    "    - $r_L = \\frac{A_D}{E}$\n",
    "\n"
   ]
  },
  {
   "cell_type": "markdown",
   "metadata": {
    "slideshow": {
     "slide_type": "subslide"
    }
   },
   "source": [
    "- Using entry ratios allows you to use the tables for risks whose expected values fall within a range."
   ]
  },
  {
   "cell_type": "markdown",
   "metadata": {
    "slideshow": {
     "slide_type": "slide"
    }
   },
   "source": [
    "## Insurance Charge and Insurance Savings<br><br>\n",
    "\n",
    "- <b>Insurance Charge</b> - Ratio of agg losses above the entry ratio.\n",
    "\n",
    "- <b>Insurance Savings</b> - Ratio of agg losses falling below the entry ratio.<br><br>\n",
    "\n",
    "<table><tr><td>\n",
    "$\\LARGE{\\begin{align} \\phi(r) & = \\int^\\infty_r (y-r) dF(y) \\qquad \\qquad \\qquad  \\qquad \\qquad \\qquad\\\\ \\\\ \\\\ \\psi(r) & = \\int^r_0 (r-y) dF(y) \\end{align}}$ </td><td><img src='images/Table_M.JPG'></td></tr></table>\n",
    "\n",
    "\n"
   ]
  },
  {
   "cell_type": "markdown",
   "metadata": {
    "slideshow": {
     "slide_type": "slide"
    }
   },
   "source": [
    "#### Layer vs Size View<br><br>\n",
    "\n",
    "<center><img src='images/Layer_vs_Size.JPG'></center>"
   ]
  },
  {
   "cell_type": "markdown",
   "metadata": {
    "slideshow": {
     "slide_type": "subslide"
    }
   },
   "source": [
    "- F(x) / F(y) are CDFs that go from 0 to 1\n",
    "    - Only Lee uses F(x) notation"
   ]
  },
  {
   "cell_type": "markdown",
   "metadata": {
    "slideshow": {
     "slide_type": "slide"
    }
   },
   "source": [
    "## Table M<br><br>\n",
    "\n",
    "- Constructed using horizontal slice method.<br><br>\n",
    "\n",
    "- $r_G = \\frac{L_G}{E[A]} \\text{ and } r_H = \\frac{L_H}{E[A]}$<br><br>\n",
    "\n",
    "- $r= 1- \\phi(r) + \\psi(r) \\qquad \\Longrightarrow \\qquad \\color{blue}{\\psi(r) = \\phi(r) + r - 1}$"
   ]
  },
  {
   "cell_type": "markdown",
   "metadata": {
    "slideshow": {
     "slide_type": "subslide"
    }
   },
   "source": [
    "- Use linear interpolation to calculate insurance charge between entry ratios."
   ]
  },
  {
   "cell_type": "markdown",
   "metadata": {
    "slideshow": {
     "slide_type": "slide"
    }
   },
   "source": [
    "<center><img src='images/Table_M_Construction_1.JPG'></center>"
   ]
  },
  {
   "cell_type": "markdown",
   "metadata": {
    "slideshow": {
     "slide_type": "subslide"
    }
   },
   "source": [
    "<center><img src='images/Table_M_Construction_4.JPG'></center>\n",
    "<center><img src='images/Table_M_Construction_2.JPG'></center>\n"
   ]
  },
  {
   "cell_type": "markdown",
   "metadata": {
    "slideshow": {
     "slide_type": "subslide"
    }
   },
   "source": [
    "<center><img src='images/Table_M_Construction_3.JPG'></center>\n"
   ]
  },
  {
   "cell_type": "markdown",
   "metadata": {
    "slideshow": {
     "slide_type": "subslide"
    }
   },
   "source": [
    "<center><img src='images/Table_M_Construction_5.JPG'></center>"
   ]
  },
  {
   "cell_type": "markdown",
   "metadata": {
    "slideshow": {
     "slide_type": "slide"
    }
   },
   "source": [
    "<center><img src='images/Fisher_Error_1.JPG'></center><br>\n",
    "<center><img src='images/Fisher_Error_2.JPG'></center>"
   ]
  },
  {
   "cell_type": "markdown",
   "metadata": {
    "slideshow": {
     "slide_type": "subslide"
    }
   },
   "source": [
    "<center><img src='images/Fisher_Error_3.JPG'></center>"
   ]
  },
  {
   "cell_type": "markdown",
   "metadata": {
    "slideshow": {
     "slide_type": "slide"
    }
   },
   "source": [
    "- Some policies of even same size are riskier than others.\n",
    "    - We adjust their expected losses.<br><br>\n",
    "\n",
    "\n",
    "<center>Adjusted Expect Loss = E[A] x State Hazard Group Differential</center>"
   ]
  },
  {
   "cell_type": "markdown",
   "metadata": {
    "slideshow": {
     "slide_type": "slide"
    }
   },
   "source": [
    "## Retro Rating<br><br>\n",
    "\n",
    "- R = (B + CL)T<br><br>\n",
    "\n",
    "<center><img src='images/Fisher_3.2_1.JPG'></center>"
   ]
  },
  {
   "cell_type": "markdown",
   "metadata": {
    "slideshow": {
     "slide_type": "slide"
    }
   },
   "source": [
    "<center><img src='images/Fisher_3.2.JPG'></center><br>\n",
    "\n",
    "- E[L] is the ratable loss under the retro  policy\n",
    "    - You get charged for (r$_1 \\cdot E$) at minimum"
   ]
  },
  {
   "cell_type": "markdown",
   "metadata": {
    "slideshow": {
     "slide_type": "subslide"
    }
   },
   "source": [
    "<center><img src='images/Fisher_3.2_2.JPG'></center>"
   ]
  },
  {
   "cell_type": "markdown",
   "metadata": {
    "slideshow": {
     "slide_type": "slide"
    }
   },
   "source": [
    "## Balance Equations<br><br>\n",
    "\n",
    "#### Table M & L\n",
    "\n",
    "$$\\begin{align}\\phi^L(r_H) - \\phi^L(r_G) = \\phi(r_H) - \\phi(r_G) & = \\frac{(e+E[A])T - H}{c \\cdot E[A] \\cdot T} \\qquad \\text{(Only true if plan is balanced)}\\\\ \\\\\n",
    "r_G - r_H & = \\frac{G-H}{c \\cdot E[A] \\cdot T}  \\qquad \\qquad \\text{(Always true)}      \\end{align}$$"
   ]
  },
  {
   "cell_type": "markdown",
   "metadata": {
    "slideshow": {
     "slide_type": "subslide"
    }
   },
   "source": [
    "#### Table M$_D$\n",
    "\n",
    "$$\\begin{align} \\phi(r_H) - \\phi(r_G) & = \\frac{(e+E[A])T - H}{c \\cdot E[A_D] \\cdot T} \\qquad \\text{(Only true if plan is balanced)}\\\\ \\\\\n",
    "r_G - r_H & = \\frac{G-H}{c \\cdot E[A_D] \\cdot T}  \\qquad \\qquad \\text{(Always true)}      \\end{align}$$"
   ]
  }
 ],
 "metadata": {
  "celltoolbar": "Slideshow",
  "kernelspec": {
   "display_name": "Python 3",
   "language": "python",
   "name": "python3"
  },
  "language_info": {
   "codemirror_mode": {
    "name": "ipython",
    "version": 3
   },
   "file_extension": ".py",
   "mimetype": "text/x-python",
   "name": "python",
   "nbconvert_exporter": "python",
   "pygments_lexer": "ipython3",
   "version": "3.7.1"
  }
 },
 "nbformat": 4,
 "nbformat_minor": 2
}
