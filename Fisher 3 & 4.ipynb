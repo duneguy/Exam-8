{
 "cells": [
  {
   "cell_type": "markdown",
   "metadata": {
    "slideshow": {
     "slide_type": "slide"
    }
   },
   "source": [
    "- LDD policies are a lot more prevalent than retro policies.<br><br>\n",
    "\n",
    "- Both policies are basically same except for treatment of expenses, cashflow timing and terminology difference<br><br>\n",
    "\n",
    "$$\n",
    "\\begin{array}{c|c}\n",
    "\\text{LDD} & \\text{Retro}\\\\\n",
    "\\hline\n",
    "\\text{Per-occurence deductible} &  \\text{Loss limitation} \\\\\n",
    "\\text{Aggregate limit} &  \\text{Maximum loss}\n",
    "\\end{array}$$\n"
   ]
  },
  {
   "cell_type": "markdown",
   "metadata": {
    "slideshow": {
     "slide_type": "slide"
    }
   },
   "source": [
    "## Tables<br><br>\n",
    "\n",
    "- <b>Table M</b> - No per-occurence limit.\n",
    "    - $r = \\frac{A}{E}$<br><br>\n",
    "\n",
    "- <b>Table M$_D$</b> - When there is a per-occurence limit.\n",
    "    - $r_D = \\frac{A_D}{E_D}$<br><br>\n",
    "\n",
    "- <b>Table L</b> - Has per-occurence limit. Includes k in insurance charge.\n",
    "    - $r_L = \\frac{A_D}{E}$\n",
    "\n"
   ]
  },
  {
   "cell_type": "markdown",
   "metadata": {
    "slideshow": {
     "slide_type": "subslide"
    }
   },
   "source": [
    "- Using entry ratios allows you to use the tables for risks whose expected values fall within a range."
   ]
  },
  {
   "cell_type": "markdown",
   "metadata": {
    "slideshow": {
     "slide_type": "slide"
    }
   },
   "source": [
    "## Insurance Charge and Insurance Savings<br><br>\n",
    "\n",
    "- <b>Insurance Charge</b> - Ratio of agg losses above the entry ratio.\n",
    "\n",
    "- <b>Insurance Savings</b> - Ratio of agg losses falling below the entry ratio.<br><br>\n",
    "\n",
    "<table><tr><td>\n",
    "$\\LARGE{\\begin{align} \\phi(r) & = \\int^\\infty_r (y-r) dF(y) \\qquad \\qquad \\qquad  \\qquad \\qquad \\qquad\\\\ \\\\ \\\\ \\psi(r) & = \\int^r_0 (r-y) dF(y) \\end{align}}$ </td><td><img src='images/Table_M.JPG'></td></tr></table>\n",
    "\n",
    "\n"
   ]
  },
  {
   "cell_type": "markdown",
   "metadata": {
    "slideshow": {
     "slide_type": "slide"
    }
   },
   "source": [
    "#### Layer vs Size View<br><br>\n",
    "\n",
    "<center><img src='images/Layer_vs_Size.JPG'></center>"
   ]
  },
  {
   "cell_type": "markdown",
   "metadata": {
    "slideshow": {
     "slide_type": "subslide"
    }
   },
   "source": [
    "- F(x) / F(y) are CDFs that go from 0 to 1\n",
    "    - Only Lee uses F(x) notation"
   ]
  },
  {
   "cell_type": "markdown",
   "metadata": {
    "slideshow": {
     "slide_type": "slide"
    }
   },
   "source": [
    "## Table M<br><br>\n",
    "\n",
    "- Constructed using horizontal slice method.<br><br>\n",
    "\n",
    "- $r_G = \\frac{L_G}{E[A]} \\text{ and } r_H = \\frac{L_H}{E[A]}$<br><br>\n",
    "\n",
    "- $r= 1- \\phi(r) + \\psi(r) \\qquad \\Longrightarrow \\qquad \\color{blue}{\\psi(r) = \\phi(r) + r - 1}\\qquad \\text{(Table L, M$_D$ and L)}$"
   ]
  },
  {
   "cell_type": "markdown",
   "metadata": {
    "slideshow": {
     "slide_type": "subslide"
    }
   },
   "source": [
    "- Use linear interpolation to calculate insurance charge between entry ratios."
   ]
  },
  {
   "cell_type": "markdown",
   "metadata": {
    "slideshow": {
     "slide_type": "slide"
    }
   },
   "source": [
    "<center><img src='images/Table_M_Construction_1.JPG'></center>"
   ]
  },
  {
   "cell_type": "markdown",
   "metadata": {
    "slideshow": {
     "slide_type": "subslide"
    }
   },
   "source": [
    "<center><img src='images/Table_M_Construction_4.JPG'></center>\n",
    "<center><img src='images/Table_M_Construction_2.JPG'></center>\n"
   ]
  },
  {
   "cell_type": "markdown",
   "metadata": {
    "slideshow": {
     "slide_type": "subslide"
    }
   },
   "source": [
    "<center><img src='images/Table_M_Construction_3.JPG'></center>\n"
   ]
  },
  {
   "cell_type": "markdown",
   "metadata": {
    "slideshow": {
     "slide_type": "subslide"
    }
   },
   "source": [
    "<center><img src='images/Table_M_Construction_5.JPG'></center>"
   ]
  },
  {
   "cell_type": "markdown",
   "metadata": {
    "slideshow": {
     "slide_type": "slide"
    }
   },
   "source": [
    "<center><img src='images/Fisher_Error_1.JPG'></center><br>\n",
    "<center><img src='images/Fisher_Error_2.JPG'></center>"
   ]
  },
  {
   "cell_type": "markdown",
   "metadata": {
    "slideshow": {
     "slide_type": "subslide"
    }
   },
   "source": [
    "<center><img src='images/Fisher_Error_3.JPG'></center>"
   ]
  },
  {
   "cell_type": "markdown",
   "metadata": {
    "slideshow": {
     "slide_type": "slide"
    }
   },
   "source": [
    "- Some policies of even same size are riskier than others.\n",
    "    - We adjust their expected losses.<br><br>\n",
    "\n",
    "\n",
    "<center>Adjusted Expect Loss = E[A] x State Hazard Group Differential</center>"
   ]
  },
  {
   "cell_type": "markdown",
   "metadata": {
    "slideshow": {
     "slide_type": "slide"
    }
   },
   "source": [
    "## Retro Rating<br><br>\n",
    "\n",
    "#### Table M\n",
    "\n",
    "$$\\begin{align} R & = (B + CL)T \\\\ \\\\\n",
    "B & = e - (c-1)E[A] + cI  \\qquad \\text{(Only true if plan is balanced)} \\end{align}$$<br><br>\n",
    "\n",
    "<center><img src='images/Fisher_3.2_1.JPG'></center>"
   ]
  },
  {
   "cell_type": "markdown",
   "metadata": {
    "slideshow": {
     "slide_type": "subslide"
    }
   },
   "source": [
    "#### Table M$_D$\n",
    "\n",
    "$$\\begin{align} R & = (B^{LM} + C L_D)T \\\\ \\\\\n",
    "B^{LM} & = e - (c-1)E[A] + c(I^{LM}+k \\cdot E[A])\\end{align}$$<br><br>\n",
    "\n",
    "$$  L_D =\n",
    "\\begin{cases}\n",
    "r^*_H \\cdot E[A_D]  & \\text{if $A_D \\leq L_H$} \\\\ \\\\\n",
    "A_D & \\text{if $L_H \\lt A_D \\lt L_G$} \\\\ \\\\\n",
    "r^*_G \\cdot E[A_D] & \\text{if $A_D \\geq L_G$}\n",
    "\\end{cases}$$"
   ]
  },
  {
   "cell_type": "markdown",
   "metadata": {
    "slideshow": {
     "slide_type": "subslide"
    }
   },
   "source": [
    "$$k = \\frac{E[A]-E[A_D]}{E[A]}$$"
   ]
  },
  {
   "cell_type": "markdown",
   "metadata": {
    "slideshow": {
     "slide_type": "slide"
    }
   },
   "source": [
    "<center><img src='images/Fisher_3.2.JPG'></center><br>\n",
    "\n",
    "- E[L] is the ratable loss under the retro  policy\n",
    "    - You get charged for (r$_1 \\cdot E$) at minimum"
   ]
  },
  {
   "cell_type": "markdown",
   "metadata": {
    "slideshow": {
     "slide_type": "subslide"
    }
   },
   "source": [
    "<center><img src='images/Fisher_3.2_2.JPG'></center>"
   ]
  },
  {
   "cell_type": "markdown",
   "metadata": {
    "slideshow": {
     "slide_type": "slide"
    }
   },
   "source": [
    "<center><img src='images/Fisher_Retro_1.JPG'></center>"
   ]
  },
  {
   "cell_type": "markdown",
   "metadata": {
    "slideshow": {
     "slide_type": "subslide"
    }
   },
   "source": [
    "<center><img src='images/Fisher_Retro_2.JPG'></center>"
   ]
  },
  {
   "cell_type": "markdown",
   "metadata": {
    "slideshow": {
     "slide_type": "subslide"
    }
   },
   "source": [
    "<center><img src='images/Fisher_Retro_3.JPG'></center>"
   ]
  },
  {
   "cell_type": "markdown",
   "metadata": {
    "slideshow": {
     "slide_type": "subslide"
    }
   },
   "source": [
    "<center><img src='images/Fisher_Retro_4.JPG'></center>"
   ]
  },
  {
   "cell_type": "markdown",
   "metadata": {
    "slideshow": {
     "slide_type": "subslide"
    }
   },
   "source": [
    "<center><img src='images/Fisher_Retro_5.JPG'></center><br><br>\n",
    "\n",
    "- Or, you can just calculate the expected ratable losses and substitute them for E[L]."
   ]
  },
  {
   "cell_type": "markdown",
   "metadata": {
    "slideshow": {
     "slide_type": "slide"
    }
   },
   "source": [
    "## Balance Equations<br><br>\n",
    "\n",
    "#### Table M & L\n",
    "\n",
    "$$\\begin{align}\\phi^L(r_H) - \\phi^L(r_G) = \\phi(r_H) - \\phi(r_G) & = \\frac{(e+E[A])T - H}{c \\cdot E[A] \\cdot T} \\qquad \\text{(Only true if plan is balanced)}\\\\ \\\\\n",
    "r_G - r_H & = \\frac{G-H}{c \\cdot E[A] \\cdot T}  \\qquad \\qquad \\text{(Always true)}      \\end{align}$$"
   ]
  },
  {
   "cell_type": "markdown",
   "metadata": {
    "slideshow": {
     "slide_type": "subslide"
    }
   },
   "source": [
    "#### Table M$_D$\n",
    "\n",
    "$$\\begin{align} \\phi(r_H) - \\phi(r_G) & = \\frac{(e+E[A])T - H}{c \\cdot E[A_D] \\cdot T} \\qquad \\text{(Only true if plan is balanced)}\\\\ \\\\\n",
    "r_G - r_H & = \\frac{G-H}{c \\cdot E[A_D] \\cdot T}  \\qquad \\qquad \\text{(Always true)}      \\end{align}$$"
   ]
  },
  {
   "cell_type": "markdown",
   "metadata": {
    "slideshow": {
     "slide_type": "slide"
    }
   },
   "source": [
    "- Presence of occurence limit reduces the variance of aggregate losses\n",
    "    - aka flattens the agg curve\n",
    "    - Lower the occurence limit, less the variance in severity and agg distributions."
   ]
  },
  {
   "cell_type": "markdown",
   "metadata": {
    "slideshow": {
     "slide_type": "slide"
    }
   },
   "source": [
    "## Estimating XS Losses - Table M$_D$ vs Table L<br><br>\n",
    "\n",
    "- Table M$_D$ - Insurance charge is just limited aggregate xs losses \n",
    "    - Then we add k<br><br>\n",
    "\n",
    "- Table L - Insurance charge is  limited agg xs losses + k\n",
    "\n"
   ]
  },
  {
   "cell_type": "markdown",
   "metadata": {
    "slideshow": {
     "slide_type": "subslide"
    }
   },
   "source": [
    "- Table M$_D$ and L - Separate table needs to be built for each occurence limit.<br><br>\n",
    "\n",
    "#### ICRLL Approximation\n",
    "\n",
    "- Instead of having to create separate table for each occurence limit, we can also just adjust expected losses to be higher\n",
    "    - Use agg curve with lower variance<br><br>\n",
    "    \n",
    "$$\\text{Adjusted Exp Loss} = E[A] \\cdot \\text{State HG Differential} \\cdot \\frac{1+.8k}{1-k}$$<br><br>\n",
    "\n",
    "- Still need to use Table M$_D$ balance equations."
   ]
  },
  {
   "cell_type": "markdown",
   "metadata": {
    "slideshow": {
     "slide_type": "slide"
    }
   },
   "source": [
    "<center><img src='images/Fisher_LM_1.JPG'></center>"
   ]
  },
  {
   "cell_type": "markdown",
   "metadata": {
    "slideshow": {
     "slide_type": "subslide"
    }
   },
   "source": [
    "<center><img src='images/Fisher_LM_2.JPG'></center><br>\n",
    "<center><img src='images/Fisher_LM_3.JPG'></center>"
   ]
  },
  {
   "cell_type": "markdown",
   "metadata": {
    "slideshow": {
     "slide_type": "subslide"
    }
   },
   "source": [
    "<center><img src='images/Fisher_LM_4.JPG'></center>"
   ]
  },
  {
   "cell_type": "markdown",
   "metadata": {
    "slideshow": {
     "slide_type": "slide"
    }
   },
   "source": [
    "<center><img src='images/Fisher_L_1.JPG'></center>"
   ]
  },
  {
   "cell_type": "markdown",
   "metadata": {
    "slideshow": {
     "slide_type": "subslide"
    }
   },
   "source": [
    "<center><img src='images/Fisher_L_2.JPG'></center>"
   ]
  },
  {
   "cell_type": "markdown",
   "metadata": {
    "slideshow": {
     "slide_type": "subslide"
    }
   },
   "source": [
    "<center><img src='images/Fisher_L_3.JPG'></center>"
   ]
  },
  {
   "cell_type": "markdown",
   "metadata": {
    "slideshow": {
     "slide_type": "subslide"
    }
   },
   "source": [
    "<center><img src='images/Fisher_L_4.JPG'></center>"
   ]
  }
 ],
 "metadata": {
  "celltoolbar": "Slideshow",
  "kernelspec": {
   "display_name": "Python 3",
   "language": "python",
   "name": "python3"
  },
  "language_info": {
   "codemirror_mode": {
    "name": "ipython",
    "version": 3
   },
   "file_extension": ".py",
   "mimetype": "text/x-python",
   "name": "python",
   "nbconvert_exporter": "python",
   "pygments_lexer": "ipython3",
   "version": "3.7.1"
  }
 },
 "nbformat": 4,
 "nbformat_minor": 2
}
