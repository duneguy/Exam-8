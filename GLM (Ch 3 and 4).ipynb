{
 "cells": [
  {
   "cell_type": "markdown",
   "metadata": {
    "slideshow": {
     "slide_type": "slide"
    }
   },
   "source": [
    "## Communication with key stakeholders\n",
    "\n",
    "- Legal and Regulatory compliance\n",
    "- IT\n",
    "- Agents/Underwriters"
   ]
  },
  {
   "cell_type": "markdown",
   "metadata": {
    "slideshow": {
     "slide_type": "slide"
    }
   },
   "source": [
    "## Conducting Exploratory Data Analysis\n",
    "\n",
    "- Plot predictor variable vs target variable to see what transformation to apply.\n",
    "- Plot continuous variables vs each other, to see the correlation between them."
   ]
  },
  {
   "cell_type": "markdown",
   "metadata": {
    "slideshow": {
     "slide_type": "slide"
    }
   },
   "source": [
    "## Questions to ask when merging premium and claims data\n",
    "\n",
    "- Timing differences - when are they updated?\n",
    "    - Once a month? daily?\n",
    "- Is there a unique key to match the two databases?\n",
    "- Level of aggregation before merging?\n",
    "    - CY?\n",
    "    - Policy vs claimant/coverage level?\n",
    "    - Business vs location level?\n",
    "- Are there fields that can be dropped?\n",
    "- Any fields that need to be added to these databases?"
   ]
  },
  {
   "cell_type": "markdown",
   "metadata": {
    "slideshow": {
     "slide_type": "slide"
    }
   },
   "source": [
    "## Cleaning Data\n",
    "\n",
    "- Remove duplicate records.\n",
    "- Check for valid field values.\n",
    "- Reasonability check on numerical fields."
   ]
  },
  {
   "cell_type": "markdown",
   "metadata": {
    "slideshow": {
     "slide_type": "slide"
    }
   },
   "source": [
    "## Splitting the Data\n",
    "<br>\n",
    "- <b>Training set:</b> Use this dataset to select variables, determine appropriate transformations, choosing distributions, etc.<br><br>\n",
    "- <b>Test set:</b> Used to assess the performance of the model, and may also be used to choose among several candidate models."
   ]
  },
  {
   "cell_type": "markdown",
   "metadata": {
    "slideshow": {
     "slide_type": "subslide"
    }
   },
   "source": [
    "- For a GLM, model complexity is measured in the terms of <b>degrees of freedom</b>, or the number of parameters estimated by the model-fitting procedure.\n",
    "    - Continuous variables - depends on number of included polynomial terms.\n",
    "        - Base case is just adding x term.\n",
    "    - Categorical variables - degree is added for every non-base level.<br><br>\n",
    "    \n",
    "<center><img src='images/Train_vs_Test.JPG'></center>"
   ]
  },
  {
   "cell_type": "markdown",
   "metadata": {
    "slideshow": {
     "slide_type": "slide"
    }
   },
   "source": [
    "## Model Testing Strategies\n",
    "\n",
    "- <b>Train and Test:</b> Only use the test set for measuring model performance at the end. Typical splits are 60-40 or 70-30.\n",
    "    - Can be split randomly or based on time.\n",
    "        - Split based on time is better since model validation is performed \"out of time\" in addition to out-of-sample.\n",
    "            - Out-of-time better when modeling perils like wind, etc."
   ]
  },
  {
   "cell_type": "markdown",
   "metadata": {
    "slideshow": {
     "slide_type": "subslide"
    }
   },
   "source": [
    "- <b>Train, Validation and Test:</b> Validation set is used to refine the model. Typical split is 40-30-30.\n",
    "    - If validation set is used too much, then it becomes train dataset.\n",
    "    - Once final model chosen, use all of the data so that the parameter estimates are most credible.<br><br>\n",
    "\n",
    "- <b>Cross Validation:</b> use multiple splits of data to build and test model performance.\n",
    "    - k-fold cross validation\n",
    "        - Split data into k groups.\n",
    "        - Train on k-1 folds and test on last fold.\n",
    "    - Superior to train/test split since all of the data is used to build model.\n",
    "    - Not best for insurance models since variables and levels are carefully chosen."
   ]
  }
 ],
 "metadata": {
  "celltoolbar": "Slideshow",
  "kernelspec": {
   "display_name": "Python 3",
   "language": "python",
   "name": "python3"
  },
  "language_info": {
   "codemirror_mode": {
    "name": "ipython",
    "version": 3
   },
   "file_extension": ".py",
   "mimetype": "text/x-python",
   "name": "python",
   "nbconvert_exporter": "python",
   "pygments_lexer": "ipython3",
   "version": "3.7.1"
  }
 },
 "nbformat": 4,
 "nbformat_minor": 2
}
