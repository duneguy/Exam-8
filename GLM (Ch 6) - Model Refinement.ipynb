{
 "cells": [
  {
   "cell_type": "markdown",
   "metadata": {
    "slideshow": {
     "slide_type": "slide"
    }
   },
   "source": [
    "# Measures of Model Fit\n",
    "- Log-Likelihood\n",
    "- Deviance"
   ]
  },
  {
   "cell_type": "markdown",
   "metadata": {
    "slideshow": {
     "slide_type": "slide"
    }
   },
   "source": [
    "## Log-Likelihood\n",
    "\n",
    "- GLM produces mean and dispersion values. These together with the selected distribution give you the probability of observing the outcome.\n",
    "    - Multiply prob(outcomes) for each record $\\rightarrow$ likelihood.\n",
    "        - GLM is fit by finding parameters that maximize the likelihood.\n",
    "        - Log(likelihood) since these numbers are extremely small.\n",
    "\n",
    "\n"
   ]
  },
  {
   "cell_type": "markdown",
   "metadata": {
    "slideshow": {
     "slide_type": "subslide"
    }
   },
   "source": [
    "- Log-likelihood scale:\n",
    "    - <b>Null Model:</b>  No predictors. Only intercept term.\n",
    "    - <b>Saturated Model:</b> One predictor for each record.<br><br>\n",
    "\n",
    "$$\\require{AMScd}\n",
    "\\begin{CD}\n",
    "    \\text{Null Model} @<worse<< \\text{Model} @>better>> \\text{Saturated Model}\n",
    "\\end{CD}$$\n"
   ]
  },
  {
   "cell_type": "markdown",
   "metadata": {
    "slideshow": {
     "slide_type": "slide"
    }
   },
   "source": [
    "## Deviance\n",
    "<br><br>\n",
    "$$ \\text{Deviance = } 2 \\cdot (ll_{saturated} - ll_{model})$$\n",
    "<br>\n",
    "- Can be thought of as the magnitude by which the model is far from \"perfect\" model.\n",
    "- Fitted GLM coefficients minimize deviance.\n",
    "- Adding predictors always reduces deviance since more degrees of freedom."
   ]
  },
  {
   "cell_type": "markdown",
   "metadata": {
    "slideshow": {
     "slide_type": "slide"
    }
   },
   "source": [
    "## Limitations on the Use of Log-Likelihood and Deviance\n",
    "\n",
    "1. When comparing two models, comparison only valid if datasets used are identical.\n",
    "    - If different datasets then sum of log-likelihood would be necessarily different.\n",
    "    - When adding variables, some rows could be dropped which invalidates this comparison.<br><br>\n",
    "2. The assumed distribution and the dispersion parameter must be identical.  "
   ]
  },
  {
   "cell_type": "markdown",
   "metadata": {
    "slideshow": {
     "slide_type": "slide"
    }
   },
   "source": [
    "# Comparing Models\n",
    "\n",
    "- <b>F-Test</b> for nested models\n",
    "- AIC (preferred by authors)\n",
    "- BIC\n",
    "- Deviance Residuals"
   ]
  },
  {
   "cell_type": "markdown",
   "metadata": {
    "slideshow": {
     "slide_type": "slide"
    }
   },
   "source": [
    "## F-Test\n",
    "\n",
    "- Only valid if a model is subset of another model (i.e. model after removing a variable)."
   ]
  }
 ],
 "metadata": {
  "celltoolbar": "Slideshow",
  "kernelspec": {
   "display_name": "Python 3",
   "language": "python",
   "name": "python3"
  },
  "language_info": {
   "codemirror_mode": {
    "name": "ipython",
    "version": 3
   },
   "file_extension": ".py",
   "mimetype": "text/x-python",
   "name": "python",
   "nbconvert_exporter": "python",
   "pygments_lexer": "ipython3",
   "version": "3.7.1"
  }
 },
 "nbformat": 4,
 "nbformat_minor": 2
}
