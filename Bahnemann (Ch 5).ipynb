{
 "cells": [
  {
   "cell_type": "markdown",
   "metadata": {
    "slideshow": {
     "slide_type": "slide"
    }
   },
   "source": [
    "# Chapter 5 (Excess Claims)<br><br>\n",
    "\n",
    "- Used in the case of a deductible or excess coverages.\n",
    "\n",
    "$$Y =\n",
    "\\begin{cases}\n",
    "0  & \\text{if $0 \\le X \\le a$ } \\\\[1ex]\n",
    "X - a & \\text{if $a < X < \\infty $}\n",
    "\\end{cases}$$\n",
    "\n",
    "- $E[Y] = E[X] - E[X;a]$ \n",
    "- $F_Y(0) = F_X(a)$<br><br>\n",
    "\n"
   ]
  },
  {
   "cell_type": "markdown",
   "metadata": {
    "slideshow": {
     "slide_type": "subslide"
    }
   },
   "source": [
    "- Since insurers don't care about Y=0, they look at this as <b>truncated</b> from below and <b>shifted</b> variable:<br><br>\n",
    "\n",
    "$$X_a = X - a, \\qquad{a < X < \\infty}$$<br><br>\n",
    "$$\\begin{align} f_{X_a}(x) & = \\frac{f_X(x+a)}{1-F_X(a)} \\\\ \\\\\n",
    "F_{X_a}(x) & = \\frac{F_X(x+a) - F_X(a)}{1-F_X(a)}\n",
    "\\end{align}$$\n"
   ]
  },
  {
   "cell_type": "markdown",
   "metadata": {
    "slideshow": {
     "slide_type": "subslide"
    }
   },
   "source": [
    "- Mean residual life / excess severity at a:<br><br>\n",
    "\n",
    "$$\\begin{align}E[X_a] = e(a) = e_X(a) & = \\frac{E[X] - E[X;a]}{1-F_X(a)} \\\\ \\\\\n",
    "E[X_a;l] & = \\frac{E[X;a+l] - E[X;a]}{1-F_X(a)}\n",
    "\\end{align}$$"
   ]
  },
  {
   "cell_type": "markdown",
   "metadata": {
    "slideshow": {
     "slide_type": "subslide"
    }
   },
   "source": [
    "- If a claim-size random variable X has exponential distribution with mean, $\\beta$, then the excess claim size $X_d$ and unlimited claim size $X$ have the same distribution. <br><br>\n",
    "\n",
    "- If a claim-size random variable has a Pareto distribution then, the excess claim size $X_d$ is also Pareto-distributed with parameters ($\\alpha, d + \\beta$). \n",
    "\n",
    "$$E[X_d] = \\frac{d + \\beta}{\\alpha - 1}$$\n"
   ]
  },
  {
   "cell_type": "markdown",
   "metadata": {
    "slideshow": {
     "slide_type": "slide"
    }
   },
   "source": [
    "<table><tr><td><img src='images/5.1.1.JPG'></td><td><img src='images/5.1.2.JPG'><img src='images/5.1.3.JPG'> <img src='images/5.1.4.JPG'></td></tr></table>"
   ]
  },
  {
   "cell_type": "markdown",
   "metadata": {
    "slideshow": {
     "slide_type": "slide"
    }
   },
   "source": [
    "<center><img src='images/Excess_Severity_Graphs.JPG'></center>\n",
    "\n",
    "- The shape of the excess severity function may support the use of particular family of distributions."
   ]
  },
  {
   "cell_type": "markdown",
   "metadata": {
    "slideshow": {
     "slide_type": "slide"
    }
   },
   "source": [
    "<center><img src='images/5.2.1.JPG'></center>\n",
    "<center><img src='images/5.2.2.JPG'></center>\n"
   ]
  },
  {
   "cell_type": "markdown",
   "metadata": {
    "slideshow": {
     "slide_type": "subslide"
    }
   },
   "source": [
    "- We can use the calculated excess severities to fit a line.\n",
    "    - The fitted line can then be used to calculate distribution parameters (example for Pareto)\n",
    "        \n",
    "<br>\n",
    "<center><img src='images/XS_Sev_Params.JPG'></center>\n",
    "\n",
    "- Need to be careful because the calculated slope is very sensitive to large claims.\n",
    "\n"
   ]
  },
  {
   "cell_type": "markdown",
   "metadata": {
    "slideshow": {
     "slide_type": "slide"
    }
   },
   "source": [
    "## Layers of Coverage\n",
    "\n",
    "#### Layer vs Interval\n",
    "\n",
    "- See below for contribution of losses to [500 , 1,500]\n",
    "\n",
    "$$\n",
    "\\begin{array}{c|c|c}\n",
    "\\text{Loss Size} & \\text{Contribution to Interval} & \\text{Contribution to Layer} \\\\\n",
    "\\hline\n",
    "250 & 0 & 0\\\\\n",
    "1,000 & 1,000 & 500 \\\\\n",
    "2,000 & 0 & 1,000 \n",
    "\\end{array}\n",
    "$$\n",
    "\n",
    "- When we are looking at Umbrella losses, we are taking layers of losses perspective since we are still paying the limit for losses above the limit."
   ]
  },
  {
   "cell_type": "markdown",
   "metadata": {
    "slideshow": {
     "slide_type": "subslide"
    }
   },
   "source": [
    "- Deductible is applied after the policy limit.\n",
    "- Layers of interest when using deductible and underlying limits:\n",
    "\n",
    "$$\n",
    "\\begin{array}{c|c|c}\n",
    "\\text{Type} & \\text{Layer} & \\text{Expected Loss}\\\\\n",
    "\\hline\n",
    "\\text{Deductible} & \\text{(a , l]} & E[X_a;l-a] \\\\\n",
    "\\text{Underlying limit} & \\text{(a , a+l]} & E[X_a;l] \n",
    "\\end{array}\n",
    "$$"
   ]
  },
  {
   "cell_type": "markdown",
   "metadata": {
    "slideshow": {
     "slide_type": "slide"
    }
   },
   "source": [
    "$$ \\begin{align} \n",
    "E[X_{a,l}] = E[X_a;l] & = \\frac{E[X;a+l]-E[X;a]}{1-F_X(a)} \\\\  \\\\ \n",
    "E[X^2_a;l] & = \\frac{E[X^2;a+l]-E[X^2;a]- 2a \\big(E[X;a+l]-E[X;a] \\big)}{1-F_X(a)} \\\\ \\\\ \n",
    "Var(X_a;l) & = E[X^2_a;l] - (E[X_a;l])^2 \\\\ \\\\ \n",
    "CV(X) & = \\frac{\\sqrt{Var[X_a;l]}}{E[X_a;l]} = \\frac{\\sigma}{\\mu}\n",
    "\\end{align}$$\n"
   ]
  },
  {
   "cell_type": "markdown",
   "metadata": {
    "slideshow": {
     "slide_type": "subslide"
    }
   },
   "source": [
    "- Imposed limits decrease the variability of the losses i.e. lower dispersion of losses.\n",
    "    - Can be measured using coefficient of variation."
   ]
  },
  {
   "cell_type": "markdown",
   "metadata": {
    "slideshow": {
     "slide_type": "slide"
    }
   },
   "source": [
    "## Excess Claim Counts\n",
    "\n",
    "- Excess claims depend upon the claim size variable by definition.\n",
    "\n",
    "- Let, $p = 1 -F_X(a)$\n",
    "\n",
    "$$\\begin{align} f_{N_a}(n) & = \\sum^\\inf_{k=n} \\text{Pr(n excess claims | N = k)} \\cdot Pr(N=k) \\\\ \\\\\n",
    "E[N_a] & = p \\cdot E[N] = E[N] \\cdot (1-F_X(a))\\\\ \\\\\n",
    "Var(N_a) & =  E[N] \\cdot p \\cdot (1-p) +  Var(N) \\cdot p^2  \\qquad \\color{blue}{\\text{[Similar to Var(S)]}}\n",
    "\\end{align}$$"
   ]
  },
  {
   "cell_type": "markdown",
   "metadata": {
    "slideshow": {
     "slide_type": "subslide"
    }
   },
   "source": [
    "- When N is Poisson ($\\lambda$), then $N_a$ is Poisson ($p \\lambda$).<br><br>\n",
    "- When N is Negative Binomial ($\\alpha, \\vee$), then $N_a$ is Negative Binomial ($\\alpha, p \\vee$)"
   ]
  },
  {
   "cell_type": "markdown",
   "metadata": {
    "slideshow": {
     "slide_type": "slide"
    }
   },
   "source": [
    "## Inflation Effects\n",
    "\n",
    "- Assume $\\tau$ = 1 + r, which applies on the group-up basis.<br><br>\n",
    "\n",
    "$$E[\\tau X_a] = \\frac{\\tau E[X] - \\tau E \\left[X;\\frac{a}{\\tau} \\right]}{1-F_X \\left(\\frac{a}{\\tau} \\right)} = \\frac{ \\tau \\left (E[X] - E \\left [ X;\\frac{a}{\\tau} \\right ] \\right )}{1-F_X \\left(\\frac{a}{\\tau} \\right)}$$\n"
   ]
  },
  {
   "cell_type": "markdown",
   "metadata": {
    "slideshow": {
     "slide_type": "subslide"
    }
   },
   "source": [
    "$$\\begin{align}\n",
    "\\tau_{X} & = \\frac{E[\\tau X_a]}{E[X_a]} = \\tau \\cdot \\frac{ E[X] - E \\left [ X;\\frac{a}{\\tau} \\right ] }{E[X] - E[X;a]} \\cdot \\frac{1-F_X(a)}{1-F_X \\left(\\frac{a}{\\tau} \\right)} \\\\ \\\\ \\\\\n",
    "\\tau_N & = \\frac{1-F_X \\left ( \\frac{a}{\\tau} \\right )}{1-F_X(a)} \\end{align}$$"
   ]
  },
  {
   "cell_type": "markdown",
   "metadata": {
    "slideshow": {
     "slide_type": "subslide"
    }
   },
   "source": [
    "$$ \\tau_S = \\tau_X \\cdot \\tau_N = \\frac{ \\tau \\left ( E[X] - E \\left [ X;\\frac{a}{\\tau} \\right ] \\right ) }{E[X] - E[X;a]}$$"
   ]
  },
  {
   "cell_type": "markdown",
   "metadata": {
    "slideshow": {
     "slide_type": "slide"
    }
   },
   "source": [
    "## Aggregate Layer Claims\n",
    "<br><br>\n",
    "$$\\begin{align} E[S] & = E[N] \\cdot \\big(E[X;a+l] - E[X;a]\\big) \\\\ \\\\\n",
    "Var(S) & = E[N] \\cdot \\big(E[X^2;a+l]-E[X^2;a]\\big)-2 a E[S]+\\gamma E[S]^2 \\end{align}$$\n",
    "\n",
    "- where, $\\gamma$ represents the claims contagion parameter, which accounts for claim counts not being independent of each other.\n",
    "\n",
    "- If claim counts have Poisson distribution, then $\\gamma$ = 0.\n"
   ]
  }
 ],
 "metadata": {
  "celltoolbar": "Slideshow",
  "kernelspec": {
   "display_name": "Python 3",
   "language": "python",
   "name": "python3"
  },
  "language_info": {
   "codemirror_mode": {
    "name": "ipython",
    "version": 3
   },
   "file_extension": ".py",
   "mimetype": "text/x-python",
   "name": "python",
   "nbconvert_exporter": "python",
   "pygments_lexer": "ipython3",
   "version": "3.7.1"
  }
 },
 "nbformat": 4,
 "nbformat_minor": 2
}
