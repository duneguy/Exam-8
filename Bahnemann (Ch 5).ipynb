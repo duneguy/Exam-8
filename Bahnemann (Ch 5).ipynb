{
 "cells": [
  {
   "cell_type": "markdown",
   "metadata": {
    "slideshow": {
     "slide_type": "slide"
    }
   },
   "source": [
    "# Chapter 5 (Excess Claims)\n",
    "\n",
    "- Used in the case of a deductible or excess coverages.\n",
    "\n",
    "$$Y =\n",
    "\\begin{cases}\n",
    "0  & \\text{if $0 \\le X \\le a$ } \\\\[1ex]\n",
    "X - a & \\text{if $a < X < \\infty $}\n",
    "\\end{cases}$$\n",
    "\n",
    "- $E[Y] = E[X] - E[X;a]$ \n",
    "- $F_Y(0) = F_X(a)$<br><br>\n",
    "\n"
   ]
  },
  {
   "cell_type": "markdown",
   "metadata": {
    "slideshow": {
     "slide_type": "subslide"
    }
   },
   "source": [
    "- Since insurers don't care about Y=0, they look at this is <b>truncated</b> from below and <b>shifted</b> variable:<br><br>\n",
    "\n",
    "$$X_a = X - a, \\qquad{a < X < \\infty}$$<br><br>\n",
    "$$f_{X_a}(x) = \\frac{f_X(x+a)}{1-F_X(a)}$$<br><br>\n",
    "$$F_{X_a}(x) = \\frac{F_X(x+a) - F_X(a)}{1-F_X(a)}$$<br>\n"
   ]
  },
  {
   "cell_type": "markdown",
   "metadata": {
    "slideshow": {
     "slide_type": "subslide"
    }
   },
   "source": [
    "$$E[X_a] = e(a) = e_X(a) = \\frac{E[X] - E[X;a]}{1-F_X(a)} \\qquad{\\text{(mean residual life / excess severity at a)}}$$<br><br>\n",
    "$$E[X_a;l] = \\frac{E[X;a+l] - E[X;a]}{1-F_X(a)}$$"
   ]
  },
  {
   "cell_type": "markdown",
   "metadata": {
    "slideshow": {
     "slide_type": "subslide"
    }
   },
   "source": [
    "- If a claim-size random variable X has exponential distribution with mean $\\beta$ then, the excess claim size $X_d$ and unlimited claim size $X$ have the same distribution. <br><br>\n",
    "\n",
    "- If a claim-size random variable has a Pareto distribution then, the excess claim size $X_d$ is also Pareto-distributed with parameters ($\\alpha, d + \\beta$). \n",
    "\n",
    "$$E[X_d] = \\frac{d + \\beta}{\\alpha - 1}$$\n"
   ]
  },
  {
   "cell_type": "markdown",
   "metadata": {
    "slideshow": {
     "slide_type": "slide"
    }
   },
   "source": [
    "<table><tr><td><img src='images/5.1.1.JPG'></td><td><img src='images/5.1.2.JPG'><img src='images/5.1.3.JPG'> <img src='images/5.1.4.JPG'></td></tr></table>"
   ]
  },
  {
   "cell_type": "markdown",
   "metadata": {
    "slideshow": {
     "slide_type": "slide"
    }
   },
   "source": [
    "<center><img src='images/Excess_Severity_Graphs.JPG'></center>\n",
    "\n",
    "- The shape of the excess severity function may support the use of particular family of distributions."
   ]
  },
  {
   "cell_type": "markdown",
   "metadata": {
    "slideshow": {
     "slide_type": "slide"
    }
   },
   "source": [
    "<center><img src='images/5.2.1.JPG'></center>\n",
    "<center><img src='images/5.2.2.JPG'></center>\n"
   ]
  },
  {
   "attachments": {},
   "cell_type": "markdown",
   "metadata": {
    "slideshow": {
     "slide_type": "subslide"
    }
   },
   "source": [
    "- We can use the calculated excess severities to fit a line.\n",
    "    - The fitted line can then be used to calculate distribtion parameters (example for Pareto)\n",
    "        - Need to be careful because the calculated slope is very sensitive to large claims.\n",
    "<br>\n",
    "<center><img src='images/XS_Sev_Params.JPG'></center>\n",
    "\n"
   ]
  },
  {
   "cell_type": "markdown",
   "metadata": {
    "slideshow": {
     "slide_type": "slide"
    }
   },
   "source": [
    "## Layers of Coverage\n",
    "\n",
    "#### Layer vs Interval\n",
    "\n",
    "- See below for contribution of losses to [500 , 1,500]\n",
    "\n",
    "$$\n",
    "\\begin{array}{c|c|c}\n",
    "\\text{Loss Size} & \\text{Contribution to Interval} & \\text{Contribution to Layer} \\\\\n",
    "\\hline\n",
    "250 & 0 & 0\\\\\n",
    "1,000 & 1,000 & 500 \\\\\n",
    "2,000 & 0 & 1,000 \n",
    "\\end{array}\n",
    "$$\n",
    "\n",
    "- When we are looking at Umbrella losses, we are taking layers of losses perspective since we are still paying the limit for losses above the limit."
   ]
  },
  {
   "cell_type": "markdown",
   "metadata": {
    "slideshow": {
     "slide_type": "subslide"
    }
   },
   "source": [
    "- Deductible is applied after the policy limit."
   ]
  },
  {
   "cell_type": "markdown",
   "metadata": {
    "slideshow": {
     "slide_type": "slide"
    }
   },
   "source": [
    "$$E[X_{a,l}] = E[X_a;l] = \\frac{E[x;a+l]-E[x;a]}{1-F_X(a)}$$"
   ]
  }
 ],
 "metadata": {
  "celltoolbar": "Slideshow",
  "kernelspec": {
   "display_name": "Python 3",
   "language": "python",
   "name": "python3"
  },
  "language_info": {
   "codemirror_mode": {
    "name": "ipython",
    "version": 3
   },
   "file_extension": ".py",
   "mimetype": "text/x-python",
   "name": "python",
   "nbconvert_exporter": "python",
   "pygments_lexer": "ipython3",
   "version": "3.7.1"
  }
 },
 "nbformat": 4,
 "nbformat_minor": 2
}
