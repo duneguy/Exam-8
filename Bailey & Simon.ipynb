{
 "cells": [
  {
   "cell_type": "markdown",
   "metadata": {
    "slideshow": {
     "slide_type": "slide"
    }
   },
   "source": [
    "# Merit Rating\n",
    "\n",
    "- Based on number of years since the most recent accident.\n",
    "    \n",
    "$$\n",
    "\\begin{array}{c|c}\n",
    "\\text{Merit Ratings} & \\text{No. of Years Accident Free} \\\\\n",
    "\\hline\n",
    "\\text{A} &  \\text{3+} \\\\\n",
    "\\text{X} &  \\text{2} \\\\\n",
    "\\text{Y} &  \\text{1} \\\\\n",
    "\\text{B} &  \\text{0} \\\\\n",
    "\\text{A + X} &  \\text{2+} \\\\\n",
    "\\text{A + X + Y} &  \\text{1+}\n",
    "\\end{array}\n",
    "$$\n"
   ]
  },
  {
   "cell_type": "markdown",
   "metadata": {
    "slideshow": {
     "slide_type": "subslide"
    }
   },
   "source": [
    "#### Rating Algorithm\n",
    "\n",
    "Premium = Base Rate x Merit Factor x Territory Factor x ...."
   ]
  },
  {
   "cell_type": "markdown",
   "metadata": {
    "slideshow": {
     "slide_type": "slide"
    }
   },
   "source": [
    "# Experience Rating Formula\n",
    "\n",
    "- In experience rating, the experience mod is a credibility-weighted average of the risk and the class of risks.<br><br>\n",
    "\n",
    "$$\\begin{align}\n",
    "\\text{Cred-wtd. ind. risk LR} & = Z \\cdot LR_{Risk} + (1 - Z) \\cdot LR_{Class} \\\\ \\\\\n",
    "\\big\\downarrow \\\\ \\\\\n",
    "\\text{Experience Mod}  = \\frac{\\text{Cred-wtd. LR}}{\\text{$LR_{Class}$}} & = Z \\cdot \\frac{\\text{$LR_{Risk}$}}{\\text{$LR_{Class}$}} + (1-Z) = Z \\cdot R + (1-Z) \\end{align}$$"
   ]
  },
  {
   "cell_type": "markdown",
   "metadata": {
    "slideshow": {
     "slide_type": "subslide"
    }
   },
   "source": [
    "- Mod is forward looking (current year), while R is backward looking relativity(before rating is assigned).\n",
    "    - We can use the recent experience to calculate Mod.\n",
    "- R = 0 for all categories except for B since none of them had accident prior year.\n",
    "    - Allows you to calculate credibility for all classes other than B.\n",
    "- R is calculated theoretical since we don't have prior year's data.<br><br>\n",
    "\n",
    "$$ \\text{Experience Mod = }\n",
    "\\begin{cases}\n",
    "1 - Z, & \\text{If Class} \\neq B \\\\[2ex]\n",
    "Z \\cdot R + (1-Z), & \\text{If Class = } B\n",
    "\\end{cases}$$<br><br>\n",
    "\n"
   ]
  },
  {
   "cell_type": "markdown",
   "metadata": {
    "slideshow": {
     "slide_type": "subslide"
    }
   },
   "source": [
    "$$ Z =\n",
    "\\begin{cases}\n",
    "\\text{Mod} - 1, & \\text{If Class} \\neq B \\\\[2ex]\n",
    "\\frac{\\text{Mod}-1}{R-1}, & \\text{If Class = } B\n",
    "\\end{cases}$$<br><br>"
   ]
  },
  {
   "cell_type": "markdown",
   "metadata": {
    "slideshow": {
     "slide_type": "subslide"
    }
   },
   "source": [
    "#### R Calculation\n",
    "\n",
    "- If we had prior year's data then we would use that.\n",
    "- Else, we approximate R by assuming Poisson distribution with $\\lambda=\\frac{\\text{# of total claims}}{\\text{Earned car years}}$<br><br>\n",
    "\n",
    "$$ R = \\frac{1}{1-e^{-\\lambda}}$$"
   ]
  },
  {
   "cell_type": "markdown",
   "metadata": {
    "slideshow": {
     "slide_type": "slide"
    }
   },
   "source": [
    "## Mechanics\n",
    "<br><br>\n",
    "<center><img src ='images/Bailey_RF_1.JPG'></center>"
   ]
  },
  {
   "cell_type": "markdown",
   "metadata": {
    "slideshow": {
     "slide_type": "subslide"
    }
   },
   "source": [
    "<center><img src ='images/Bailey_RF_2.JPG'></center>"
   ]
  },
  {
   "cell_type": "markdown",
   "metadata": {
    "slideshow": {
     "slide_type": "subslide"
    }
   },
   "source": [
    "<center><img src ='images/Bailey_RF_3.JPG'></center>"
   ]
  },
  {
   "cell_type": "markdown",
   "metadata": {
    "slideshow": {
     "slide_type": "slide"
    }
   },
   "source": [
    "# Methodology\n",
    "\n",
    "- They start backwards by using the current policy data to figure out the Mod that would have been assigned.\n",
    "- Next, they try to infer the R (relative LR) value for the prior term.\n",
    "- Lastly, they plug Mod and R to get Z for ind. risk for 1 year."
   ]
  },
  {
   "cell_type": "markdown",
   "metadata": {
    "slideshow": {
     "slide_type": "slide"
    }
   },
   "source": [
    "# Premium Adjustments\n",
    "\n",
    "- On-level the premium to remove effect of rate changes.\n",
    "- Divide out the current merit rating factor\n",
    "    - Will replace it with the experience Mod."
   ]
  },
  {
   "cell_type": "markdown",
   "metadata": {
    "slideshow": {
     "slide_type": "slide"
    }
   },
   "source": [
    "# Exposure Correlation\n",
    "\n",
    "- Bailey and Simon define LR(they use freq) as $\\frac{\\require{cancel} \\bcancel{\\text{(Severity)}} \\cdot \\text{(# of claims)}}{\\text{EPPR at B Rates}}$.<br><br>\n",
    "    - They thought severities were too volatile to analyze.<br><br>\n",
    "- They used premium as base instead of exposures.\n",
    "    - They were concerned about exposure correlation.\n",
    "        - If concentration of 'A' and 'B' rated drivers varied by the territory, then you would expect riskiness of territories interferring with the analysis.\n",
    "            - Premium adjusts for riskiness of territory.\n",
    "            \n"
   ]
  },
  {
   "cell_type": "markdown",
   "metadata": {
    "slideshow": {
     "slide_type": "subslide"
    }
   },
   "source": [
    "- No need to use premium in denominator if only merit rating factor applied to base rate.<br><br>\n",
    "- Premium base (for freq) only eliminates maldistribution if:\n",
    "    - High frequency (to car-years) territories are also high avg prem territories.\n",
    "    - Territory rate differentials are proper.\n",
    "        - Checked using equal LRs."
   ]
  },
  {
   "cell_type": "markdown",
   "metadata": {
    "slideshow": {
     "slide_type": "slide"
    }
   },
   "source": [
    "- If the credbilities for 2 and 3 year are not 2 and 3 times that of 1-year cred then:\n",
    "    - Risks are entering/exiting the portfolio.\n",
    "    - Risk characteristics are changing over time."
   ]
  },
  {
   "cell_type": "markdown",
   "metadata": {
    "slideshow": {
     "slide_type": "slide"
    }
   },
   "source": [
    "## Main Conclusions\n",
    "\n",
    "1. The experience of a single car for 1 year has significant and measurable credibility for experience rating.\n",
    "2. Individual risk experience is more credible when there is more variance in loss experience within a risk class, which occurs in less refined risk classification systems.\n",
    "3. The credibilities for varying years of experience should increase in proportion to the # of years of experience."
   ]
  },
  {
   "cell_type": "markdown",
   "metadata": {
    "slideshow": {
     "slide_type": "subslide"
    }
   },
   "source": [
    "<center><img src='images/Bailey_RF_4.JPG'></center>\n",
    "<center><img src='images/Bailey_RF_5.JPG'></center>"
   ]
  }
 ],
 "metadata": {
  "celltoolbar": "Slideshow",
  "kernelspec": {
   "display_name": "Python 3",
   "language": "python",
   "name": "python3"
  },
  "language_info": {
   "codemirror_mode": {
    "name": "ipython",
    "version": 3
   },
   "file_extension": ".py",
   "mimetype": "text/x-python",
   "name": "python",
   "nbconvert_exporter": "python",
   "pygments_lexer": "ipython3",
   "version": "3.7.1"
  }
 },
 "nbformat": 4,
 "nbformat_minor": 2
}
