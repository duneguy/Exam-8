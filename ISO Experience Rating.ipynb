{
 "cells": [
  {
   "cell_type": "markdown",
   "metadata": {
    "slideshow": {
     "slide_type": "slide"
    }
   },
   "source": [
    "- ISO CGL uses No-Split experience mod formula\n",
    "- Uses 3 years of actual experience"
   ]
  },
  {
   "cell_type": "markdown",
   "metadata": {
    "slideshow": {
     "slide_type": "slide"
    }
   },
   "source": [
    "$$\\begin{align} \\text{Mod} & = Z \\left(\\frac{AER-EER}{EER}\\right) \\\\ \\\\ \\\\\n",
    "\\text{Actual Experience Ratio} & = \\frac{\\text{Rep BL losses and ALAE limited by MSL + Exp Unreported}}{\\text{Expected ultimate BL losses and ALAE NOT limited by MSL}} \\\\ \\\\ \\\\\n",
    "\\text{Expected Experience Ratio} & = \\frac{\\text{Expected BL losses and ALAE limited by MSL}}{\\text{Expected ultimate BL losses and ALAE NOT limited by MSL}}\\end{align}$$"
   ]
  },
  {
   "cell_type": "markdown",
   "metadata": {
    "slideshow": {
     "slide_type": "subslide"
    }
   },
   "source": [
    "- EER is conceptually similar to D-ratio<br><br>\n",
    "\n",
    "- Expected ultimate BL losses and ALAE NOT limited by MSL = Company Subject Loss Cost (CSLC)<br><br>\n",
    "\n",
    "- If mod desired in factor form, we need to add 1"
   ]
  },
  {
   "cell_type": "markdown",
   "metadata": {
    "slideshow": {
     "slide_type": "subslide"
    }
   },
   "source": [
    "- This plan primarily responds to frequency\n",
    "    - Only uses losses at basic policy limits - ignores xs losses\n",
    "    - Caps losses at MSL"
   ]
  },
  {
   "cell_type": "markdown",
   "metadata": {
    "slideshow": {
     "slide_type": "slide"
    }
   },
   "source": [
    "## Calculation of CSLC\n",
    "\n",
    "- Represents the expected losses for the risk subject to BL, trend adjustment and coverage basis to make it comparable to historical actual losses.\n",
    "\n",
    "#### Three methods for calculating CSLC\n",
    "1. Standard Method\n",
    "2. Present Average Company Rate\n",
    "3. Historical Exposures at Present Company Rates<br><br>\n",
    "\n",
    "Use 2 or 3 if there has been a dramatic change in exposures - Can't use same BLEL for prior experience periods - BLEL needs to be adjusted for exposure"
   ]
  },
  {
   "cell_type": "markdown",
   "metadata": {
    "slideshow": {
     "slide_type": "slide"
    }
   },
   "source": [
    "## Standard Method<br><br>\n",
    "\n",
    "<center><img src='images/ISO_RF_1.JPG'></center>"
   ]
  },
  {
   "cell_type": "markdown",
   "metadata": {
    "slideshow": {
     "slide_type": "subslide"
    }
   },
   "source": [
    "<center><img src='images/ISO_RF_2.JPG'></center>"
   ]
  },
  {
   "cell_type": "markdown",
   "metadata": {
    "slideshow": {
     "slide_type": "subslide"
    }
   },
   "source": [
    "<center><img src='images/ISO_RF_3.JPG'></center>"
   ]
  },
  {
   "cell_type": "markdown",
   "metadata": {
    "slideshow": {
     "slide_type": "subslide"
    }
   },
   "source": [
    "<center><img src='images/ISO_RF_4.JPG'></center>"
   ]
  },
  {
   "cell_type": "markdown",
   "metadata": {
    "slideshow": {
     "slide_type": "subslide"
    }
   },
   "source": [
    "<center><img src='images/ISO_RF_5.JPG'></center>"
   ]
  },
  {
   "cell_type": "markdown",
   "metadata": {
    "slideshow": {
     "slide_type": "subslide"
    }
   },
   "source": [
    "<center><img src='images/ISO_RF_6.JPG'></center>"
   ]
  },
  {
   "cell_type": "markdown",
   "metadata": {
    "slideshow": {
     "slide_type": "slide"
    }
   },
   "source": [
    "## Present Average Company Rate<br><br>\n",
    "\n",
    "$$\\begin{align} \\text{Avg Rate}_{\\text{Present}} & = \\frac{\\text{Current BL Prem}}{\\text{Current Exposures}} \\\\ \\\\ \\\\\n",
    "\\text{BLEL}_{yr} & = \\text{Exposures}_{yr} \\cdot \\text{Avg Rate}_{\\text{Present}} \\cdot \\text{ELR}\\\\ \\\\ \\\\\n",
    "\\text{CSLC} & = \\text{BLEL}_{yr} \\cdot \\text{PAF}_{13B} \\cdot \\text{PAF}_{13C}\\cdot\\text{Detrend Factor}_{5C}\\end{align}$$"
   ]
  },
  {
   "cell_type": "markdown",
   "metadata": {
    "slideshow": {
     "slide_type": "slide"
    }
   },
   "source": [
    "## Historical Exposures at Present Rates<br><br>\n",
    "\n",
    "$$\\begin{align} \\text{BLEL}_{yr} & = \\text{Exposures}_{yr} \\cdot \\text{Current Rate} \\cdot  \\text{ELR} \\\\ \\\\ \\\\\n",
    "\\text{CSLC} & = \\text{BLEL}_{yr} \\cdot \\text{Detrend Factor}_{5C}\\end{align}$$<br><br>\n",
    "\n",
    "- Don't need factors from PAF 13A and 13B because we are calculating premium for the historical policy using current rates.\n",
    "    - No issue with difference in current vs historical policy types."
   ]
  },
  {
   "cell_type": "markdown",
   "metadata": {
    "slideshow": {
     "slide_type": "slide"
    }
   },
   "source": [
    "- Credibility requirements:\n",
    "    - Cred $\\geq$ 3% for schedule rating\n",
    "    - Cred $\\geq$ 7% for experience rating"
   ]
  }
 ],
 "metadata": {
  "celltoolbar": "Slideshow",
  "kernelspec": {
   "display_name": "Python 3",
   "language": "python",
   "name": "python3"
  },
  "language_info": {
   "codemirror_mode": {
    "name": "ipython",
    "version": 3
   },
   "file_extension": ".py",
   "mimetype": "text/x-python",
   "name": "python",
   "nbconvert_exporter": "python",
   "pygments_lexer": "ipython3",
   "version": "3.7.1"
  }
 },
 "nbformat": 4,
 "nbformat_minor": 2
}
