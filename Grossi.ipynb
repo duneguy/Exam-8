{
 "cells": [
  {
   "cell_type": "markdown",
   "metadata": {
    "slideshow": {
     "slide_type": "slide"
    }
   },
   "source": [
    "- CAT models help facilitate 2 main risk management strategies\n",
    "    - Risk reduction\n",
    "        - Non-renew policies\n",
    "        - Limit coverage\n",
    "        - Increasing deductibles\n",
    "        - Increasing rates\n",
    "    - Risk transfer\n",
    "        - Purchase reinsurance or issue CAT bonds"
   ]
  },
  {
   "cell_type": "markdown",
   "metadata": {
    "slideshow": {
     "slide_type": "slide"
    }
   },
   "source": [
    "## Components of CAT Models<br>\n",
    "\n",
    "- <b>Hazard module</b> - Simulates events\n",
    "\n",
    "- <b>Inventory module / Exposure module</b> - Contains inforce property characteristics\n",
    "\n",
    "- <b>Vulnerability module</b> - Estimates susceptibility to damage for each event\n",
    "\n",
    "- <b>Loss module</b> - Quantifies direct and indirect losses of each event"
   ]
  },
  {
   "cell_type": "markdown",
   "metadata": {
    "slideshow": {
     "slide_type": "subslide"
    }
   },
   "source": [
    "#### Hazard Module\n",
    "\n",
    "- Main parameters\n",
    "    - Location\n",
    "    - Frequency - highest uncertainty\n",
    "    - Severity"
   ]
  },
  {
   "cell_type": "markdown",
   "metadata": {
    "slideshow": {
     "slide_type": "subslide"
    }
   },
   "source": [
    "#### Inventory Module\n",
    "\n",
    "- Occupancy type - important for estimating contents damage\n",
    "- Construction type - most important variable for damageability\n",
    "\n"
   ]
  },
  {
   "cell_type": "markdown",
   "metadata": {
    "slideshow": {
     "slide_type": "subslide"
    }
   },
   "source": [
    "#### Vulnerability Module\n",
    "\n",
    "- Generates damage curves\n",
    "- Several approaches to estiamte damage\n",
    "    - Engineering judgement\n",
    "    - Building response analysis\n",
    "    - Class-based building response analysis\n",
    "        - Identify typical building\n",
    "        - Evaluation of building performance"
   ]
  },
  {
   "cell_type": "markdown",
   "metadata": {
    "slideshow": {
     "slide_type": "subslide"
    }
   },
   "source": [
    "#### Loss Module\n",
    "\n",
    "- Two ways to determine monetary loss\n",
    "    - Link event parameters directly to the expected loss\n",
    "    - Estimate physical damage $\\rightarrow$ cost analysis $\\rightarrow$ monetary loss"
   ]
  },
  {
   "cell_type": "markdown",
   "metadata": {
    "slideshow": {
     "slide_type": "slide"
    }
   },
   "source": [
    "## Exceedance Probability Curves<br><br>\n",
    "\n",
    "- <b>Occurence Exceedance Probability (OEP)</b> - Prob that at least one event exceeds the threshold<br><br>\n",
    "\n",
    "- <b>Aggregate Exceedance Probability (AEP)</b> - Prob that all losses exceed a threshold<br><br>\n",
    "\n",
    "- <b>Conditional Exceedance Probability (CEP)</b>- Prob of loss exceeding the threshold given that it occurs"
   ]
  },
  {
   "cell_type": "markdown",
   "metadata": {
    "slideshow": {
     "slide_type": "subslide"
    }
   },
   "source": [
    "#### OEP\n",
    "\n",
    "<center><img src='images/OEP.JPG'></center><br><br>\n",
    "\n",
    "- There is 1\\% change of loss more than 15M $\\leftrightarrow$ 1-in-100 year PML is 15M $\\leftrightarrow$ P(L > 15M) = 1\\%"
   ]
  },
  {
   "cell_type": "markdown",
   "metadata": {
    "slideshow": {
     "slide_type": "subslide"
    }
   },
   "source": [
    "<center><img src='images/RF_OEP.JPG'></center>"
   ]
  },
  {
   "cell_type": "markdown",
   "metadata": {
    "slideshow": {
     "slide_type": "subslide"
    }
   },
   "source": [
    "<center><img src='images/RF_OEP_1.JPG'></center>\n",
    "<center><img src='images/RF_OEP_2.JPG'></center>"
   ]
  },
  {
   "cell_type": "markdown",
   "metadata": {
    "slideshow": {
     "slide_type": "subslide"
    }
   },
   "source": [
    "$$\\text{CEP} = \\frac{\\text{OEP(L$_i$)}}{1-\\text{Pr(no event)}}$$"
   ]
  },
  {
   "cell_type": "markdown",
   "metadata": {
    "slideshow": {
     "slide_type": "subslide"
    }
   },
   "source": [
    "<center><img src='images/AEP.JPG'></center>"
   ]
  },
  {
   "cell_type": "markdown",
   "metadata": {
    "slideshow": {
     "slide_type": "slide"
    }
   },
   "source": [
    "## Simple Model For Whether to Write More Business<br><br>\n",
    "\n",
    "- Insurer can write business as long as:<br><br>\n",
    "\n",
    "$$P(\\text{Loss} > nz + A) < p $$<br><br>\n",
    "\n",
    "- Here, p = max prob of insolvency, n = # of policies, z = identical prem, and A = current surplus"
   ]
  },
  {
   "cell_type": "markdown",
   "metadata": {
    "slideshow": {
     "slide_type": "slide"
    }
   },
   "source": [
    "## Simple Rating Model<br>\n",
    "\n",
    "- Premium = AAL + Risk Load + Expense Load\n",
    "\n",
    "- Risk load depends on uncertainty of AAL. One option is std:<br><br>\n",
    "\n",
    "$$\\begin{align} \\sigma & = \\sqrt{E[X^2] - E[X]^2} \\\\ \\\\\n",
    "& = \\color{blue}{\\sqrt{\\sum_i (L_i^2 p_i) - \\text{AAL}^2}} \\end{align}$$"
   ]
  },
  {
   "cell_type": "markdown",
   "metadata": {
    "slideshow": {
     "slide_type": "subslide"
    }
   },
   "source": [
    "- Cat models can help determine an equitable AAL based on:\n",
    "    - Structure attributes\n",
    "    - Location attributes"
   ]
  },
  {
   "cell_type": "markdown",
   "metadata": {
    "slideshow": {
     "slide_type": "slide"
    }
   },
   "source": [
    "## Issues in Using CAT Models in Ratemaking<br>\n",
    "\n",
    "- <b>Regulatory acceptance</b>\n",
    "    - Lack of expertise in subject matter\n",
    "        - Some have created independent commissions to evaluate models\n",
    "- <b>Public acceptance</b>\n",
    "    - Lead to higher rates\n",
    "- <b>Actuarial acceptance</b>\n",
    "    - Actuaries need to be familiar with the components\n",
    "- <b>Model to Model variance</b>\n",
    "    - Outputs differ significantly by model and over time."
   ]
  },
  {
   "cell_type": "markdown",
   "metadata": {
    "slideshow": {
     "slide_type": "slide"
    }
   },
   "source": [
    "## Uncertainty in CAT Modeling<br><br>\n",
    "\n",
    "- <b>Aleatory</b> - process risk - inherent randomness associated with natural events.<br><br>\n",
    "\n",
    "- <b>Epistemic</b> - parameter risk - uncertainty due to our lack of knowledge of the hazard."
   ]
  },
  {
   "cell_type": "markdown",
   "metadata": {
    "slideshow": {
     "slide_type": "slide"
    }
   },
   "source": [
    "## Quantifying Uncertainty<br><br>\n",
    "\n",
    "- <b>Logic Trees</b> - Shows alternative parameter values or mathematical relationships and their associated weights. Alternatives are then weighted together to produce estimates.\n",
    "    - Advantage: Tractability and tool to communicate risk\n",
    "    - Disadvantage: Weights are often based on expert opinion - may be biased<br><br>\n",
    "\n",
    "- <b>Simulation Techniques</b> - Models attempt to replicate the system's behavior.\n",
    "    - Advantage\n",
    "        - Can handle more complicated scenarios than logic trees\n",
    "        - Can also produce probability distributions\n",
    "        - Can be used for both discrete and continuous distributions"
   ]
  },
  {
   "cell_type": "markdown",
   "metadata": {
    "slideshow": {
     "slide_type": "subslide"
    }
   },
   "source": [
    "- Can generate EP curves by combining logic trees and simulations.\n",
    "    - Each branch of logic tree samples from a prob distrib using a simulation\n",
    "        - Each branch now has its own EP curve"
   ]
  },
  {
   "cell_type": "markdown",
   "metadata": {
    "slideshow": {
     "slide_type": "slide"
    }
   },
   "source": [
    "## Insurance Portfolio Management<br><br>\n",
    "\n",
    "- Insurers need to assess risk at portfolio level since CATs impact multiple properties.<br><br>\n",
    "\n",
    "- <b>Data Quality</b> - higher quality $\\rightarrow$ lower epistemic risk.\n",
    "\n",
    "- <b>Uncertainty Modeling</b> - losses allocated using prob distrib, not exp val.\n",
    "\n",
    "- <b>Impact of Correlation</b> - diversified portfolio preferred."
   ]
  },
  {
   "cell_type": "markdown",
   "metadata": {
    "slideshow": {
     "slide_type": "slide"
    }
   },
   "source": [
    "<center><img src='images/RF_Grossi.JPG'></center>"
   ]
  },
  {
   "cell_type": "markdown",
   "metadata": {
    "slideshow": {
     "slide_type": "subslide"
    }
   },
   "source": [
    "<center><img src='images/RF_Grossi_1.JPG'></center>"
   ]
  },
  {
   "cell_type": "markdown",
   "metadata": {
    "slideshow": {
     "slide_type": "subslide"
    }
   },
   "source": [
    "<center><img src='images/RF_Grossi_2.JPG'></center>"
   ]
  },
  {
   "cell_type": "markdown",
   "metadata": {
    "slideshow": {
     "slide_type": "subslide"
    }
   },
   "source": [
    "<center><img src='images/RF_Grossi_3.JPG'></center>"
   ]
  }
 ],
 "metadata": {
  "celltoolbar": "Slideshow",
  "kernelspec": {
   "display_name": "Python 3",
   "language": "python",
   "name": "python3"
  },
  "language_info": {
   "codemirror_mode": {
    "name": "ipython",
    "version": 3
   },
   "file_extension": ".py",
   "mimetype": "text/x-python",
   "name": "python",
   "nbconvert_exporter": "python",
   "pygments_lexer": "ipython3",
   "version": "3.7.1"
  }
 },
 "nbformat": 4,
 "nbformat_minor": 2
}
