{
 "cells": [
  {
   "cell_type": "markdown",
   "metadata": {
    "slideshow": {
     "slide_type": "slide"
    }
   },
   "source": [
    "## Considerations For Which Risk Characteristics to Use to Classify Risks (i.e., Which Rating Variable to Use)"
   ]
  },
  {
   "cell_type": "markdown",
   "metadata": {
    "slideshow": {
     "slide_type": "subslide"
    }
   },
   "source": [
    "\n",
    "1. <b>$\\color{blue}{C}$ausality:</b> Nice to have, but not necessary and can be hard to prove.\n",
    "<br>\n",
    "2. <b>$\\color{blue}{R}$elationship of Risk Characteristics and Expected Outcomes:</b> Correlation between levels of variable and expected costs. Can use historical data or expert opinion. Rates are equitable if they reflect expected cost differences.\n",
    "<br>\n",
    "3. <b>$\\color{blue}{A}$pplicable Law:</b> Is it legal?\n",
    "<br>\n",
    "4. <b>$\\color{blue}{P}$racticality:</b> Consider initial and ongoing cost of classification.\n",
    "<br>\n",
    "5. <b>$\\color{blue}{B}$usiness Practices:</b> How will they affect ability to use the variable?\n",
    "<br>\n",
    "6. <b>$\\color{blue}{I}$ndustry Practices:</b> Is it usual and customary for the LOB?\n",
    "<br>\n",
    "7. <b>$\\color{blue}{O}$bjectivity:</b> Risk characteristics should be clearly and objectively defined, readily verifiable, and not easily manipulated.\n"
   ]
  },
  {
   "cell_type": "markdown",
   "metadata": {
    "slideshow": {
     "slide_type": "slide"
    }
   },
   "source": [
    "## Consideration in Establishing Risk Classes (i.e., What Levels of the Variable to Use)"
   ]
  },
  {
   "cell_type": "markdown",
   "metadata": {
    "slideshow": {
     "slide_type": "subslide"
    }
   },
   "source": [
    "1. <b>Intended Use:</b> Ratemaking vs reserving.\n",
    "<br>\n",
    "2. <b>Actuarial Considerations:</b> Homogeneity, credibility, and practicality.\n",
    "<br>\n",
    "3. <b>Other Considerations:</b> Law, industry, and business practices.\n",
    "<br>\n",
    "4. <b>Reasonableness of Results:</b> Do reasonability check of results."
   ]
  }
 ],
 "metadata": {
  "celltoolbar": "Slideshow",
  "kernelspec": {
   "display_name": "Python 3",
   "language": "python",
   "name": "python3"
  },
  "language_info": {
   "codemirror_mode": {
    "name": "ipython",
    "version": 3
   },
   "file_extension": ".py",
   "mimetype": "text/x-python",
   "name": "python",
   "nbconvert_exporter": "python",
   "pygments_lexer": "ipython3",
   "version": "3.7.1"
  }
 },
 "nbformat": 4,
 "nbformat_minor": 2
}
