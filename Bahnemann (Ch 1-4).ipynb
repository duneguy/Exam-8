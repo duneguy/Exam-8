{
 "cells": [
  {
   "cell_type": "markdown",
   "metadata": {
    "slideshow": {
     "slide_type": "skip"
    }
   },
   "source": [
    "Chapter 1: Basic probability concepts <br>\n",
    "Chapter 2 and 3: Distributions for claim size and claim counts. Also shows ways of fitting distribution to set of claim data.<br>\n",
    "Chapter 4: Properties of aggregate loss distributions and techniques for approximating values of these distributions.<br>\n",
    "<b>Chapter 5:</b> Covers excess claims and layers of insurance. <br>\n",
    "<b>Chapter 6:</b> Deductibles and limits."
   ]
  },
  {
   "cell_type": "markdown",
   "metadata": {
    "slideshow": {
     "slide_type": "slide"
    }
   },
   "source": [
    "## Chapter 1 (Probability)<br><br>\n",
    "\n",
    "<font color = blue> $ P(E|F) = \\frac{P(E \\cap F)}{P(F)} \\Longleftrightarrow \\frac{P(F|E) \\cdot P(E)}{P(F)}\\tag{Bayes Theorem} $</font>\n",
    "- If two events are independent: $P(E \\cap F) = P(E) \\cdot P(F)$"
   ]
  },
  {
   "cell_type": "markdown",
   "metadata": {
    "slideshow": {
     "slide_type": "subslide"
    }
   },
   "source": [
    "- <b>Bernoulli distribution</b> has two outcomes either success or failure.\n",
    "    - Probability mass function: $f(n) = (1-p)^{n-1} \\cdot p$\n",
    "        - Looks at success at n-th trial.<br><br>\n",
    "        \n",
    "- <b>Binomial distribution</b> is a collection of bernoulli trials."
   ]
  },
  {
   "cell_type": "markdown",
   "metadata": {
    "slideshow": {
     "slide_type": "subslide"
    }
   },
   "source": [
    "- <b>Mixed distribution</b> is composed of both discrete and continuous distribution.<br><br>\n",
    "$$F(x) = \\omega_1 \\cdot F_1(x) + \\omega_2 \\cdot F_2(x)$$\n",
    "\n",
    "where, $F_1$ is a distribution function for continuous variable, $F_2$ is distribution function for discrete variable, and $\\omega_1 + \\omega_2 = 1$."
   ]
  },
  {
   "cell_type": "markdown",
   "metadata": {
    "slideshow": {
     "slide_type": "subslide"
    }
   },
   "source": [
    "# <center>Methods of Estimating Distribution Parameters</center>\n",
    "<br>\n",
    "- <b>Method-of-Moments:</b> Compute $E[X^m]$ for various values of m (often just 1 and 2) using the sample\n",
    "data and set those equal to theoretical values. Solve for the distribution parameters.<br><br>\n",
    "- <b>Maximum-Likelihood:</b> For sample data with n observations, create the log-likelihood function $ \\sum_{i=1}^n ln f(x_i)$, take the derivatives with respect to each parameter and set the equations equal to 0.\n",
    "Solve for the estimated parameters.\n",
    "<br>\n",
    "<center><img src=\"images/Partial_derivs.JPG\"></center>"
   ]
  },
  {
   "cell_type": "markdown",
   "metadata": {
    "slideshow": {
     "slide_type": "subslide"
    }
   },
   "source": [
    "- <b>Minimum Chi-Squared:</b> Group sample data of size n into groups/classes of size m (m<n). Tabulate the actual claim counts in each given range and the expected counts in each range using the target distribution with initial seed parameters. Calculate a chi-squared value as $\\chi^2 = \\sum_{k=1}^m \\frac{(Actual-Expected)^2}{Expected}$, and use a computer to iterate different parameter choices until the chi-squared value is minimized.\n",
    "    - Degrees of freedom = #groups - #parameters - 1<br><br>\n",
    "\n",
    "- <b>Minimum-Distance Estimation:</b> Again, group sample data of size n into groups/classes of size m (m<n). Tabulate the cumulative percent of actual claim counts from the sample data for each range $F_n(c_k)$ <font color=blue>(at interval boundaries)</font> and the expected cumulative percent of counts $F_{\\Theta}(c_k)$ with initial seed parameters. Calculate $D = \\sqrt{\\sum_{k=1}^m \\left | F_n(c_k) - F_{\\Theta}(c_k) \\right |^2}$, and use a computer to iterate different parameter choices until D is\n",
    "minimized.\n",
    "    - Degrees of freedom = #groups - #parameters - 1"
   ]
  },
  {
   "cell_type": "markdown",
   "metadata": {
    "slideshow": {
     "slide_type": "slide"
    }
   },
   "source": [
    "# Chapter 2 (Claim-Size)<br>\n",
    "\n",
    "- Size-of-loss distribution = loss distribution\n",
    "\n",
    "- We calculate <b>limited expected value / limited severity</b> when losses are <b>censored</b> at policy limit l."
   ]
  },
  {
   "cell_type": "markdown",
   "metadata": {
    "slideshow": {
     "slide_type": "subslide"
    }
   },
   "source": [
    "## Severity Distributions\n",
    "\n",
    "#### Gamma\n",
    "\n",
    "$$E[X] = \\alpha \\beta$$<br>\n",
    "$$Var(X) = \\alpha \\beta^2$$\n",
    "\n",
    "- The sum of independent gamma variables having the same $\\beta$ parameter is also gamma-distributed."
   ]
  },
  {
   "cell_type": "markdown",
   "metadata": {
    "slideshow": {
     "slide_type": "subslide"
    }
   },
   "source": [
    "#### Exponential (Special case of Gamma; $\\alpha$ = 1)\n",
    "$$f(x) = \\frac{1}{\\beta} \\cdot e^{\\frac{-x}{\\beta}}$$<br>\n",
    "$$F(x) = 1 - e^{\\frac{-x}{\\beta}}$$<br>\n",
    "$$E[X] = \\beta$$<br>\n",
    "$$Var(X) = \\beta^2$$"
   ]
  },
  {
   "cell_type": "markdown",
   "metadata": {
    "slideshow": {
     "slide_type": "subslide"
    }
   },
   "source": [
    "#### Lognormal\n",
    "\n",
    "$$E[X] = e^{\\mu + \\frac{1}{2} \\sigma^2}$$<br><br>\n",
    "$$Var(X) = (e^{\\sigma^2}-1) \\cdot e^{2 \\mu + \\sigma^2}$$"
   ]
  },
  {
   "cell_type": "markdown",
   "metadata": {
    "slideshow": {
     "slide_type": "subslide"
    }
   },
   "source": [
    "#### Shifted Pareto\n",
    "\n",
    "$$\\begin{align} F(x) & = 1 - \\left ( \\frac{\\beta}{x+\\beta} \\right )^\\alpha \\\\ \\\\\n",
    "E[X] & = \\frac{\\beta}{\\alpha - 1} \\\\ \\\\\n",
    "E[X;l] & = \\frac{\\beta}{\\alpha -1 } \\left ( 1 - \\left ( \\frac{\\beta}{l + \\beta} \\right )^{\\alpha - 1} \\right) \\end{align}$$ "
   ]
  },
  {
   "cell_type": "markdown",
   "metadata": {
    "slideshow": {
     "slide_type": "slide"
    }
   },
   "source": [
    "# Chapter 3 (No. of Claims)\n",
    "\n",
    "## Frequency Distributions\n",
    "\n",
    "#### Poisson\n",
    "\n",
    "$$f(n) = \\frac{\\lambda^n \\cdot e^{- \\lambda}}{n!}$$<br>\n",
    "$$E[N] = Var(N) = \\lambda$$"
   ]
  },
  {
   "cell_type": "markdown",
   "metadata": {
    "slideshow": {
     "slide_type": "subslide"
    }
   },
   "source": [
    "#### Negative Binomial\n",
    "- Used when mean is not equal to variance and very little is known about actual population distribution.\n",
    "- We assume mixed Poisson distribution with $\\lambda$ distributed based on Gamma.\n",
    "\n",
    "$$f(n) = \\left ( \\begin{array}{c}\n",
    "  n+m-1\\\\\n",
    "  n\n",
    "\\end{array} \\right ) \\cdot p^n \\cdot (1-p)^m$$<br>\n",
    "$$E[N] = \\frac{pm}{1-p}$$<br>\n",
    "$$Var(N) = \\frac{pm}{(1-p)^2}$$"
   ]
  },
  {
   "cell_type": "markdown",
   "metadata": {
    "slideshow": {
     "slide_type": "subslide"
    }
   },
   "source": [
    "- The sum of m mutually independent Poisson random variables is also Poisson with $m \\lambda$ parameter.\n",
    "- The sum of m mutually independent Negative Binomial distributions is also Negative Binomial with parameter $(m \\alpha, m \\vee)$.\n",
    "    - Only if $\\alpha$ and $\\vee$ parameters are the same."
   ]
  },
  {
   "cell_type": "markdown",
   "metadata": {
    "slideshow": {
     "slide_type": "slide"
    }
   },
   "source": [
    "# Chapter 4 (Aggregate Claims)<br>\n",
    "\n",
    "- Aggregate-loss random variable is a combination of claim-count and claim-size random variables.<br>\n",
    "- Since aggregate loss distribution depends on N and X, it is known as compound distribution.\n",
    "\n",
    "#### Steps to generate aggregate random variable\n",
    "1. Select number of claims N = n\n",
    "2. Choose n claim-size values that add up to aggregate claim size."
   ]
  },
  {
   "cell_type": "markdown",
   "metadata": {
    "slideshow": {
     "slide_type": "subslide"
    }
   },
   "source": [
    "$$\\begin{align} E[S] & = E[N] \\cdot E[X] \\\\ \\\\\n",
    "Var(S) & = E[N] \\cdot Var(X) + Var(N) \\cdot E[X]^2 \\end{align}$$"
   ]
  },
  {
   "cell_type": "markdown",
   "metadata": {
    "slideshow": {
     "slide_type": "subslide"
    }
   },
   "source": [
    "## Panjer's Recursive Algorithm\n",
    "\n",
    "- Both Poisson and Negative Binomial distributions satisfy: $f_N(n) = \\frac{na+b}{n} \\cdot f_N(n-1)$\n",
    "    - Poisson: a = 0, b = $\\lambda$\n",
    "    - Negative Binomial: a = 1 - p, b = (r - 1)$\\cdot$ (1 - p)\n",
    "    \n",
    "<font color=blue>$f_S(0) = f_N(0)$<br><br>\n",
    "$\\begin{align}f_S(xh) = Pr(S = xh) & = \\sum_{k=1}^x \\left ( a + \\frac{b}{x}k \\right ) f_X(xk)f_S(xh-xk) \\\\\n",
    "& = \\frac{\\lambda}{x} \\left ( \\sum_{k=1}^x \\cdot k \\cdot f_X(xk) \\cdot f_S(xh-xk) \\right ) \\text{   (Poisson)}\n",
    "\\end{align}\n",
    "$ \n",
    "</font>\n",
    "\n",
    "where x = 1,2,3,... and h = length of spacing"
   ]
  },
  {
   "cell_type": "markdown",
   "metadata": {
    "slideshow": {
     "slide_type": "subslide"
    }
   },
   "source": [
    "<center><img src=\"images/Panjer_Ex.JPG\"></center>"
   ]
  }
 ],
 "metadata": {
  "celltoolbar": "Slideshow",
  "kernelspec": {
   "display_name": "Python 3",
   "language": "python",
   "name": "python3"
  },
  "language_info": {
   "codemirror_mode": {
    "name": "ipython",
    "version": 3
   },
   "file_extension": ".py",
   "mimetype": "text/x-python",
   "name": "python",
   "nbconvert_exporter": "python",
   "pygments_lexer": "ipython3",
   "version": "3.7.1"
  }
 },
 "nbformat": 4,
 "nbformat_minor": 2
}
