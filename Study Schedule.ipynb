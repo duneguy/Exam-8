{
 "cells": [
  {
   "cell_type": "markdown",
   "metadata": {},
   "source": [
    "# Planned\n",
    "\n",
    "$$\n",
    "\\begin{array}{c|c|c| c}\n",
    "\\text{Week} & \\text{Topic 1} & \\text{Topic 2} & \\text{Topic 3}\\\\\n",
    "\\hline\n",
    "\\text{Aug. 11-17} & \\text{Bahnemann} \\\\\n",
    "\\text{Aug. 18-24} & \\text{ASOP 12} & \\text{GLM}\\\\\n",
    "\\text{Aug. 25-31} & \\text{Bailey} & \\text{Mahler}\\\\\n",
    "\\text{Sep. 1-7} & \\text{Robertson} & \\text{Couret}\\\\\n",
    "\\text{Sep. 8-14} & \\text{Fisher 1} & \\text{NCC 1}\\\\\n",
    "\\text{Sep. 15-21} & \\text{ISO} & \\text{Fisher 2} \\\\\n",
    "\\text{Sep. 22-28} & \\text{Fisher 3} & \\text{Fisher 4} & \\text{Fisher Excel Case Study}\\\\\n",
    "\\text{Sep. 29 - Oct. 5} & \\text{NCCI 2}  & \\text{Grossi}\\\\\n",
    "\\text{Oct. 6-12} & \\text{Clark} & \\text{Bernegger}\n",
    "\\end{array}\n",
    "$$"
   ]
  },
  {
   "cell_type": "markdown",
   "metadata": {},
   "source": [
    "# Actual\n",
    "\n",
    "$$\n",
    "\\begin{array}{c|c|c}\n",
    "\\text{Week} & \\text{Topic 1} & \\text{Topic 2} & \\text{Topic 2}\\\\\n",
    "\\hline\n",
    "\\text{Aug. 11-17} & \\text{Bahnemann} & \\text{ASOP 12}\\\\\n",
    "\\text{Aug. 18-24} & \\text{GLM}\\\\\n",
    "\\text{Aug. 25-31} & \\text{GLM} &\\text{Bailey} & \\text{Mahler}\\\\\n",
    "\\text{Sep. 1-7} & \\text{Robertson} & \\text{Couret} & \\text{Bernegger}\n",
    "\\end{array}\n",
    "$$"
   ]
  }
 ],
 "metadata": {
  "kernelspec": {
   "display_name": "Python 3",
   "language": "python",
   "name": "python3"
  },
  "language_info": {
   "codemirror_mode": {
    "name": "ipython",
    "version": 3
   },
   "file_extension": ".py",
   "mimetype": "text/x-python",
   "name": "python",
   "nbconvert_exporter": "python",
   "pygments_lexer": "ipython3",
   "version": "3.7.1"
  }
 },
 "nbformat": 4,
 "nbformat_minor": 2
}
