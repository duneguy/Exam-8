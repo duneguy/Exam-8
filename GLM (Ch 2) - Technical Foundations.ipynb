{
 "cells": [
  {
   "cell_type": "markdown",
   "metadata": {
    "slideshow": {
     "slide_type": "slide"
    }
   },
   "source": [
    "## Components of GLM<br><br>\n",
    "\n",
    "- <b>Systematic component:</b> The portion of the outcome that is explained by predictors in the model.\n",
    "<br><br>\n",
    "- <b>Random component:</b> The portion of the outcome driven by causes that are not accounted for in the model. Includes \"pure randomness\"."
   ]
  },
  {
   "cell_type": "markdown",
   "metadata": {
    "slideshow": {
     "slide_type": "slide"
    }
   },
   "source": [
    "#### Random Component\n",
    "\n",
    "- Biggest assumption made about each risk ($y_i$) is it belongs to some exponential family of distributions:<br><br>\n",
    "\n",
    "$$y_i \\sim Exponential(\\mu_i, \\phi)$$<br><br>\n",
    "\n",
    "- $\\mu_i$ is the mean of the record's distribution.<br>\n",
    "- $\\phi$ is the dispersion parameter. It is same for all records."
   ]
  },
  {
   "cell_type": "markdown",
   "metadata": {
    "slideshow": {
     "slide_type": "subslide"
    }
   },
   "source": [
    "$$ Var(y_i) = \\frac{\\phi \\cdot V(\\mu_i)}{\\omega_i}$$\n",
    "<br><br>\n",
    "- $V(u_i)$ is the variance function for the selected distribution.\n",
    "<br><br>\n",
    "- The mean of every exponential family distribution is $\\mu$.\n",
    "<br><br>\n",
    "- $w_i$ is the weight assigned to observation i. Twice the weight $\\rightarrow$ half the variance."
   ]
  },
  {
   "cell_type": "markdown",
   "metadata": {
    "slideshow": {
     "slide_type": "subslide"
    }
   },
   "source": [
    "$$\n",
    "\\begin{array}{c|c}\n",
    "\\text{Distribution} & \\text{Variance Function [V($\\mu$)]}\\\\\n",
    "\\hline\n",
    "\\text{Normal} & 1 \\\\\n",
    "\\text{Poisson} & \\mu \\\\ \n",
    "\\text{Gamma} & \\mu^2 \\\\\n",
    "\\text{Inverse Gaussian} & \\mu^3 \\\\\n",
    "\\text{Negative Binomial} & \\mu(1+ \\kappa \\mu) \\\\\n",
    "\\text{Binomial} & \\mu(1-\\mu) \\\\\n",
    "\\text{Tweedie} & \\mu^p\n",
    "\\end{array}\n",
    "$$\n",
    "<br><br>\n",
    "- Variance is an increasing function of $\\mu$, which makes sense since higher expected losses have higher variance in losses.\n",
    "- The $\\phi$ parameter for negative binomial is restricted 1."
   ]
  },
  {
   "cell_type": "markdown",
   "metadata": {
    "slideshow": {
     "slide_type": "slide"
    }
   },
   "source": [
    "#### Systematic Component\n",
    "<br>\n",
    "$$g(\\mu_i) = \\beta_0+\\beta_1 x_{i1}+\\beta_2 x_{i2}+ \\cdots + \\beta_p x_{ip} + \\text{offset}$$\n",
    "\n",
    "- g(.) is the link function.\n",
    "    - Provides flexibility in relating the model prediction ($\\mu_i$) to predictors.\n",
    "    - Log link function allows for multiplicative rating structure.\n",
    "    - For binary target variables, we use logit link function. \n",
    "- RHS of the equation is called the <b>linear predictor</b>."
   ]
  },
  {
   "cell_type": "markdown",
   "metadata": {
    "slideshow": {
     "slide_type": "subslide"
    }
   },
   "source": [
    "#### Log Link\n",
    "<br>\n",
    "$$ln(\\mu_i) = \\beta_0+\\beta_1 x_{i1}+\\beta_2 x_{i2}+ \\cdots + \\beta_p x_{ip} + \\text{ln(offset)}$$\n",
    "<br>\n",
    "$$\\Downarrow$$\n",
    "<br>\n",
    "$$\\mu_i = e^{\\beta_0+\\beta_1 x_{i1}+\\beta_2 x_{i2}+ \\cdots + \\beta_p x_{ip}}\\cdot \\text{offset}$$\n",
    "<br>\n",
    "$$\\Downarrow$$\n",
    "<br>\n",
    "$$\\mu_i = e^{\\beta_0} \\cdot e^{\\beta_1 x_{i1}} \\cdot e^{\\beta_2 x_{i2}} \\cdot \\ldots  \\cdot e^{\\beta_p x_{ip}} \\cdot \\text{offset}$$"
   ]
  },
  {
   "cell_type": "markdown",
   "metadata": {
    "slideshow": {
     "slide_type": "subslide"
    }
   },
   "source": [
    "#### Logit Link\n",
    "<br>\n",
    "$$\\begin{align}ln \\left( \\frac{\\mu_i}{1-\\mu_i} \\right) & = ln \\left( \\frac{\\text{Prob of event i occuring}}{\\text{Prob of event i not occuring}} \\right) \\\\ \\\\\n",
    "& = \\underbrace{\\beta_0+\\beta_1 x_{i1}+\\beta_2 x_{i2}+ \\cdots + \\beta_p x_{ip} + \\text{ln(offset)}}_{x_i} \\end{align}$$\n",
    "\n",
    "$$\\Downarrow$$\n",
    "\n",
    "$$\\frac{\\mu_i}{1-\\mu_i} = e^{\\beta_0} \\cdot e^{\\beta_1 x_{i1}} \\cdot e^{\\beta_2 x_{i2}} \\cdot \\ldots  \\cdot e^{\\beta_p x_{ip}} \\cdot \\text{offset}$$\n",
    "\n",
    "$$\\Downarrow$$\n",
    "\n",
    "$$\\mu_i = \\frac{1}{1+e^{-x_i}}$$"
   ]
  },
  {
   "cell_type": "markdown",
   "metadata": {
    "slideshow": {
     "slide_type": "slide"
    }
   },
   "source": [
    "### Variable Significance\n",
    "\n",
    "- We need to test coefficients to determine if they are indeed significant / non-zero.\n",
    "- Helpful Statistics provided by GLM software:\n",
    "    - Standard Error\n",
    "    - P-Value\n",
    "    - Confidence Interval"
   ]
  },
  {
   "cell_type": "markdown",
   "metadata": {
    "slideshow": {
     "slide_type": "subslide"
    }
   },
   "source": [
    "#### Standard Error\n",
    "\n",
    "- Small std error gives us confidence that the estimated coefficient is close to the true value.\n",
    "- Larger datasets produce smaller std errors.\n",
    "- The larger the estimate of $\\phi$, the larger the std errors.\n",
    "    - Since variance depends on $\\phi$.\n",
    "    "
   ]
  },
  {
   "cell_type": "markdown",
   "metadata": {
    "slideshow": {
     "slide_type": "subslide"
    }
   },
   "source": [
    "#### P-Value\n",
    "\n",
    "- Derived from std error.\n",
    "- Gives the prob of observing the coefficient value or higher by chance if the true value is zero (or any chosen value).\n",
    "- P-value of .05 or less is desired when making variable selection decisions.\n",
    "    - If p-value is less than .05, we can reject the null  hypothesis that the true value of the variable is zero.\n",
    "- In GLM, this is based on relationship to the base class."
   ]
  },
  {
   "cell_type": "markdown",
   "metadata": {
    "slideshow": {
     "slide_type": "subslide"
    }
   },
   "source": [
    "#### Confidence Interval\n",
    "\n",
    "- Gives us the reasonable range of coefficient estimates.\n",
    "- Can be seen as complement of p-value."
   ]
  },
  {
   "cell_type": "markdown",
   "metadata": {
    "slideshow": {
     "slide_type": "slide"
    }
   },
   "source": [
    "### Continuous Variables\n",
    "\n",
    "- Predictor values are related to one another.\n",
    "- When log link is used, it is almost always appropriate to take the natural log of a continuous predictor.\n",
    "    - This allows the scale of the predictor to match the scale of the target variable.\n",
    "    - The response curve doesn't need to be restricted to the exponential form.\n",
    "        - Can have increasing at decreasing rate (generally seen in insurance models) and not just increasing at increasing rate.\n",
    "        - Can have linear relation.<br><br>\n",
    "\n",
    "$$ln(\\mu_i) = \\beta_0 + \\beta_{1} \\cdot ln(x_i)$$\n",
    "\n",
    "$$\\big\\Downarrow$$\n",
    "\n",
    "$$\\mu_i = e^{\\beta_0} \\cdot x_i^{\\beta_{1}}$$"
   ]
  },
  {
   "cell_type": "markdown",
   "metadata": {
    "slideshow": {
     "slide_type": "subslide"
    }
   },
   "source": [
    "<center><img src='images/Continuous_Vars.JPG'></center>\n",
    "\n",
    "- For negative beta estimates (logged case), the graph is flipped around y = 0 axis."
   ]
  },
  {
   "cell_type": "markdown",
   "metadata": {
    "slideshow": {
     "slide_type": "subslide"
    }
   },
   "source": [
    "#### Example\n",
    "\n",
    "- Assume base AOI is 100k\n",
    "- Record's AOI is 200K\n",
    "- The coefficient estimate is .62\n",
    "- Then indicated relativity for 200k AOI:\n",
    "\n",
    "$$\\text{Relativity =} \\frac{\\text{200,000}^{.62}}{\\text{100,000}^{.62}} = 2^{.62}= 1.54$$"
   ]
  },
  {
   "cell_type": "markdown",
   "metadata": {
    "slideshow": {
     "slide_type": "subslide"
    }
   },
   "source": [
    "#### Cases where it may be desirable to include continuous variable in unlogged form\n",
    "\n",
    "- When x is a temporal variable meant to pickup trend.\n",
    "    - Trend is often modeled as an exponential function.<br><br>\n",
    "\n",
    "- If the variable has value of 0.\n",
    "    - ln(0) is undefined.\n",
    "    - Need to adjust before logging.<br><br>\n",
    "\n",
    "- Unlogged form should rarely be used for continuous variables."
   ]
  },
  {
   "cell_type": "markdown",
   "metadata": {
    "slideshow": {
     "slide_type": "slide"
    }
   },
   "source": [
    "<table><tr><td><img src='images/GLM_Eval_1.JPG'></td><td><img src='images/GLM_Eval_2.JPG'></td></tr></table>"
   ]
  },
  {
   "cell_type": "markdown",
   "metadata": {
    "slideshow": {
     "slide_type": "subslide"
    }
   },
   "source": [
    "- The high p-value for van means that we are not confident that this class is different from the base class \"sedan\".\n",
    "- The error bar for \"van\" crosses the y = 0 line, indicating that the parameter estimate is not significant at the 95% confidence level.\n",
    "- When we set \"van\" as the base class, size of error bars and p-values increase.\n",
    "    - The predicted coefficients are still equivalent.\n",
    "        - Can subtract coefficient of \"sedan\" to get the same coefficients as above.<br><br>\n",
    "        \n",
    "<center><img src='images/GLM_Eval_3.JPG'></center>"
   ]
  },
  {
   "cell_type": "markdown",
   "metadata": {
    "slideshow": {
     "slide_type": "subslide"
    }
   },
   "source": [
    "- Use Base Class with the most data!"
   ]
  },
  {
   "cell_type": "markdown",
   "metadata": {
    "slideshow": {
     "slide_type": "slide"
    }
   },
   "source": [
    "GLM with only one categorical variable, regardless of the distribution and link function, will always have average value as the prediction."
   ]
  },
  {
   "cell_type": "markdown",
   "metadata": {
    "slideshow": {
     "slide_type": "slide"
    }
   },
   "source": [
    "## Offsets\n",
    "\n",
    "- Used when we are leaving some of the variables untouched (i.e., territory relativities, deductible factors are usually based on loss elimination-based techniques, etc.)\n",
    "- The coefficient is constrained to be 1 - becomes the power when exponentiated.\n",
    "- When using log link, the offset variable is also logged."
   ]
  },
  {
   "cell_type": "markdown",
   "metadata": {
    "slideshow": {
     "slide_type": "subslide"
    }
   },
   "source": [
    "- Can be used to adjust for exposure difference when modeling claim counts.\n",
    "    - A 1-year policy term will have twice the expected claim counts as a 6-month policy term.<br><br>\n",
    "    \n",
    "$$\\begin{align} ln(\\mu_i) & = \\beta_0+\\beta_1 x_{i1}+\\beta_2 x_{i2}+ \\cdots + \\beta_p x_{ip} + ln(\\text{1 car-year}) \\\\ \\\\\n",
    "& = \\beta_0+\\beta_1 x_{i1}+\\beta_2 x_{i2}+ \\cdots + \\beta_p x_{ip} + ln(1) \\\\ \\\\\n",
    "& = e^{\\beta_0} \\cdot e^{\\beta_1 x_{i1}} \\cdot e^{\\beta_2 x_{i2}} \\cdot \\ldots  \\cdot e^{\\beta_p x_{ip}} \\cdot 1 \\end{align}$$"
   ]
  },
  {
   "cell_type": "markdown",
   "metadata": {
    "slideshow": {
     "slide_type": "slide"
    }
   },
   "source": [
    "## Severity Model Distributions\n",
    "\n",
    "- <b>Gamma</b>\n",
    "    - Most commonly used.\n",
    "- <b>Inverse Gaussian</b>\n",
    "    - Wider tail and sharper peak than Gamma.\n",
    "- Both are right-skewed and have lower bound at 0."
   ]
  },
  {
   "cell_type": "markdown",
   "metadata": {
    "slideshow": {
     "slide_type": "slide"
    }
   },
   "source": [
    "## Frequency Model Distributions\n",
    "\n",
    "- <b>Poisson</b>\n",
    "    - Most commonly used.\n",
    "    - Models the count of events occuring within a fixed timeframe.\n",
    "    - GLM implementation allows it to be continuous as well.\n",
    "    - ODP is used because in addition to the Poisson variance, there is variance in the Poisson mean ($\\mu$).\n",
    "    - Poisson and ODP distributions produce the same estimates of coefficients.\n",
    "        - Model diagnostics might be too optimistic under Poisson.\n",
    "            - Due to lower variance since $\\phi$ = 1.\n",
    "\n"
   ]
  },
  {
   "cell_type": "markdown",
   "metadata": {
    "slideshow": {
     "slide_type": "subslide"
    }
   },
   "source": [
    "- <b>Negative Binomial: </b>\n",
    "    \n",
    "$$\\begin{align} y & \\sim Poisson(\\mu = \\theta) \\\\ \n",
    "\\theta & \\sim Gamma(....)\\end{align}$$<br>\n",
    "\n",
    "$$Var(\\mu) = \\mu(1+\\kappa \\mu)$$<br>\n",
    "\n",
    "- $\\phi$ = 1\n",
    "- $\\kappa$ is the overdispersion parameter.\n",
    "- As $\\kappa \\rightarrow 0$ then Negative Binomial $\\rightarrow$ Poisson."
   ]
  },
  {
   "cell_type": "markdown",
   "metadata": {
    "slideshow": {
     "slide_type": "slide"
    }
   },
   "source": [
    "## Pure Premium Model Distribution\n",
    "\n",
    "#### Tweedie <br>\n",
    "\n",
    "- Tweedie models a Poisson-gamma process where claims occur following the Poisson process and loss amounts follow a Gamma distribution.\n",
    "    - Can be thought of as \"Poisson-distributed sum of gamma distributions\".<br>\n",
    "\n",
    "$$\\begin{align}  \n",
    "\\text{Gamma mean} & = \\alpha \\theta \\\\ \n",
    "\\text{Tweedie mean ($\\mu$)} & = \\lambda \\cdot ( \\alpha \\theta) \\\\ \n",
    "V(\\mu) & = \\mu^p  \\\\ \n",
    "\\phi & = \\frac{\\lambda^{1-p} \\cdot (\\alpha \\theta)^{2-p}}{2-p} \\end{align}$$<br>\n",
    "\n",
    "\n",
    "\n",
    "\n",
    "\n"
   ]
  },
  {
   "cell_type": "markdown",
   "metadata": {
    "slideshow": {
     "slide_type": "subslide"
    }
   },
   "source": [
    "$$ p = \\frac{\\alpha + 2}{\\alpha + 1}$$<br>\n",
    "\n",
    "- The power parameter \"p\" takes on following values: 0, [1,3].<br><br>\n",
    "- p is strictly a function of gamma parameter $\\alpha$, which is a function of gamma's coefficient of variation (CV).\n",
    "    - CV $\\rightarrow 0 \\text{ then } p \\rightarrow 1$\n",
    "\n",
    "\n"
   ]
  },
  {
   "cell_type": "markdown",
   "metadata": {
    "slideshow": {
     "slide_type": "subslide"
    }
   },
   "source": [
    "$$\n",
    "\\begin{array}{c|c|c}\n",
    "\\text{P} & \\text{Distribution} & \\text{Variance Function}\\\\\n",
    "\\hline\n",
    "0 & \\text{Normal} & \\mu^0 = 1\\\\\n",
    "1 & \\text{Poisson} & \\mu \\\\\n",
    "2 & \\text{Gamma} & \\mu^2 \\\\\n",
    "3 & \\text{Inverse Gaussian} & \\mu^3\n",
    "\\end{array}\n",
    "$$<br><br>\n",
    "\n",
    "- Range between 1 and 2 is great for modeling pure premium or loss ratio.<br>\n"
   ]
  },
  {
   "cell_type": "markdown",
   "metadata": {
    "slideshow": {
     "slide_type": "subslide"
    }
   },
   "source": [
    "#### Important Implicit assumption of Tweedie GLM\n",
    "\n",
    "- It assumes that frequency and severity move in the same direction (i.e. increase in target variable is made up of an increase in both frequency and severity)\n",
    "    - Problematic - Some predictors might increase severity but reduce frequency.\n",
    "    - Tweedie is still robust against such violation of its assumptions and produces very strong models."
   ]
  },
  {
   "cell_type": "markdown",
   "metadata": {
    "slideshow": {
     "slide_type": "slide"
    }
   },
   "source": [
    "## Probability Model Distribution\n",
    "\n",
    "#### Binomial Distribution\n",
    "\n",
    "- $\\mu$ = probability that the event will occur.\n",
    "- Used with the logit link function: $g(\\mu) = ln \\frac{\\mu}{1-\\mu}$<br>\n",
    "    - Can't use log link since RHS is unbounded.<br><br>\n",
    "    \n",
    "\n"
   ]
  },
  {
   "cell_type": "markdown",
   "metadata": {
    "slideshow": {
     "slide_type": "subslide"
    }
   },
   "source": [
    "- Logit: $ln \\frac{\\mu}{1-\\mu}$ and logistic: $\\frac{1}{1+e^{-x}}$<br><br>\n",
    "\n",
    "<center><img src='images/Logit.JPG'></center>\n",
    "\n",
    "- Linear predictor of 0 indicate 50% prob."
   ]
  },
  {
   "cell_type": "markdown",
   "metadata": {
    "slideshow": {
     "slide_type": "subslide"
    }
   },
   "source": [
    "$$\\begin{align} ln \\frac{\\mu}{1-\\mu} & = \\beta_0+\\beta_1 x_{i1}+\\beta_2 x_{i2}+ \\cdots + \\beta_p x_{ip} + \\text{offset} \\\\ \\\\\n",
    "& = \\beta_0+\\beta_1 x_{i1}+\\beta_2 x_{i2}+ \\cdots + \\beta_p x_{ip} + ln\\frac{p}{1-p} \\\\ \\\\\n",
    "\\frac{\\mu}{1-\\mu} & =e^{\\beta_0+\\beta_1 x_{i1}+\\beta_2 x_{i2}+ \\cdots + \\beta_p x_{ip}} \\cdot \\frac{p}{1-p}\\\\ \\\\\n",
    "& =e^{\\beta_0} \\cdot e^{\\beta_1 x_{i1}} \\cdot e^{\\beta_2 x_{i2}} \\cdot \\ldots  \\cdot e^{\\beta_p x_{ip}} \\cdot \\frac{p}{1-p} \\end{align}$$<br><br>\n",
    "\n",
    "- Assume $\\beta_1 = .24$ then $e^{.24} - 1 = 27\\%$ means 27% higher probability of occurrence than base class.\n"
   ]
  },
  {
   "cell_type": "markdown",
   "metadata": {
    "slideshow": {
     "slide_type": "slide"
    }
   },
   "source": [
    "## Correlations Among Predictor Variables\n",
    "\n",
    "- GLM can easily handle moderate correlation.\n",
    "- Higher correlation between variables causes issues for GLM since same information appears twice.\n",
    "    - Coefficients may behave irratically - extremely high or low coefficients.\n",
    "    - Std errors become quite large.\n",
    "    - Such model is called unstable."
   ]
  },
  {
   "cell_type": "markdown",
   "metadata": {
    "slideshow": {
     "slide_type": "subslide"
    }
   },
   "source": [
    "#### Ways of dealing with high correlation\n",
    "\n",
    "1. Remove all but one of the highly correlated variables.\n",
    "    - Could lead to loss of some unique information.\n",
    "2. Use principal components analysis (PCA) or factor analysis to create new uncorrelated variables.\n",
    "    - Requires time consuming analysis."
   ]
  },
  {
   "cell_type": "markdown",
   "metadata": {
    "slideshow": {
     "slide_type": "subslide"
    }
   },
   "source": [
    "#### Multicollinearity\n",
    "\n",
    "- When two or more predictors are strongly predictive of another predictor variable.\n",
    "- Variance inflation factor (VIF) can be used to detect multicollinearity.\n",
    "    - Measures the increase in (squared) std error due to the presence of collinearity with other predictors.\n",
    "    - VIF of 10 or higher is considered high."
   ]
  },
  {
   "cell_type": "markdown",
   "metadata": {
    "slideshow": {
     "slide_type": "subslide"
    }
   },
   "source": [
    "#### Aliasing\n",
    "\n",
    "- When two variables are the same (i.e. male variable and female variable) \n",
    "- GLM will not converge  in this case.\n",
    "    - Most GLM softwares automatically detect this and drop one of the predictor variables."
   ]
  },
  {
   "cell_type": "markdown",
   "metadata": {
    "slideshow": {
     "slide_type": "slide"
    }
   },
   "source": [
    "## GLM Limitations\n",
    "\n",
    "1. <b>GLMs assign full credibility to the data</b>  \n",
    "    - It gives warning using high std error and p-value.<br><br>\n",
    "    \n",
    "2. <b>GLMs assume the <u>randomness</u> of outcomes are uncorrelated</b>\n",
    "    - Large instances of group of correlated outcomes causes GLM to produce sub-optimal predictions."
   ]
  }
 ],
 "metadata": {
  "celltoolbar": "Slideshow",
  "kernelspec": {
   "display_name": "Python 3",
   "language": "python",
   "name": "python3"
  },
  "language_info": {
   "codemirror_mode": {
    "name": "ipython",
    "version": 3
   },
   "file_extension": ".py",
   "mimetype": "text/x-python",
   "name": "python",
   "nbconvert_exporter": "python",
   "pygments_lexer": "ipython3",
   "version": "3.7.1"
  }
 },
 "nbformat": 4,
 "nbformat_minor": 2
}
