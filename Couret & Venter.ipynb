{
 "cells": [
  {
   "cell_type": "markdown",
   "metadata": {
    "slideshow": {
     "slide_type": "skip"
    }
   },
   "source": [
    "## Credibility\n",
    "\n",
    "- Is non-parametric so we don't care about actual distribution.\n",
    "- Is based on minimizing squared error.\n",
    "    - Not appropriate for heavy-tailed distributions\n",
    "        - Small error in tail can make huge difference.\n",
    "        - Credibility on log(data) can be used.\n",
    "        - Claim frequency is not heavy-tailed - used in paper."
   ]
  },
  {
   "cell_type": "markdown",
   "metadata": {
    "slideshow": {
     "slide_type": "slide"
    }
   },
   "source": [
    "## Overall Insight\n",
    "\n",
    "- Same loss could end up being anywhere on the severity spectrum.\n",
    "- Due to the correlation between injury types, we can use lower severity injuries to predict other injury types.<br><br>\n",
    "\n",
    "- They calculate frequencies relative to the temporary total category.\n",
    "    - Since it has the most reliable amount of data."
   ]
  },
  {
   "cell_type": "markdown",
   "metadata": {
    "slideshow": {
     "slide_type": "slide"
    }
   },
   "source": [
    "## Variables\n",
    "\n",
    "\n",
    "- $V_c = \\frac{\\text{# of F claims in class i}}{\\text{# of TT claims in class i}}$<br><br>\n",
    "- $V_h = \\frac{\\text{# of F claims in HG h}}{\\text{# of TT claims in HG h}}$<br><br>\n",
    "- W = PT\n",
    "- X = Major PP\n",
    "- Y = Minor PP"
   ]
  },
  {
   "cell_type": "markdown",
   "metadata": {
    "slideshow": {
     "slide_type": "subslide"
    }
   },
   "source": [
    "- $V_c$\n",
    "- $V_{c,\\text{holdout}}$\n",
    "- $V_h$\n",
    "- $V_{h,\\text{holdout}}$"
   ]
  },
  {
   "cell_type": "markdown",
   "metadata": {
    "slideshow": {
     "slide_type": "slide"
    }
   },
   "source": [
    "## Multi-Dimensional Credibility Procedure\n",
    "\n",
    "- Trying to estimate the \"true\" population mean for injury type ratios ($v_c, w_c, \\ldots$)<br><br>\n",
    "- The procedure uses credibility factors ($b_{\\_,c},c_{\\_,c},d_{\\_,c},e_{\\_,c}$) that vary by injury type ratios."
   ]
  },
  {
   "cell_type": "markdown",
   "metadata": {
    "slideshow": {
     "slide_type": "subslide"
    }
   },
   "source": [
    "$$\\begin{align} v_c^{est} & = V_h + b_{v,c}(V_c-V_h) + c_{v,c}(W_c-W_h) + d_{v,c}(X_c-X_h) + e_{v,c}(Y_c-Y_h) \\\\ \\\\\n",
    "w_c^{est} & = W_h + b_{w,c}(V_c-V_h) + c_{w,c}(W_c-W_h) + d_{w,c}(X_c-X_h) + e_{w,c}(Y_c-Y_h) \\\\ \\\\\n",
    "x_c^{est} & = X_h + b_{x,c}(V_c-V_h) + c_{x,c}(W_c-W_h) + d_{x,c}(X_c-X_h) + e_{x,c}(Y_c-Y_h) \\\\ \\\\\n",
    "y_c^{est} & = Y_h + b_{y,c}(V_c-V_h) + c_{y,c}(W_c-W_h) + d_{y,c}(X_c-X_h) + e_{y,c}(Y_c-Y_h) \\end{align}$$<br><br>\n",
    "\n",
    "- We are modifying HG ratio using class-injury type data."
   ]
  },
  {
   "cell_type": "markdown",
   "metadata": {
    "slideshow": {
     "slide_type": "subslide"
    }
   },
   "source": [
    "- If injury types were uncorrelated, the cred for other injury types would be 0 and we get:<br><br>\n",
    "\n",
    "$$\\begin{align} v_c^{est} & = V_h + b_{v,c}(V_c-V_h)) \\\\ \\\\\n",
    "& = b_{v,c}V_i +(1-b_{v,c})V_h \\end{align}$$"
   ]
  },
  {
   "cell_type": "markdown",
   "metadata": {
    "slideshow": {
     "slide_type": "slide"
    }
   },
   "source": [
    "<center><img src='images/CV_1.JPG'></center>"
   ]
  },
  {
   "cell_type": "markdown",
   "metadata": {
    "slideshow": {
     "slide_type": "subslide"
    }
   },
   "source": [
    "<center><img src='images/CV_2.JPG'></center>\n",
    "<center><img src='images/CV_3.JPG'></center>"
   ]
  },
  {
   "cell_type": "markdown",
   "metadata": {
    "slideshow": {
     "slide_type": "slide"
    }
   },
   "source": [
    "## Buhlmann-Straub Credibility\n",
    "\n",
    "- They use multivariate version of Buhlman-Straub to calculate credibility values.\n",
    "    - Weights are TT claims counts."
   ]
  },
  {
   "cell_type": "markdown",
   "metadata": {
    "slideshow": {
     "slide_type": "subslide"
    }
   },
   "source": [
    "<center><img src='images/CV_Matrix.JPG'></center>"
   ]
  },
  {
   "cell_type": "markdown",
   "metadata": {
    "slideshow": {
     "slide_type": "slide"
    }
   },
   "source": [
    "<center><img src='images/CV_4.JPG'></center>"
   ]
  },
  {
   "cell_type": "markdown",
   "metadata": {
    "slideshow": {
     "slide_type": "subslide"
    }
   },
   "source": [
    "<center><img src='images/CV_5.JPG'></center><br><br>\n"
   ]
  },
  {
   "cell_type": "markdown",
   "metadata": {
    "slideshow": {
     "slide_type": "subslide"
    }
   },
   "source": [
    "<center><img src='images/CV_6.JPG'></center>"
   ]
  },
  {
   "cell_type": "markdown",
   "metadata": {
    "slideshow": {
     "slide_type": "slide"
    }
   },
   "source": [
    "## Tests Used For Performance Measurement\n",
    "\n",
    "1. Sum of squared errors test\n",
    "2. Quintiles test"
   ]
  },
  {
   "cell_type": "markdown",
   "metadata": {
    "slideshow": {
     "slide_type": "slide"
    }
   },
   "source": [
    "## Sum of Squared Errors Test\n",
    "\n",
    "- They calculated SSE for the following datasets (against holdout dataset of odd years):\n",
    "    - Raw even years data\n",
    "    - Hazard Group\n",
    "    - Credibility procedure"
   ]
  },
  {
   "cell_type": "markdown",
   "metadata": {
    "slideshow": {
     "slide_type": "subslide"
    }
   },
   "source": [
    "#### Reasons for lack of improvement in SSE\n",
    "\n",
    "1. Estimators derived from the even years of data are designed to fit that data.\n",
    "2. Class data by year is volatile."
   ]
  },
  {
   "cell_type": "markdown",
   "metadata": {
    "slideshow": {
     "slide_type": "slide"
    }
   },
   "source": [
    "## Quintiles Test\n",
    "\n",
    "- Done for each combination of injury type and HG separately.\n",
    "- Values are normalized at the HG level to eliminate HG level differences between modeling and holdout datasets."
   ]
  },
  {
   "cell_type": "markdown",
   "metadata": {
    "slideshow": {
     "slide_type": "subslide"
    }
   },
   "source": [
    "#### Procedure\n",
    "\n",
    "1. Sort classes in both the modeling and holdout datasets in increasing order of estimated relativities (cred proc).\n",
    "2. Group classes in quintiles with same number of TT claims.<br><br>\n",
    "3. Calculate: $\\frac{\\text{injury type relativity from x}}{\\text{injury type relativity of HG}}$<br><br>\n",
    "\n",
    "<center><img src='images/CV_Quint_1.JPG'></center>"
   ]
  },
  {
   "cell_type": "markdown",
   "metadata": {
    "slideshow": {
     "slide_type": "subslide"
    }
   },
   "source": [
    "4. Calculate SSE where the actual values are in column 2.\n",
    "\n",
    "\n"
   ]
  },
  {
   "cell_type": "markdown",
   "metadata": {
    "slideshow": {
     "slide_type": "subslide"
    }
   },
   "source": [
    "#### Result\n",
    "\n",
    "- Quintiles test showed an improvement over using HG ratios except for HG A\n",
    "    - They claim that HG A is very homogeneous, so the injury type ratios don't vary much within this HG."
   ]
  },
  {
   "cell_type": "markdown",
   "metadata": {
    "slideshow": {
     "slide_type": "slide"
    }
   },
   "source": [
    "<center><img src='images/CV_Quint_RF_1.JPG'></center>"
   ]
  },
  {
   "cell_type": "markdown",
   "metadata": {
    "slideshow": {
     "slide_type": "slide"
    }
   },
   "source": [
    "<table><tr><td><img src='images/CV_Quint_RF_1.JPG'></td><td><img src='images/CV_Quint_RF_2.JPG'></td></tr></table>"
   ]
  },
  {
   "cell_type": "markdown",
   "metadata": {
    "slideshow": {
     "slide_type": "subslide"
    }
   },
   "source": [
    "<table><tr><td><img src='images/CV_Quint_RF_1.JPG'></td><td><img src='images/CV_Quint_RF_3.JPG'></td></tr></table>"
   ]
  },
  {
   "cell_type": "markdown",
   "metadata": {
    "slideshow": {
     "slide_type": "subslide"
    }
   },
   "source": [
    "<table><tr><td><img src='images/CV_Quint_RF_1.JPG'><img src='images/CV_Quint_RF_6.JPG'></td><td><img src='images/CV_Quint_RF_4.JPG'></td></tr></table>"
   ]
  },
  {
   "cell_type": "markdown",
   "metadata": {
    "slideshow": {
     "slide_type": "subslide"
    }
   },
   "source": [
    "<center><img src='images/CV_Quint_RF_5.JPG'></center>"
   ]
  }
 ],
 "metadata": {
  "celltoolbar": "Slideshow",
  "kernelspec": {
   "display_name": "Python 3",
   "language": "python",
   "name": "python3"
  },
  "language_info": {
   "codemirror_mode": {
    "name": "ipython",
    "version": 3
   },
   "file_extension": ".py",
   "mimetype": "text/x-python",
   "name": "python",
   "nbconvert_exporter": "python",
   "pygments_lexer": "ipython3",
   "version": "3.7.1"
  }
 },
 "nbformat": 4,
 "nbformat_minor": 2
}
