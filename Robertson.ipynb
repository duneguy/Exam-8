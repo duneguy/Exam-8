{
 "cells": [
  {
   "cell_type": "markdown",
   "metadata": {
    "slideshow": {
     "slide_type": "slide"
    }
   },
   "source": [
    "- Excess loss factor (ELF) or Excess loss Pure Premium factor (ELPPF)  or Excess ratio<br><br> \n",
    "\n",
    "$$R(L) = \\frac{E[X]-X[X;L]}{E[X]}$$<br><br>\n",
    "\n",
    "- <b>Hazard Group:</b> Collection of workers compensation classifications that have relatively similar expected ELFs over a broad range of limits.\n",
    "    - Defined on a country-wide basis.<br><br>\n",
    "    \n",
    "- Assumes mix of injuries within a class does not vary by state."
   ]
  },
  {
   "cell_type": "markdown",
   "metadata": {
    "slideshow": {
     "slide_type": "slide"
    }
   },
   "source": [
    "## Goal and Products\n",
    "\n",
    "- <b>Goal:</b> Produce new hazard group mappings that exist at the countrywide level.<br><br>\n",
    "- Final product:<br><br>\n",
    "$$\n",
    "\\begin{array}{c|c}\n",
    "\\text{State} & \\text{Hazard Group} & \\text{Limt} & \\text{ELF}\\\\\n",
    "\\hline\n",
    "\\text{TX} &  \\text{A} & \\text{\\$100,000} & \\cdots \\\\\n",
    "\\text{TX} &  \\text{A} & \\text{\\$250,000} & \\cdots \\\\\n",
    "\\text{TX} &  \\text{A} & \\text{\\$500,000} & \\cdots \\\\\n",
    "\\text{TX} &  \\text{A} & \\text{\\$1,000,000} & \\cdots \\\\\n",
    "\\cdots & \\cdots & \\cdots & \\cdots\n",
    "\\end{array}$$"
   ]
  }
 ],
 "metadata": {
  "celltoolbar": "Slideshow",
  "kernelspec": {
   "display_name": "Python 3",
   "language": "python",
   "name": "python3"
  },
  "language_info": {
   "codemirror_mode": {
    "name": "ipython",
    "version": 3
   },
   "file_extension": ".py",
   "mimetype": "text/x-python",
   "name": "python",
   "nbconvert_exporter": "python",
   "pygments_lexer": "ipython3",
   "version": "3.7.1"
  }
 },
 "nbformat": 4,
 "nbformat_minor": 2
}
