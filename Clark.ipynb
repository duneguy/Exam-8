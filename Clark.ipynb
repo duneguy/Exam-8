{
 "cells": [
  {
   "cell_type": "markdown",
   "metadata": {
    "slideshow": {
     "slide_type": "slide"
    }
   },
   "source": [
    "## Basis of Reinsurance<br>\n",
    "\n",
    "- <b>Risk Attaching</b> - covers policies written during period.\n",
    "    - Relates to written premium<br><br>\n",
    "\n",
    "- <b>Losses Occurring</b>\n",
    "    - Relates to earned premium"
   ]
  },
  {
   "cell_type": "markdown",
   "metadata": {
    "slideshow": {
     "slide_type": "slide"
    }
   },
   "source": [
    "## Types of Reinsurance<br>\n",
    "\n",
    "- <b>Facultative</b> - Only covers single risk<br>\n",
    "\n",
    "\n",
    "- <b>Treaty</b> - Covers multiple risks\n",
    "    - <b>Proportional</b>\n",
    "        - <b>Quota Share</b> - flat percent of losses and premiums are ceded\n",
    "        - <b>Surplus Share</b> - used if ceding company wants to retain low risk policies.\n",
    "    - <b>Non-proportional</b>\n",
    "        - <b>Per Risk XL</b> - protection against large losses\n",
    "        - <b>Per Occurence XL</b> - protection against CATs\n",
    "        - <b>Aggregate XL</b> - protection against frequency"
   ]
  },
  {
   "cell_type": "markdown",
   "metadata": {
    "slideshow": {
     "slide_type": "slide"
    }
   },
   "source": [
    "## Reinsurance Pricing<br>\n",
    "\n",
    "- <b>Experience Rating / Burn Cost</b> - Same as pricing insurance policy<br>\n",
    "  \n",
    "\n",
    "- <b>Exposure Rating</b> - Used to price non-proportional reinsurance\n",
    "    - Allocate proportion of losses by covered layers\n",
    "    - Used along with experience rating\n",
    "\n",
    "#### Other Definitions\n",
    "\n",
    "- <b>Burning Cost</b> = $\\frac{\\text{Past ceded losses}}{\\text{Past ceding company subject premium}}$<br><br>\n",
    "- <b> Loss Cost</b> = $\\frac{\\text{Ult treaty losses}}{\\text{Expected ceding company subject premium (net of inuring)}}$"
   ]
  },
  {
   "cell_type": "markdown",
   "metadata": {
    "slideshow": {
     "slide_type": "slide"
    }
   },
   "source": [
    "<center><img src='images/Quota_Share_1.JPG'></center>"
   ]
  },
  {
   "cell_type": "markdown",
   "metadata": {
    "slideshow": {
     "slide_type": "subslide"
    }
   },
   "source": [
    "<center><img src='images/Quota_Share_2.JPG'></center>\n",
    "<center><img src='images/Quota_Share_3.JPG'></center>"
   ]
  },
  {
   "cell_type": "markdown",
   "metadata": {
    "slideshow": {
     "slide_type": "subslide"
    }
   },
   "source": [
    "<center><img src='images/Quota_Share_4.JPG'></center>"
   ]
  },
  {
   "cell_type": "markdown",
   "metadata": {
    "slideshow": {
     "slide_type": "slide"
    }
   },
   "source": [
    "## Sliding Scale Commission<br>\n",
    "\n",
    "- Commision paid by the reinsurer to the ceding company varies with the actual loss ratio on the treaty.<br><br>\n",
    "\n",
    "- <b>Balanced sliding scale plan</b>: commission @ E[LR] = E[commission]<br><br>\n",
    "\n",
    "- <b>Expected technical ratio</b> = E[LR] + E[Commission ratio]"
   ]
  },
  {
   "cell_type": "markdown",
   "metadata": {
    "slideshow": {
     "slide_type": "subslide"
    }
   },
   "source": [
    "- <b>Carryforward provision</b>- allows the XS actual LR above the required LR for minimum commission is rolled into subsequent year.\n"
   ]
  },
  {
   "cell_type": "markdown",
   "metadata": {
    "slideshow": {
     "slide_type": "subslide"
    }
   },
   "source": [
    "\n",
    "#### Pricing carryforward provision\n",
    "\n",
    "1. Assume that it only applies to the current year's LR\n",
    "    - <b>Issue:</b> Ignores potential for future carryforward<br><br>\n",
    "\n",
    "<center><img src='images/carryforward.JPG'></center>\n",
    "\n",
    "2. Estimate the impact on a block of years (e.g. the next 5 years) - reduces variance of LRs\n",
    "    - <b>Issues</b>\n",
    "        - Method for reducing the variance is not obvious\n",
    "        - Ignores that contract might not be renewed"
   ]
  },
  {
   "cell_type": "markdown",
   "metadata": {
    "slideshow": {
     "slide_type": "slide"
    }
   },
   "source": [
    "<center><img src='images/Sliding_Scale_1.JPG'></center>"
   ]
  },
  {
   "cell_type": "markdown",
   "metadata": {
    "slideshow": {
     "slide_type": "subslide"
    }
   },
   "source": [
    "<center><img src='images/Sliding_Scale_2.JPG'></center>\n"
   ]
  },
  {
   "cell_type": "markdown",
   "metadata": {
    "slideshow": {
     "slide_type": "subslide"
    }
   },
   "source": [
    "<center><img src='images/Sliding_Scale_3.JPG'></center>"
   ]
  },
  {
   "cell_type": "markdown",
   "metadata": {
    "slideshow": {
     "slide_type": "slide"
    }
   },
   "source": [
    "## Profit Commision<br>\n",
    "\n",
    "- Returns some of the reinsurer's profit back to the ceding company as additional commission. (opposite of carryforward provision)<br><br>\n",
    "\n",
    "$$\\text{Reinsurer Profit = } 100\\% - \\text{Actual LR - Ceding Commission - Reinsurer Expense Margin}$$"
   ]
  },
  {
   "cell_type": "markdown",
   "metadata": {
    "slideshow": {
     "slide_type": "slide"
    }
   },
   "source": [
    "<center><img src='images/Profit_Commission.JPG'></center>"
   ]
  },
  {
   "cell_type": "markdown",
   "metadata": {
    "slideshow": {
     "slide_type": "subslide"
    }
   },
   "source": [
    "<center><img src='images/Profit_Commission_1.JPG'></center>"
   ]
  },
  {
   "cell_type": "markdown",
   "metadata": {
    "slideshow": {
     "slide_type": "slide"
    }
   },
   "source": [
    "## Loss Corridors<br>\n",
    "\n",
    "- Allows the ceding company to reassume some liability if the LR exceeds a certain amount.\n",
    "\n"
   ]
  },
  {
   "cell_type": "markdown",
   "metadata": {
    "slideshow": {
     "slide_type": "slide"
    }
   },
   "source": [
    "<center><img src='images/Loss_Corridor_1.JPG'></center>"
   ]
  },
  {
   "cell_type": "markdown",
   "metadata": {
    "slideshow": {
     "slide_type": "subslide"
    }
   },
   "source": [
    "<center><img src='images/Loss_Corridor_2.JPG'></center>"
   ]
  },
  {
   "cell_type": "markdown",
   "metadata": {
    "slideshow": {
     "slide_type": "slide"
    }
   },
   "source": [
    "## Property Per Risk XOL<br>\n",
    "\n",
    "- Provides reinsurance coverage above the retention and up to a limit for each risk.<br><br>\n",
    "\n",
    "- Treaty premium can be set as percentage of ceding company subject premium\n",
    "    - GNEPI for loss occurring basis\n",
    "    - GNWPI for risk attaching basis\n",
    "        - \"Net\" is of inuring treaties\n",
    "\n"
   ]
  },
  {
   "cell_type": "markdown",
   "metadata": {
    "slideshow": {
     "slide_type": "subslide"
    }
   },
   "source": [
    "#### Pricing\n",
    "- Experience Rating\n",
    "- Exposure Rating\n",
    "    - Exposure to IV can exceed 100\\%<br><br>\n",
    "    \n",
    "- <b>Free cover</b> issue - use exposure rating for layers with no experience."
   ]
  },
  {
   "cell_type": "markdown",
   "metadata": {
    "slideshow": {
     "slide_type": "subslide"
    }
   },
   "source": [
    "<center><img src='images/Free_Cover.JPG'></center>"
   ]
  },
  {
   "cell_type": "markdown",
   "metadata": {
    "slideshow": {
     "slide_type": "subslide"
    }
   },
   "source": [
    "#### Credibility\n",
    "- Use expected no. of claims or expected dollars of loss\n",
    "    - Actual claims assign more credibility to worse than average years\n",
    "- Use variance of historical LRs\n",
    "    - More stable LRs $\\rightarrow$ higher cred"
   ]
  },
  {
   "cell_type": "markdown",
   "metadata": {
    "slideshow": {
     "slide_type": "subslide"
    }
   },
   "source": [
    "#### Inuring Reinsurance\n",
    "- Experience rating\n",
    "    - Restate experience net of inuring reinsurance.\n",
    "- Exposure rating\n",
    "    - Exposure curve based on gross IV, but apply to net"
   ]
  },
  {
   "cell_type": "markdown",
   "metadata": {
    "slideshow": {
     "slide_type": "slide"
    }
   },
   "source": [
    "<center><img src='images/Property_XOL_Exp.JPG'></center>"
   ]
  },
  {
   "cell_type": "markdown",
   "metadata": {
    "slideshow": {
     "slide_type": "subslide"
    }
   },
   "source": [
    "<center><img src='images/Property_XOL_Exp_1.JPG'></center>"
   ]
  },
  {
   "cell_type": "markdown",
   "metadata": {
    "slideshow": {
     "slide_type": "subslide"
    }
   },
   "source": [
    "<center><img src='images/Property_XOL_Exp_2.JPG'></center>"
   ]
  },
  {
   "cell_type": "markdown",
   "metadata": {
    "slideshow": {
     "slide_type": "subslide"
    }
   },
   "source": [
    "<center><img src='images/Property_XOL_Exp_3.JPG'></center>"
   ]
  },
  {
   "cell_type": "markdown",
   "metadata": {
    "slideshow": {
     "slide_type": "slide"
    }
   },
   "source": [
    "<center><img src='images/Property_XOL_Expo.JPG'></center>"
   ]
  },
  {
   "cell_type": "markdown",
   "metadata": {
    "slideshow": {
     "slide_type": "subslide"
    }
   },
   "source": [
    "<center><img src='images/Property_XOL_Expo_1.JPG'></center>"
   ]
  },
  {
   "cell_type": "markdown",
   "metadata": {
    "slideshow": {
     "slide_type": "subslide"
    }
   },
   "source": [
    "<center><img src='images/Property_XOL_Expo_2.JPG'></center>"
   ]
  },
  {
   "cell_type": "markdown",
   "metadata": {
    "slideshow": {
     "slide_type": "subslide"
    }
   },
   "source": [
    "<center><img src='images/Property_XOL_Expo_3.JPG'></center>"
   ]
  },
  {
   "cell_type": "markdown",
   "metadata": {
    "slideshow": {
     "slide_type": "subslide"
    }
   },
   "source": [
    "<center><img src='images/Property_XOL_Expo_4.JPG'></center>"
   ]
  },
  {
   "cell_type": "markdown",
   "metadata": {
    "slideshow": {
     "slide_type": "slide"
    }
   },
   "source": [
    "## Casualty Per Occurrence XOL<br>\n",
    "\n",
    "- Treaties separated into 3 layers\n",
    "    - <b>Working layer</b>\n",
    "    - <b>Exposed excess</b> - below policy limits. Gets hit rarely.\n",
    "    - <b>Clash covers</b> - hit due to multi policy losses from single occurrence, ECO, XPL, or if ALAE included."
   ]
  },
  {
   "cell_type": "markdown",
   "metadata": {
    "slideshow": {
     "slide_type": "subslide"
    }
   },
   "source": [
    "#### ALAE\n",
    "\n",
    "- Included with loss\n",
    "    - If ILF is for losses only\n",
    "        - Divide the loss by the ALAE ratio.\n",
    "    - If ILF includes loss and ALAE then, no need to divide<br><br>\n",
    "    \n",
    "- Pro-rata with loss"
   ]
  },
  {
   "cell_type": "markdown",
   "metadata": {
    "slideshow": {
     "slide_type": "subslide"
    }
   },
   "source": [
    "#### Pricing\n",
    "\n",
    "- Experience rating\n",
    "    - WC, need case reserves excluding tabular discounts\n",
    "    - Need to think about policy limits when trending losses<br><br>\n",
    "    \n",
    "- Exposure rating\n",
    "    - Exposure factors should exclude any risk-loading. Risk load should be added later\n",
    "    - We can use ILFs or Expected limited severities to get exposure factor"
   ]
  },
  {
   "cell_type": "markdown",
   "metadata": {
    "slideshow": {
     "slide_type": "subslide"
    }
   },
   "source": [
    "#### WC and ELFs\n",
    "\n",
    "- WC policies don't have policy limits<br><br>\n",
    "\n",
    "- Clark mentions that ELFs can be approximated by an inverse power curve<br><br>\n",
    "\n",
    "$$\\text{ELF}_\\text{Lim} = a \\cdot \\text{Lim}^{-b}$$"
   ]
  },
  {
   "cell_type": "markdown",
   "metadata": {
    "slideshow": {
     "slide_type": "slide"
    }
   },
   "source": [
    "<center><img src='images/Cas_XOL_Exp.JPG'></center>"
   ]
  },
  {
   "cell_type": "markdown",
   "metadata": {
    "slideshow": {
     "slide_type": "subslide"
    }
   },
   "source": [
    "<center><img src='images/Cas_XOL_Exp_1.JPG'></center>\n"
   ]
  },
  {
   "cell_type": "markdown",
   "metadata": {
    "slideshow": {
     "slide_type": "subslide"
    }
   },
   "source": [
    "<center><img src='images/Cas_XOL_Exp_2.JPG'></center>\n"
   ]
  },
  {
   "cell_type": "markdown",
   "metadata": {
    "slideshow": {
     "slide_type": "subslide"
    }
   },
   "source": [
    "<center><img src='images/Cas_XOL_Exp_3.JPG'></center>"
   ]
  },
  {
   "cell_type": "markdown",
   "metadata": {
    "slideshow": {
     "slide_type": "subslide"
    }
   },
   "source": [
    "<center><img src='images/Cas_XOL_Exp_4.JPG'></center>"
   ]
  },
  {
   "cell_type": "markdown",
   "metadata": {
    "slideshow": {
     "slide_type": "slide"
    }
   },
   "source": [
    "<center><img src='images/Cas_XOL_Expo.JPG'></center>"
   ]
  },
  {
   "cell_type": "markdown",
   "metadata": {
    "slideshow": {
     "slide_type": "subslide"
    }
   },
   "source": [
    "<center><img src='images/Cas_XOL_Expo_1.JPG'></center>"
   ]
  },
  {
   "cell_type": "markdown",
   "metadata": {
    "slideshow": {
     "slide_type": "subslide"
    }
   },
   "source": [
    "<center><img src='images/Cas_XOL_Expo_2.JPG'></center>"
   ]
  },
  {
   "cell_type": "markdown",
   "metadata": {
    "slideshow": {
     "slide_type": "slide"
    }
   },
   "source": [
    "<center><img src='images/Cas_XOL_WC_Expo.JPG'></center>"
   ]
  },
  {
   "cell_type": "markdown",
   "metadata": {
    "slideshow": {
     "slide_type": "subslide"
    }
   },
   "source": [
    "<center><img src='images/Cas_XOL_WC_Expo_1.JPG'></center><br>\n",
    "\n",
    "- Or, just use expected limited losses to calculate exposure factors"
   ]
  },
  {
   "cell_type": "markdown",
   "metadata": {
    "slideshow": {
     "slide_type": "subslide"
    }
   },
   "source": [
    "<center><img src='images/Cas_XOL_WC_Expo_2.JPG'></center>"
   ]
  },
  {
   "cell_type": "markdown",
   "metadata": {
    "slideshow": {
     "slide_type": "slide"
    }
   },
   "source": [
    "## Umbrella Policies<br>\n",
    "\n",
    "- Can be based on XS or Drop-Down coverage basis\n",
    "    - Drop-down happens when the underlying aggregate is exhausted\n",
    "        - Policy covers from first dollar of loss\n",
    "        - $\\phi$ = aggregate XS factor on the underlying policy (similar to Table M charge)<br><br>\n",
    "        \n",
    "$$\\text{Exposure Factor} = \\frac{\\phi \\cdot \\text{(Exp on first dollar basis)} + (1-\\phi) \\cdot \\text{(Exp on XS policy basis)}}{\\phi \\cdot \\text{(Umbrella policy exposure)} + (1-\\phi) \\cdot \\text{(XS Umbrella policy exp)}}$$"
   ]
  },
  {
   "cell_type": "markdown",
   "metadata": {
    "slideshow": {
     "slide_type": "subslide"
    }
   },
   "source": [
    "<center><img src='images/Umb_Limits.JPG'></center>"
   ]
  },
  {
   "cell_type": "markdown",
   "metadata": {
    "slideshow": {
     "slide_type": "slide"
    }
   },
   "source": [
    "<center><img src='images/RF_Umb.JPG'></center>"
   ]
  },
  {
   "cell_type": "markdown",
   "metadata": {
    "slideshow": {
     "slide_type": "subslide"
    }
   },
   "source": [
    "<center><img src='images/RF_Umb_1.JPG'></center>"
   ]
  },
  {
   "cell_type": "markdown",
   "metadata": {
    "slideshow": {
     "slide_type": "subslide"
    }
   },
   "source": [
    "<center><img src='images/RF_Umb_2.JPG'></center>"
   ]
  },
  {
   "cell_type": "markdown",
   "metadata": {
    "slideshow": {
     "slide_type": "slide"
    }
   },
   "source": [
    "## Aggregate Deductibles<br><br>\n",
    "\n",
    "- The ceding company could opt for additional annual aggregate deductible\n",
    "    - Just reduce the expected ceded losses by the agg ded"
   ]
  },
  {
   "cell_type": "markdown",
   "metadata": {
    "slideshow": {
     "slide_type": "slide"
    }
   },
   "source": [
    "## Swing Plans<br>\n",
    "\n",
    "- Type of retrospective rating\n",
    "- Provisional rate should equal E[Prem] to avoid cash flow inequity issues<br><br>\n",
    "\n",
    "- Plan is balanced if: E[LR] = 1 - Expense ratio"
   ]
  },
  {
   "cell_type": "markdown",
   "metadata": {
    "slideshow": {
     "slide_type": "slide"
    }
   },
   "source": [
    "<center><img src='images/Swing_Plan.JPG'></center>"
   ]
  },
  {
   "cell_type": "markdown",
   "metadata": {
    "slideshow": {
     "slide_type": "subslide"
    }
   },
   "source": [
    "<center><img src='images/Swing_Plan_1.JPG'></center>"
   ]
  },
  {
   "cell_type": "markdown",
   "metadata": {
    "slideshow": {
     "slide_type": "subslide"
    }
   },
   "source": [
    "<center><img src='images/Swing_Plan_2.JPG'></center>"
   ]
  },
  {
   "cell_type": "markdown",
   "metadata": {
    "slideshow": {
     "slide_type": "slide"
    }
   },
   "source": [
    "## Aggregate Distribution Models<br>\n",
    "\n",
    "- <b>Empirical distributions</b> - Use historical experience\n",
    "    - Issue: May not account for all possibilities<br><br>\n",
    "    \n",
    "- <b>Single distribution models</b> - Assume known distrib such as lognormal\n",
    "    - Adv: Easy to use even with limited data\n",
    "    - Disadv: lognormal has no allowance for no-loss scenario<br><br>\n",
    "    \n",
    "- <b>Recursive calculations</b> - Freq is some distrib and severity uses equally-spaced amounts \n",
    "    - Adv: provides accurate handling of low freq scenarios\n",
    "    - Disadv: cumbersome calcs for high frequency scenarios. Only single sev distrib used.  \n",
    " "
   ]
  },
  {
   "cell_type": "markdown",
   "metadata": {
    "slideshow": {
     "slide_type": "subslide"
    }
   },
   "source": [
    "- <b>Other collective risk models</b> - freq and sev are analyzed separately\n",
    "    - Issues\n",
    "        - Complex calcs $\\rightarrow$ \"Black box\" mentality\n",
    "        - Freq-sev may not be independent in some cases\n",
    "        - Some collective risk models use numerical methods with large error term for low freq scenarios\n",
    "        - Agg distrib reflects process var, but not param var of the models used"
   ]
  },
  {
   "cell_type": "markdown",
   "metadata": {
    "slideshow": {
     "slide_type": "slide"
    }
   },
   "source": [
    "## Property Catastrophe Covers<br>\n",
    "\n",
    "- Allow for reinstatements\n",
    "    - Pro-rata to amount - used up amount\n",
    "    - Pro-rata to time - time left\n",
    "    - Both\n",
    "    \n"
   ]
  },
  {
   "cell_type": "markdown",
   "metadata": {
    "slideshow": {
     "slide_type": "subslide"
    }
   },
   "source": [
    "#### Pricing\n",
    "- Priced using CAT models\n",
    "- Reasonability checks:<br><br>\n",
    "\n",
    "$$\\begin{align} \\text{Payback period} & = \\frac{\\text{Treaty Limit}}{\\text{Annual Premium}} \\\\ \\\\ \\\\\n",
    "\\text{Rate on line} & = \\frac{\\text{Annual Premium}}{\\text{Treaty Limit}} \\end{align}$$"
   ]
  },
  {
   "cell_type": "markdown",
   "metadata": {
    "slideshow": {
     "slide_type": "subslide"
    }
   },
   "source": [
    "#### Basis\n",
    "\n",
    "- Need to be careful or might pay out multiple times for same event"
   ]
  }
 ],
 "metadata": {
  "celltoolbar": "Slideshow",
  "kernelspec": {
   "display_name": "Python 3",
   "language": "python",
   "name": "python3"
  },
  "language_info": {
   "codemirror_mode": {
    "name": "ipython",
    "version": 3
   },
   "file_extension": ".py",
   "mimetype": "text/x-python",
   "name": "python",
   "nbconvert_exporter": "python",
   "pygments_lexer": "ipython3",
   "version": "3.7.1"
  }
 },
 "nbformat": 4,
 "nbformat_minor": 2
}
