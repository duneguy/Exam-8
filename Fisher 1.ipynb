{
 "cells": [
  {
   "cell_type": "markdown",
   "metadata": {
    "slideshow": {
     "slide_type": "slide"
    }
   },
   "source": [
    "- <b>Manual Premium -</b> Exposures multiplied by rate found in the manual.<br><br>\n",
    "\n",
    "- <b>Standard Premium</b> = Manual Premium x Experience Mod x Schedule Mod<br><br>\n",
    "\n",
    "For this exam, we assume Schedule Mod = 1"
   ]
  },
  {
   "cell_type": "markdown",
   "metadata": {
    "slideshow": {
     "slide_type": "slide"
    }
   },
   "source": [
    "- Experience rating is useful when insureds don't fit neatly into a rating class.<br><br>\n",
    "- It allows us to account for the variance of the hypothetical means of the risks witin a rating class."
   ]
  },
  {
   "cell_type": "markdown",
   "metadata": {
    "slideshow": {
     "slide_type": "slide"
    }
   },
   "source": [
    "## Advantages of Experience Rating<br>\n",
    "\n",
    "1. Accounts for differences between risks in a class.\n",
    "\n",
    "2. Accounts for variables that are difficult to quantify.\n",
    "\n",
    "3. Further refinement of classification beyond manual rates."
   ]
  },
  {
   "cell_type": "markdown",
   "metadata": {
    "slideshow": {
     "slide_type": "slide"
    }
   },
   "source": [
    "## Goals of Experience Rating<br>\n",
    "\n",
    "1. Greater risk equity.\n",
    "\n",
    "2. Safety incentive.\n",
    "\n",
    "3. Enhance market competition."
   ]
  },
  {
   "cell_type": "markdown",
   "metadata": {
    "slideshow": {
     "slide_type": "slide"
    }
   },
   "source": [
    "## Credibility\n",
    "\n",
    "- For experience rating, Buhlmann credibility framework is used.<br><br>\n",
    "\n",
    "$$Z = \\frac{E}{E+K} \\text{ and } K = \\frac{EVPV}{VHM}$$"
   ]
  },
  {
   "cell_type": "markdown",
   "metadata": {
    "slideshow": {
     "slide_type": "subslide"
    }
   },
   "source": [
    "- EVPV is large when loss experience is highly volatile $\\rightarrow$ losses driven by purely random forces.\n",
    "    - Causes cred to be lower<br><br>\n",
    "    \n",
    "- VHM is large when there is significant variance between risks.\n",
    "    - Causes cred to be higher."
   ]
  },
  {
   "cell_type": "markdown",
   "metadata": {
    "slideshow": {
     "slide_type": "subslide"
    }
   },
   "source": [
    "#### Credibility Criteria<br>\n",
    "\n",
    "- 0 $\\leq$ Z $\\leq$ 1<br><br>\n",
    "\n",
    "- $\\frac{d}{dE}(Z) \\geq$ 0 $\\qquad \\text{(credibility does not decrease as size increases)}$<br><br> \n",
    "\n",
    "- $\\frac{d}{dE}\\left(\\frac{Z}{E}\\right) \\lt 0 \\qquad \\text{(charge for any loss decreases as size of risk increases)}$"
   ]
  },
  {
   "cell_type": "markdown",
   "metadata": {
    "slideshow": {
     "slide_type": "slide"
    }
   },
   "source": [
    "## No-Split Plan\n",
    "\n",
    "\n",
    "$$ \\begin{align} Mod & = \\color{blue}{\\frac{Z \\cdot A + (1-Z)E}{E}} = 1 + Z \\left(\\frac{A-E}{E} \\right) \\\\ \\\\\n",
    "& = 1 + \\left(\\frac{E}{E+K}\\right) \\cdot \\left(\\frac{A-E}{E}\\right)  = \\frac{E+K+A-E}{E+K} \\\\ \\\\\n",
    "& = \\color{blue}{\\frac{A+K}{E+K}}\\end{align}$$<br><br>\n",
    "\n",
    "- Used by ISO CGL."
   ]
  },
  {
   "cell_type": "markdown",
   "metadata": {
    "slideshow": {
     "slide_type": "slide"
    }
   },
   "source": [
    "<center><img src='images/Fisher_RF_No_Split_1.JPG'></center>"
   ]
  },
  {
   "cell_type": "markdown",
   "metadata": {
    "slideshow": {
     "slide_type": "subslide"
    }
   },
   "source": [
    "<center><img src='images/Fisher_RF_No_Split_2.JPG'></center>\n",
    "<center><img src='images/Fisher_RF_No_Split_3.JPG'></center>"
   ]
  },
  {
   "cell_type": "markdown",
   "metadata": {
    "slideshow": {
     "slide_type": "slide"
    }
   },
   "source": [
    "## Other Credibility Issues\n",
    "\n",
    "- <b>MSL</b> - Individual losses capped to prevent a single loss for having too much impact on mod.<br><br>\n",
    "\n",
    "- <b>Min and Max adjustment:</b> Mod can be capped to limit extreme values."
   ]
  },
  {
   "cell_type": "markdown",
   "metadata": {
    "slideshow": {
     "slide_type": "slide"
    }
   },
   "source": [
    "## Split Loss Plans\n",
    "\n",
    "- NCCI WC Experience rating plan uses this.<br><br>\n",
    "\n",
    "- <b>Primary</b> amount reflects frequency\n",
    "    - Receives the most weight in exp rating.\n",
    "    - Would need a lot of claims to exceed the expected amount.\n",
    "    - For WC, driven by Med-only and TT claims.\n",
    "    - Represents parameter risk.<br><br>\n",
    "    \n",
    "- <b>Excess</b> amount reflects severity\n",
    "    - For WC, driven by major PP, PT and Fatal claims.\n",
    "    - Represents process risk."
   ]
  },
  {
   "cell_type": "markdown",
   "metadata": {
    "slideshow": {
     "slide_type": "subslide"
    }
   },
   "source": [
    "$$\\begin{align} Mod & = \\frac{Z_pA_p+(1-Z_p)E_p+Z_eA_e+(1-Z_e)E_e}{E} \\\\ \\\\\n",
    "& = 1+Z_p \\frac{(A_p-E_p)}{E}+Z_e\\frac{(A_e-E_e)}{E} \\\\ \\\\\n",
    "& = \\color{blue}{\\frac{A_p+wA_e+(1-w)E_e+B}{E+B}}\\end{align}$$"
   ]
  },
  {
   "cell_type": "markdown",
   "metadata": {
    "slideshow": {
     "slide_type": "slide"
    }
   },
   "source": [
    "<center><img src='images/Fisher_RF_Split_1.JPG'></center>"
   ]
  },
  {
   "cell_type": "markdown",
   "metadata": {
    "slideshow": {
     "slide_type": "subslide"
    }
   },
   "source": [
    "<center><img src='images/Fisher_RF_Split_2.JPG'></center>"
   ]
  },
  {
   "cell_type": "markdown",
   "metadata": {
    "slideshow": {
     "slide_type": "subslide"
    }
   },
   "source": [
    "<center><img src='images/Fisher_RF_Split_3.JPG'></center>"
   ]
  },
  {
   "cell_type": "markdown",
   "metadata": {
    "slideshow": {
     "slide_type": "slide"
    }
   },
   "source": [
    "## Schedule Rating\n",
    "\n",
    "- Need to avoid rating on things already reflected in the experience.\n",
    "    - Might be okay to give partial credit if the risk is nto fully credible.<br><br>\n",
    "    \n",
    "- Limited to max adjustment of $\\pm$25%."
   ]
  },
  {
   "cell_type": "markdown",
   "metadata": {
    "slideshow": {
     "slide_type": "slide"
    }
   },
   "source": [
    "## Testing The Experience Rating Plan\n",
    "\n",
    "- An effective experience rating plan should:\n",
    "    - Identify risk differences\n",
    "        - There should be a clear upward trend in MLRs. Greater dispersion is better.\n",
    "    - Adjust for the differences\n",
    "        - SLRs should exhibit no trend.<br><br>\n",
    "    \n",
    "#### Methods of Testing\n",
    "- Quintiles test\n",
    "- Efficiency test"
   ]
  },
  {
   "cell_type": "markdown",
   "metadata": {
    "slideshow": {
     "slide_type": "slide"
    }
   },
   "source": [
    "<center><img src = 'images/Fisher_RF_QE_1.JPG'></center>"
   ]
  },
  {
   "cell_type": "markdown",
   "metadata": {
    "slideshow": {
     "slide_type": "subslide"
    }
   },
   "source": [
    "<center><img src = 'images/Fisher_RF_QE_2.JPG'></center>"
   ]
  },
  {
   "cell_type": "markdown",
   "metadata": {
    "slideshow": {
     "slide_type": "subslide"
    }
   },
   "source": [
    "<center><img src = 'images/Fisher_RF_QE_3.JPG'></center>"
   ]
  },
  {
   "cell_type": "markdown",
   "metadata": {
    "slideshow": {
     "slide_type": "subslide"
    }
   },
   "source": [
    "<center><img src = 'images/Fisher_RF_QE_4.JPG'></center><br><br>\n",
    "\n",
    "- We can also compare manual LR with the mod to see if too much or too little cred being given to the actual experience."
   ]
  },
  {
   "cell_type": "markdown",
   "metadata": {
    "slideshow": {
     "slide_type": "subslide"
    }
   },
   "source": [
    "<center><img src = 'images/Fisher_RF_QE_5.JPG'></center>"
   ]
  },
  {
   "cell_type": "markdown",
   "metadata": {
    "slideshow": {
     "slide_type": "subslide"
    }
   },
   "source": [
    "<center><img src = 'images/Fisher_RF_QE_6.JPG'></center>"
   ]
  }
 ],
 "metadata": {
  "celltoolbar": "Slideshow",
  "kernelspec": {
   "display_name": "Python 3",
   "language": "python",
   "name": "python3"
  },
  "language_info": {
   "codemirror_mode": {
    "name": "ipython",
    "version": 3
   },
   "file_extension": ".py",
   "mimetype": "text/x-python",
   "name": "python",
   "nbconvert_exporter": "python",
   "pygments_lexer": "ipython3",
   "version": "3.7.1"
  }
 },
 "nbformat": 4,
 "nbformat_minor": 2
}
