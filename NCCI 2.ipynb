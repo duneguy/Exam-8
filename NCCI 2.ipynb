{
 "cells": [
  {
   "cell_type": "markdown",
   "metadata": {
    "slideshow": {
     "slide_type": "slide"
    }
   },
   "source": [
    "## Per-Occurence XS Loss - Fisher vs NCCI 2\n",
    "\n",
    "- Fisher includes k in b<br>\n",
    "\n",
    "- NCCI 2 includes k in R - denoted as F"
   ]
  },
  {
   "cell_type": "markdown",
   "metadata": {
    "slideshow": {
     "slide_type": "slide"
    }
   },
   "source": [
    "- NCCI retro plan is available for WC policies in US."
   ]
  },
  {
   "cell_type": "markdown",
   "metadata": {
    "slideshow": {
     "slide_type": "slide"
    }
   },
   "source": [
    "## NCCI Retro Formula<br><br>\n",
    "\n",
    "#### No Occurence-Limit\n",
    "\n",
    "$$R = (B + cL + PcV)T$$<br>\n",
    "\n",
    "- P - Standard Premium\n",
    "- V - % unreported (Retro development factor)\n",
    "    - Only used for first 3 adjustments at 18, 30 and 42 mos."
   ]
  },
  {
   "cell_type": "markdown",
   "metadata": {
    "slideshow": {
     "slide_type": "subslide"
    }
   },
   "source": [
    "#### With Occurence-Limit\n",
    "\n",
    "- ICRLL procedure is used\n",
    "\n",
    "$$R = (B^{LM} + cL_D + PcV + PcF)T$$<br>\n",
    "\n",
    "- F - XS loss factor in terms of SP\n",
    "- V in limited losses $\\ne$ V in no occurence-limit case"
   ]
  },
  {
   "cell_type": "markdown",
   "metadata": {
    "slideshow": {
     "slide_type": "slide"
    }
   },
   "source": [
    "## Table M Search<br><br>\n",
    "\n",
    "- We want to find charge difference that is as close as possible to the calculated amount\n",
    "\n",
    "#### Tips\n",
    "\n",
    "- Charge difference decreases as entry ratios increase.\n",
    "- Each entry ratio pair changes the charge difference by about .01"
   ]
  },
  {
   "cell_type": "markdown",
   "metadata": {
    "slideshow": {
     "slide_type": "slide"
    }
   },
   "source": [
    "## No Minimum Premium<br><br>\n",
    "\n",
    "- $H = (B + c \\cdot r_H \\cdot E[A])T = B \\cdot T$<br><br>\n",
    "\n",
    "$$\\begin{align} \\phi(r_G) + r_G & = \\frac{G-\\big(e-(c-1)E[A]\\big)T}{c \\cdot E[A]\\cdot T} \\\\ \\\\ \n",
    "& = \\frac{G - (\\text{expense portion of B})T}{c \\cdot E[A]\\cdot T} \\end{align}$$"
   ]
  },
  {
   "cell_type": "markdown",
   "metadata": {
    "slideshow": {
     "slide_type": "slide"
    }
   },
   "source": [
    "<center><img src='images/NCCI_2_RF_1.JPG'></center>"
   ]
  },
  {
   "cell_type": "markdown",
   "metadata": {
    "slideshow": {
     "slide_type": "subslide"
    }
   },
   "source": [
    "<center><img src='images/NCCI_2_RF_2.JPG'></center><br>\n",
    "\n",
    "- ER = k"
   ]
  },
  {
   "cell_type": "markdown",
   "metadata": {
    "slideshow": {
     "slide_type": "subslide"
    }
   },
   "source": [
    "<center><img src='images/NCCI_2_RF_3.JPG'></center>"
   ]
  },
  {
   "cell_type": "markdown",
   "metadata": {
    "slideshow": {
     "slide_type": "subslide"
    }
   },
   "source": [
    "<center><img src='images/NCCI_2_RF_4.JPG'></center>"
   ]
  },
  {
   "cell_type": "markdown",
   "metadata": {
    "slideshow": {
     "slide_type": "subslide"
    }
   },
   "source": [
    "<center><img src='images/NCCI_2_RF_5.JPG'></center>"
   ]
  },
  {
   "cell_type": "markdown",
   "metadata": {
    "slideshow": {
     "slide_type": "slide"
    }
   },
   "source": [
    "<center><img src='images/NCCI_2_RF_2_1.JPG'></center>"
   ]
  },
  {
   "cell_type": "markdown",
   "metadata": {
    "slideshow": {
     "slide_type": "subslide"
    }
   },
   "source": [
    "<center><img src='images/NCCI_2_RF_2_2.JPG'></center>\n",
    "\n",
    "- ELPPF = ER = k"
   ]
  },
  {
   "cell_type": "markdown",
   "metadata": {
    "slideshow": {
     "slide_type": "subslide"
    }
   },
   "source": [
    "<center><img src='images/NCCI_2_RF_2_3.JPG'></center>\n",
    "<center><img src='images/NCCI_2_RF_2_4.JPG'></center>"
   ]
  },
  {
   "cell_type": "markdown",
   "metadata": {
    "slideshow": {
     "slide_type": "subslide"
    }
   },
   "source": [
    "<center><img src='images/NCCI_2_RF_2_5.JPG'></center>"
   ]
  }
 ],
 "metadata": {
  "celltoolbar": "Slideshow",
  "kernelspec": {
   "display_name": "Python 3",
   "language": "python",
   "name": "python3"
  },
  "language_info": {
   "codemirror_mode": {
    "name": "ipython",
    "version": 3
   },
   "file_extension": ".py",
   "mimetype": "text/x-python",
   "name": "python",
   "nbconvert_exporter": "python",
   "pygments_lexer": "ipython3",
   "version": "3.7.1"
  }
 },
 "nbformat": 4,
 "nbformat_minor": 2
}
