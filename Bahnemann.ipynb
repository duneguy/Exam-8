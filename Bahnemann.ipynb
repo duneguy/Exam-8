{
 "cells": [
  {
   "cell_type": "markdown",
   "metadata": {
    "slideshow": {
     "slide_type": "skip"
    }
   },
   "source": [
    "Chapter 1: Basic probability concepts <br>\n",
    "Chapter 2 and 3: Distributions for claim size and claim counts. Also shows ways of fitting distribution to set of claim data.<br>\n",
    "Chapter 4: Properties of aggregate loss distributions and techniques for approximating values of these distributions.<br>\n",
    "<b>Chapter 5:</b> Covers excess claims and layers of insurance. <br>\n",
    "<b>Chapter 6:</b> Deductibles and limits."
   ]
  },
  {
   "cell_type": "markdown",
   "metadata": {
    "slideshow": {
     "slide_type": "slide"
    }
   },
   "source": [
    "## Chapter 1\n",
    "\n",
    "<font color = blue> $ P(E|F) = \\frac{P(E \\cap F)}{P(F)} \\Longleftrightarrow \\frac{P(F|E) \\cdot P(E)}{P(F)}\\tag{Bayes Theorem} $</font>\n",
    "- If two events are independent: $P(E \\cap F) = P(E) \\cdot P(F)$"
   ]
  },
  {
   "cell_type": "markdown",
   "metadata": {
    "slideshow": {
     "slide_type": "subslide"
    }
   },
   "source": [
    "- <b>Bernoulli distribution</b> has two outcomes either success or failure.\n",
    "    - Probability mass function: $f(n) = (1-p)^{n-1} \\cdot p$\n",
    "        - Looks at success at nth trial.\n",
    "- <b>Binomial distribtion</b> is a collection of bernoulli trials."
   ]
  },
  {
   "cell_type": "markdown",
   "metadata": {
    "slideshow": {
     "slide_type": "subslide"
    }
   },
   "source": [
    "- <b>Mixed distribution</b> is composed of both discrete and continuous distribution.<br><br>\n",
    "$$F(x) = \\omega_1 \\cdot F_1(x) + \\omega_2 \\cdot F_2(x)$$\n",
    "\n",
    "where, $F_1$ is a distribution function for continuous variable, $F_2$ is distribution function for discrete variable, and $\\omega_1 + \\omega_2 = 1$."
   ]
  }
 ],
 "metadata": {
  "celltoolbar": "Slideshow",
  "kernelspec": {
   "display_name": "Python 3",
   "language": "python",
   "name": "python3"
  },
  "language_info": {
   "codemirror_mode": {
    "name": "ipython",
    "version": 3
   },
   "file_extension": ".py",
   "mimetype": "text/x-python",
   "name": "python",
   "nbconvert_exporter": "python",
   "pygments_lexer": "ipython3",
   "version": "3.7.1"
  }
 },
 "nbformat": 4,
 "nbformat_minor": 2
}
