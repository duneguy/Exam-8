{
 "cells": [
  {
   "cell_type": "markdown",
   "metadata": {
    "slideshow": {
     "slide_type": "skip"
    }
   },
   "source": [
    "Chapter 1: Basic probability concepts <br>\n",
    "Chapter 2 and 3: Distributions for claim size and claim counts. Also shows ways of fitting distribution to set of claim data.<br>\n",
    "Chapter 4: Properties of aggregate loss distributions and techniques for approximating values of these distributions.<br>\n",
    "<b>Chapter 5:</b> Covers excess claims and layers of insurance. <br>\n",
    "<b>Chapter 6:</b> Deductibles and limits."
   ]
  },
  {
   "cell_type": "markdown",
   "metadata": {
    "slideshow": {
     "slide_type": "slide"
    }
   },
   "source": [
    "## Chapter 1 (Probability)\n",
    "\n",
    "<font color = blue> $ P(E|F) = \\frac{P(E \\cap F)}{P(F)} \\Longleftrightarrow \\frac{P(F|E) \\cdot P(E)}{P(F)}\\tag{Bayes Theorem} $</font>\n",
    "- If two events are independent: $P(E \\cap F) = P(E) \\cdot P(F)$"
   ]
  },
  {
   "cell_type": "markdown",
   "metadata": {
    "slideshow": {
     "slide_type": "subslide"
    }
   },
   "source": [
    "- <b>Bernoulli distribution</b> has two outcomes either success or failure.\n",
    "    - Probability mass function: $f(n) = (1-p)^{n-1} \\cdot p$\n",
    "        - Looks at success at nth trial.\n",
    "- <b>Binomial distribtion</b> is a collection of bernoulli trials."
   ]
  },
  {
   "cell_type": "markdown",
   "metadata": {
    "slideshow": {
     "slide_type": "subslide"
    }
   },
   "source": [
    "- <b>Mixed distribution</b> is composed of both discrete and continuous distribution.<br><br>\n",
    "$$F(x) = \\omega_1 \\cdot F_1(x) + \\omega_2 \\cdot F_2(x)$$\n",
    "\n",
    "where, $F_1$ is a distribution function for continuous variable, $F_2$ is distribution function for discrete variable, and $\\omega_1 + \\omega_2 = 1$."
   ]
  },
  {
   "cell_type": "markdown",
   "metadata": {
    "slideshow": {
     "slide_type": "subslide"
    }
   },
   "source": [
    "# <center>Methods of Estimating Distribution Parameters</center>\n",
    "<br>\n",
    "- <b>Method-of-Moments:</b> Compute $E[X^m]$ for various values of m (often just 1 and 2) using the sample\n",
    "data and set those equal to theoretical values. Solve for the distribution parameters.<br><br>\n",
    "- <b>Maximum-Likelihood:</b> For sample data with n observations, create the log-likelihood function $ \\sum_{i=1}^n ln f(x_i)$, take the derivatives with respect to each parameter and set the equations equal to 0.\n",
    "Solve for the estimated parameters.\n",
    "<center><img src=\"images/Partial_Derivs.JPG\"></center>"
   ]
  },
  {
   "cell_type": "markdown",
   "metadata": {
    "slideshow": {
     "slide_type": "subslide"
    }
   },
   "source": [
    "- <b>Minimum Chi-Squared:</b> Group sample data of size n into groups/classes of size m (m<n). Tabulate the actual claim counts in each given range and the expected counts in each range using the target distribution with initial seed parameters. Calculate a chi-squared value as $\\chi^2 = \\sum_{k=1}^m \\frac{(Actual-Expected)^2}{Expected}$, and use a computer to iterate different parameter choices until the chi-squared value is minimized.<br><br>\n",
    "\n",
    "- <b>Minimum-Distance Estimation:</b> Again, group sample data of size n into groups/classes of size m (m<n). Tabulate the cumulative percent of actual claim counts from the sample data for each range $F_n(c_k)$ <font color=blue>(at interval boundaries)</font> and the expected cumulative percent of counts $F_{\\Theta}(c_k)$ with initial seed parameters. Calculate $D = \\sqrt{\\sum_{k=1}^m \\left | F_n(c_k) - F_{\\Theta}(c_k) \\right |^2}$, and use a computer to iterate different parameter choices until D is\n",
    "minimized."
   ]
  },
  {
   "cell_type": "markdown",
   "metadata": {
    "slideshow": {
     "slide_type": "slide"
    }
   },
   "source": [
    "# Chapter 2 (Claim-Size)\n",
    "\n",
    "- Aggregate-loss random variable is a combination of claim-count and claim-size random variables.<br>\n",
    "- Size-of-loss distribution = loss distribution"
   ]
  }
 ],
 "metadata": {
  "celltoolbar": "Slideshow",
  "kernelspec": {
   "display_name": "Python 3",
   "language": "python",
   "name": "python3"
  },
  "language_info": {
   "codemirror_mode": {
    "name": "ipython",
    "version": 3
   },
   "file_extension": ".py",
   "mimetype": "text/x-python",
   "name": "python",
   "nbconvert_exporter": "python",
   "pygments_lexer": "ipython3",
   "version": "3.7.1"
  }
 },
 "nbformat": 4,
 "nbformat_minor": 2
}
