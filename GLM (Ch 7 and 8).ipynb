{
 "cells": [
  {
   "cell_type": "markdown",
   "metadata": {
    "slideshow": {
     "slide_type": "slide"
    }
   },
   "source": [
    "# Comparing Two Models\n",
    "\n",
    "1. Actual vs Predicted\n",
    "2. Simple Quantile Plots\n",
    "3. Double Lift Charts\n",
    "4. Loss Ratio Charts\n",
    "5. Gini Index"
   ]
  },
  {
   "cell_type": "markdown",
   "metadata": {
    "slideshow": {
     "slide_type": "slide"
    }
   },
   "source": [
    "## Actual vs Predicted Plots\n",
    "\n",
    "- Plot $y_i$ on y-axis and $\\mu_i$ on x-axis for each model.<br><br>\n",
    "\n",
    "<center><img src ='images/Act_vs_Pred.JPG'></center>"
   ]
  },
  {
   "cell_type": "markdown",
   "metadata": {
    "slideshow": {
     "slide_type": "subslide"
    }
   },
   "source": [
    "#### Important Considerations\n",
    "\n",
    "- Need to create these on holdout datasets.\n",
    "- Need to aggregate data before plotting.\n",
    "    - Sort based on predicted target variable.\n",
    "    - Group into 100 buckets with same aggregate model weight.\n",
    "    - Calculate avg. actual and predicted target variable values.\n",
    "- Need to plot graph on log scale."
   ]
  },
  {
   "cell_type": "markdown",
   "metadata": {
    "slideshow": {
     "slide_type": "slide"
    }
   },
   "source": [
    "## Simple Quantile Plots\n",
    "\n",
    "- Visual representation of model's ability to accurately differentiate between the best and the worst risks.<br><br>\n",
    "\n",
    "<b>Steps</b><br>\n",
    "- Sort dataset based on predicted target variable.\n",
    "- Bucket the data into quantiles (5, 10, etc.) with same volume of exposures.\n",
    "- Calculate avg actual and predicted target variable values.\n",
    "    - Both can be divided by overall avg predicted value for ease of interpretation.\n",
    "- Plot the two values.\n"
   ]
  },
  {
   "cell_type": "markdown",
   "metadata": {
    "slideshow": {
     "slide_type": "subslide"
    }
   },
   "source": [
    "<center><img src = 'images/Quantile_Plots.JPG'></center>"
   ]
  },
  {
   "cell_type": "markdown",
   "metadata": {
    "slideshow": {
     "slide_type": "subslide"
    }
   },
   "source": [
    "#### Criteria for \"winning\" model\n",
    "\n",
    "1. Predictive accuracy\n",
    "2. Monotonicity\n",
    "3. Vertical distance between the first and last quantiles"
   ]
  },
  {
   "cell_type": "markdown",
   "metadata": {
    "slideshow": {
     "slide_type": "slide"
    }
   },
   "source": [
    "## Double Lift Charts\n",
    "\n"
   ]
  }
 ],
 "metadata": {
  "celltoolbar": "Slideshow",
  "kernelspec": {
   "display_name": "Python 3",
   "language": "python",
   "name": "python3"
  },
  "language_info": {
   "codemirror_mode": {
    "name": "ipython",
    "version": 3
   },
   "file_extension": ".py",
   "mimetype": "text/x-python",
   "name": "python",
   "nbconvert_exporter": "python",
   "pygments_lexer": "ipython3",
   "version": "3.7.1"
  }
 },
 "nbformat": 4,
 "nbformat_minor": 2
}
