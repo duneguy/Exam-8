{
 "cells": [
  {
   "cell_type": "markdown",
   "metadata": {
    "slideshow": {
     "slide_type": "slide"
    }
   },
   "source": [
    "# Comparing Two Models\n",
    "\n",
    "1. Actual vs Predicted\n",
    "2. Simple Quantile Plots\n",
    "3. Double Lift Charts\n",
    "4. Loss Ratio Charts\n",
    "5. Gini Index"
   ]
  },
  {
   "cell_type": "markdown",
   "metadata": {
    "slideshow": {
     "slide_type": "slide"
    }
   },
   "source": [
    "## Actual vs Predicted Plots\n",
    "\n",
    "- Plot $y_i$ on y-axis and $\\mu_i$ on x-axis for each model.<br><br>\n",
    "\n",
    "<center><img src ='images/Act_vs_Pred.JPG'></center>"
   ]
  },
  {
   "cell_type": "markdown",
   "metadata": {
    "slideshow": {
     "slide_type": "subslide"
    }
   },
   "source": [
    "#### Important Considerations\n",
    "\n",
    "- Need to create these on holdout datasets.\n",
    "- Need to aggregate data before plotting.\n",
    "    - Sort based on predicted target variable.\n",
    "    - Group into 100 buckets with same aggregate model weight.\n",
    "    - Calculate avg. actual and predicted target variable values.\n",
    "- Need to plot graph on log scale."
   ]
  },
  {
   "cell_type": "markdown",
   "metadata": {
    "slideshow": {
     "slide_type": "slide"
    }
   },
   "source": [
    "## Simple Quantile Plots\n",
    "\n",
    "- Visual representation of model's ability to accurately differentiate between the best and the worst risks.<br><br>\n",
    "\n",
    "<b>Steps</b><br>\n",
    "- Sort dataset based on predicted target variable.\n",
    "- Bucket the data into quantiles (5, 10, etc.) with same volume of exposures.\n",
    "- Calculate avg actual and predicted target variable values.\n",
    "    - Both can be divided by overall avg predicted value for ease of interpretation.\n",
    "- Plot the two values.\n"
   ]
  },
  {
   "cell_type": "markdown",
   "metadata": {
    "slideshow": {
     "slide_type": "subslide"
    }
   },
   "source": [
    "<center><img src = 'images/Quantile_Plots.JPG'></center>"
   ]
  },
  {
   "cell_type": "markdown",
   "metadata": {
    "slideshow": {
     "slide_type": "subslide"
    }
   },
   "source": [
    "#### Criteria for \"winning\" model\n",
    "\n",
    "1. Predictive accuracy\n",
    "2. Monotonicity\n",
    "3. Vertical distance between the first and last quantiles"
   ]
  },
  {
   "cell_type": "markdown",
   "metadata": {
    "slideshow": {
     "slide_type": "slide"
    }
   },
   "source": [
    "## Double Lift Charts\n",
    "\n",
    "- Unlike other plots, this directly compares two models.\n",
    "\n",
    "<b>Steps</b><br>\n",
    "- Calculate $\\color{blue}{\\text{Sort Ratio} = \\frac{\\text{Model A Predicted Loss Cost}}{\\text{Model B Predicted Loss Cost}}}$<br>\n",
    "- Sort dataset based on Sort Ratio (smallest to largest).\n",
    "- Bucket data into quantiles.\n",
    "- Calculate avg. pure premium in each bucket (Actual, Model A and Model B).\n",
    "- Divide by overall avg. (Actual, Model A and Model B).\n",
    "- Plot the results."
   ]
  },
  {
   "cell_type": "markdown",
   "metadata": {
    "slideshow": {
     "slide_type": "subslide"
    }
   },
   "source": [
    "<center><img src='images/Double_Lift.JPG'></center><br><br>\n",
    "\n",
    "- Winning model closely matches the actual pure premium relativities in each quantile."
   ]
  },
  {
   "cell_type": "markdown",
   "metadata": {
    "slideshow": {
     "slide_type": "subslide"
    }
   },
   "source": [
    "- Can also create double lift chart by plotting percent error from the actual value.<br><br>\n",
    "\n",
    "$$ \\frac{\\text{Predicted Loss Cost}}{\\text{Actual Loss Cost}} - 1$$<br><br>\n",
    "\n",
    "- Winning model would be closest to the y = 0 line."
   ]
  },
  {
   "cell_type": "markdown",
   "metadata": {
    "slideshow": {
     "slide_type": "slide"
    }
   },
   "source": [
    "## Loss Ratio Charts\n",
    "\n",
    "- Steps\n",
    "    - Sort the dataset based on model prediction.\n",
    "    - Bucket into quantiles with same volume of exposures.\n",
    "    - Calculate actual loss ratio within each bucket.<br><br>\n",
    "    \n"
   ]
  },
  {
   "cell_type": "markdown",
   "metadata": {
    "slideshow": {
     "slide_type": "subslide"
    }
   },
   "source": [
    "<center><img src='images/LR_Chart.JPG'></center><br><br>\n",
    "\n",
    "- If model is able to show variation in loss ratios, then it is outperforming the current plan.\n",
    "- Greater the vertical distance between the first and the last bucket, the better the model at segmenting vs the current plan."
   ]
  },
  {
   "cell_type": "markdown",
   "metadata": {
    "slideshow": {
     "slide_type": "slide"
    }
   },
   "source": [
    "## Gini Index\n",
    "\n",
    "- Quantifies the ability of the model to differentiate between the best and worst risks.\n",
    "\n",
    "- Steps\n",
    "    - Sort dataset based on model predicted loss cost.\n",
    "    - On x-axis, plot cumulative percentage of exposures.\n",
    "        - Exposures increase faster than losses - few exposures have most of the losses.\n",
    "    - On y-axis, plot cumulative percentage of actual losses."
   ]
  },
  {
   "cell_type": "markdown",
   "metadata": {
    "slideshow": {
     "slide_type": "subslide"
    }
   },
   "source": [
    "<center><img src='images/Gini_Curve.JPG'></center><br><br>\n",
    "\n",
    "- Gini index is calculated as twice the area between the Lorenz curve and the line of equality."
   ]
  },
  {
   "cell_type": "markdown",
   "metadata": {
    "slideshow": {
     "slide_type": "slide"
    }
   },
   "source": [
    "# Validation of Logistic Regression Models\n",
    "\n",
    "- Actual vs Predicted\n",
    "- Lorenz Curve\n",
    "- ROC Curve"
   ]
  },
  {
   "cell_type": "markdown",
   "metadata": {
    "slideshow": {
     "slide_type": "slide"
    }
   },
   "source": [
    "## ROC Curves\n",
    "\n",
    "- Used for probability models.\n",
    "- Use <b>discrimination threshold</b> to convert prob. into binary output.\n",
    "    - Values higher than the threshold will signal action.\n",
    "    - Lower threshold results in more true positives and fewer false negatives.\n",
    "        - Cost: more false positives and fewer true negatives.<br><br>\n",
    "\n",
    "\n",
    "$$\n",
    "\\begin{array}{c|cc}\n",
    " & \\text{Predicted}  & \\text{Predicted}\\\\\n",
    "\\text{Actual} & \\text{Fraud} & \\text{No Fraud}\\\\\n",
    "\\hline\n",
    "\\text{Fraud} &  \\text{True Positive} & \\text{False Negative}\\\\\n",
    "\\text{No Fraud} &  \\text{False Positive} & \\text{True Negative}\n",
    "\\end{array}\n",
    "$$"
   ]
  },
  {
   "cell_type": "markdown",
   "metadata": {
    "slideshow": {
     "slide_type": "subslide"
    }
   },
   "source": [
    "<center><img src='images/Confusion_Matrix.JPG'></center>"
   ]
  },
  {
   "cell_type": "markdown",
   "metadata": {
    "slideshow": {
     "slide_type": "subslide"
    }
   },
   "source": [
    "- <b>Sensitivity / true positive rate / hit rate:</b> $\\frac{\\text{True positives}}{\\text{Total positives}} = \\frac{39}{109}$<br><br>\n",
    "- <b>Specificity:</b> $\\frac{\\text{True negatives}}{\\text{Total negatives}} = \\frac{673}{704}$<br><br>\n",
    "\n",
    "- A random model yields true positives and false positives in the same proportion as the overall mix of positives and negatives in the data, regardless of the threshold.\n",
    "    - ROC curve always follows the line of equality."
   ]
  },
  {
   "cell_type": "markdown",
   "metadata": {
    "slideshow": {
     "slide_type": "subslide"
    }
   },
   "source": [
    "#### Plotting\n",
    "\n",
    "- On x-axis, false positive rate = 1 - specificity.\n",
    "- On y-axis, true positive rate.<br><br>\n",
    "\n",
    "<center><img src = 'images/ROC.JPG'></center>"
   ]
  },
  {
   "cell_type": "markdown",
   "metadata": {
    "slideshow": {
     "slide_type": "subslide"
    }
   },
   "source": [
    "- ROC higher than the line of equality is desired.\n",
    "- Model with no predictive power has AUROC of .5\n",
    "- Model with max. predictive power has AUROC of 1<br><br>\n",
    "\n",
    "$$\\begin{align} \\text{AUROC} & = \\frac{1}{2} \\cdot \\text{Normalized Gini} + \\frac{1}{2} \\\\ \\\\\n",
    "\\text{Normalized Gini} & = \\frac{\\text{Gini index}}{\\text{Gini index of \"perfect\" model}} \\end{align}$$"
   ]
  },
  {
   "cell_type": "markdown",
   "metadata": {
    "slideshow": {
     "slide_type": "slide"
    }
   },
   "source": [
    "## Coverage Options and GLM\n",
    "\n",
    "- Coverage options are best analyzed outside of GLM.\n",
    "    - There could be correlation with variables not included in the model.\n",
    "    - Could be due to selection effect \n",
    "        - UW forcing high risk insureds to have higher deductibles.<br><br>\n",
    "\n",
    "- Charging rates other than pure loss elimination could lead to changes in insured behavior.\n",
    "        "
   ]
  },
  {
   "cell_type": "markdown",
   "metadata": {
    "slideshow": {
     "slide_type": "slide"
    }
   },
   "source": [
    "## Territory Modeling\n",
    "\n",
    "- Territory should be included in the model as an offset.\n",
    "- Territory should also be offset for the classification plan."
   ]
  },
  {
   "cell_type": "markdown",
   "metadata": {
    "slideshow": {
     "slide_type": "slide"
    }
   },
   "source": [
    "## Ensembling\n",
    "\n",
    "- Take straight average of model predictions.\n",
    "- The model errors should be uncorrelated (i.e. model built by independent teams)."
   ]
  }
 ],
 "metadata": {
  "celltoolbar": "Slideshow",
  "kernelspec": {
   "display_name": "Python 3",
   "language": "python",
   "name": "python3"
  },
  "language_info": {
   "codemirror_mode": {
    "name": "ipython",
    "version": 3
   },
   "file_extension": ".py",
   "mimetype": "text/x-python",
   "name": "python",
   "nbconvert_exporter": "python",
   "pygments_lexer": "ipython3",
   "version": "3.7.1"
  }
 },
 "nbformat": 4,
 "nbformat_minor": 2
}
