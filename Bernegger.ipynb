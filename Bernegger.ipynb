{
 "cells": [
  {
   "cell_type": "markdown",
   "metadata": {
    "slideshow": {
     "slide_type": "slide"
    }
   },
   "source": [
    "- For this paper, we will only look at functions defined on [0,1]\n",
    "    - The curves can be fitted on:\n",
    "        - First two moments ($\\mu$ and $\\sigma$)  \n",
    "        - Or, first moment ($\\mu$) and prob of total loss (p).<br><br>\n",
    "\n",
    "- We will use MBBEFD curves will allow underwriters to create curves that lie within other curves by varying parameters.\n",
    "    - The number of parameters would be limited to 2, to make it easy for underwriters."
   ]
  },
  {
   "cell_type": "markdown",
   "metadata": {
    "slideshow": {
     "slide_type": "subslide"
    }
   },
   "source": [
    "- To divide total premium between ceding company and reinsurer:\n",
    "    - First, overall risk premiums (per band) are estimated by applying an appropriate loss ratio to the gross premium.\n",
    "    - Secondly, risk premiums are divided for retention and cession.\n",
    "        - Need exposure curves for this."
   ]
  },
  {
   "cell_type": "markdown",
   "metadata": {
    "slideshow": {
     "slide_type": "subslide"
    }
   },
   "source": [
    "<center><img src ='images/Bernegger_2.JPG'></center><br><br>"
   ]
  },
  {
   "cell_type": "markdown",
   "metadata": {
    "slideshow": {
     "slide_type": "slide"
    }
   },
   "source": [
    "## Exposure Curve\n",
    "\n",
    "- Let y = $\\frac{X}{M}$ and d = $\\frac{D}{M}$<br><br>\n",
    "\n",
    "$$\\begin{align} G(d) & = \\frac{\\int_0^d[1-F(y)]dy}{\\int_0^1[1-F(y)]dy} \\qquad \\text{(horizontal slices)}\\\\ \\\\\n",
    "& = \\frac{E[y;d]}{E[y]} \\end{align}$$"
   ]
  },
  {
   "cell_type": "markdown",
   "metadata": {
    "slideshow": {
     "slide_type": "subslide"
    }
   },
   "source": [
    "$$\\begin{align}G^\\prime(d) & = \\left(\\frac{\\int_0^d[1-F(y)]dy}{\\int_0^1[1-F(y)]dy}\\right)^\\prime \\\\ \\\\\n",
    "& = \\frac{1-F(d)}{E[y]} \\geq 0 \\\\ \\\\ \\\\\n",
    "G^{\\prime \\prime}(d) & = \\left(\\frac{\\int_0^d[1-F(y)]dy}{\\int_0^1[1-F(y)]dy}\\right)^{\\prime \\prime} = \\left(\\frac{1-F(d)}{E[y]}\\right)^\\prime \\\\ \\\\\n",
    "& = \\frac{-f(d)}{E[y]}\\leq 0 \\end{align}$$"
   ]
  },
  {
   "cell_type": "markdown",
   "metadata": {
    "slideshow": {
     "slide_type": "subslide"
    }
   },
   "source": [
    "- G(d) is an increasing at a decreasing rate (concave) function on the interval [0,1]."
   ]
  },
  {
   "cell_type": "markdown",
   "metadata": {
    "slideshow": {
     "slide_type": "slide"
    }
   },
   "source": [
    "## Deriving CDF, Total Loss Prob, and Mean<br><br>\n",
    "\n",
    "$$G^\\prime(d) = \\frac{1-F(d)}{E[y]}$$<br>\n",
    "$$\\big\\downarrow$$<br>\n",
    "$$F(d) = 1- G^\\prime(d)E[y]$$<br>\n",
    "$$\\big\\downarrow$$<br>\n",
    "$$F(d) = \\begin{cases} 1 & \\text{, if }d = 1 \\\\\n",
    "1-\\frac{G^\\prime(d)}{G^\\prime(0)} & \\text{, if }0 \\leq d \\lt 1 \\end{cases}$$"
   ]
  },
  {
   "cell_type": "markdown",
   "metadata": {
    "slideshow": {
     "slide_type": "subslide"
    }
   },
   "source": [
    "$$G^\\prime(d) = \\frac{1-F(d)}{E[y]}$$<br>\n",
    "$$\\big\\downarrow$$<br>\n",
    "$$G^\\prime(0) = \\frac{1}{E[y]} \\text{ and } E[y] = \\mu = \\frac{1}{G^\\prime(0)}$$<br><br>\n",
    "\n",
    "- Here, $\\mu$ is the expected severity divided by MPL."
   ]
  },
  {
   "cell_type": "markdown",
   "metadata": {
    "slideshow": {
     "slide_type": "subslide"
    }
   },
   "source": [
    "$$\\begin{align} p & = 1 - F(1^-) \\\\ \\\\\n",
    "& = \\frac{G^\\prime(1)}{G^\\prime(0)}\\end{align}$$<br><br>\n",
    "\n",
    "- Given that G(x) is a concave function, we get:<br><br>\n",
    "\n",
    "$$G^\\prime(0) \\geq 1 \\geq G^\\prime(1) \\geq 0$$<br>\n",
    "$$\\big\\downarrow$$<br>\n",
    "$$1 \\geq \\mu \\geq p \\geq 0$$"
   ]
  },
  {
   "cell_type": "markdown",
   "metadata": {
    "slideshow": {
     "slide_type": "slide"
    }
   },
   "source": [
    "## MBBEFD Curves<br><br>\n",
    "\n",
    "$$G(x) = \\frac{ln(a+b^x) - ln(a+1)}{ln(a+b) -ln(a+1)}$$<br><br>\n",
    "\n",
    "$$p = \\frac{(a+1)b}{a+b}$$\n"
   ]
  },
  {
   "cell_type": "markdown",
   "metadata": {
    "slideshow": {
     "slide_type": "subslide"
    }
   },
   "source": [
    "- We let g = $\\frac{1}{p}$ then,<br><br>\n",
    "\n",
    "$$a= \\frac{(g-1)b}{1-gb}$$<br><br>\n",
    "\n",
    "- Hence we have G(x) made of 2 parameters (g $\\geq$ 1 and b $\\geq$ 0)"
   ]
  },
  {
   "cell_type": "markdown",
   "metadata": {
    "slideshow": {
     "slide_type": "subslide"
    }
   },
   "source": [
    "<center><img src ='images/Bernegger_1.JPG'></center><br><br>\n",
    "\n",
    "- Most likely cases to be test are first 3\n",
    "    - First case, all total losses\n",
    "    - Third case, p = b"
   ]
  },
  {
   "cell_type": "markdown",
   "metadata": {
    "slideshow": {
     "slide_type": "slide"
    }
   },
   "source": [
    "<center><img src ='images/Bernegger_RF_1.JPG'></center><br><br>"
   ]
  },
  {
   "cell_type": "markdown",
   "metadata": {
    "slideshow": {
     "slide_type": "subslide"
    }
   },
   "source": [
    "<center><img src ='images/Bernegger_RF_2.JPG'></center><br><br>"
   ]
  },
  {
   "cell_type": "markdown",
   "metadata": {
    "slideshow": {
     "slide_type": "subslide"
    }
   },
   "source": [
    "<center><img src ='images/Bernegger_RF_3.JPG'></center><br><br>"
   ]
  },
  {
   "cell_type": "markdown",
   "metadata": {
    "slideshow": {
     "slide_type": "slide"
    }
   },
   "source": [
    "## Curve Fitting\n",
    "\n",
    "- There is only one curve for a given values og (p,$\\mu$) or ($\\mu$, $\\sigma$)\n",
    "    - Given these parameters, we can get g and b.\n",
    "    \n",
    "- Here are the possible values for $mu$:<br><br>\n",
    "\n",
    "<center><img src ='images/Bernegger_3.JPG'></center><br>\n",
    "\n",
    "- For case e, we have to use iteration to get value of b."
   ]
  },
  {
   "cell_type": "markdown",
   "metadata": {
    "slideshow": {
     "slide_type": "subslide"
    }
   },
   "source": [
    "#### Iteration"
   ]
  }
 ],
 "metadata": {
  "celltoolbar": "Slideshow",
  "kernelspec": {
   "display_name": "Python 3",
   "language": "python",
   "name": "python3"
  },
  "language_info": {
   "codemirror_mode": {
    "name": "ipython",
    "version": 3
   },
   "file_extension": ".py",
   "mimetype": "text/x-python",
   "name": "python",
   "nbconvert_exporter": "python",
   "pygments_lexer": "ipython3",
   "version": "3.7.1"
  }
 },
 "nbformat": 4,
 "nbformat_minor": 2
}
