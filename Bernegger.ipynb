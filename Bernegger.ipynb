{
 "cells": [
  {
   "cell_type": "markdown",
   "metadata": {
    "slideshow": {
     "slide_type": "slide"
    }
   },
   "source": [
    "- For this paper, we will only look at functions defined on [0,1]\n",
    "    - The curves can be fitted on:\n",
    "        - First two moments ($\\mu$ and $\\sigma$)  \n",
    "        - Or, first moment ($\\mu$) and prob of total loss (p).<br><br>\n",
    "\n",
    "- We will use MBBEFD curves will allow underwriters to create curves that lie within other curves by varying parameters.\n",
    "    - The number of parameters would be limited to 2, to make it easy for underwriters."
   ]
  },
  {
   "cell_type": "markdown",
   "metadata": {
    "slideshow": {
     "slide_type": "subslide"
    }
   },
   "source": [
    "- To divide total premium between ceding company and reinsurer:\n",
    "    - First, overall risk premiums (per band) are estimated by applying an appropriate loss ratio to the gross premium.\n",
    "    - Secondly, risk premiums are divided for retention and cession.\n",
    "        - Need exposure curves for this."
   ]
  },
  {
   "cell_type": "markdown",
   "metadata": {
    "slideshow": {
     "slide_type": "subslide"
    }
   },
   "source": [
    "<center><img src ='images/Bernegger_2.JPG'></center><br><br>"
   ]
  },
  {
   "cell_type": "markdown",
   "metadata": {
    "slideshow": {
     "slide_type": "slide"
    }
   },
   "source": [
    "## Exposure Curve\n",
    "\n",
    "- Let y = $\\frac{X}{M}$ and d = $\\frac{D}{M}$<br><br>\n",
    "\n",
    "$$\\begin{align} G(d) & = \\frac{\\int_0^d[1-F(y)]dy}{\\int_0^1[1-F(y)]dy} \\qquad \\text{(horizontal slices)}\\\\ \\\\\n",
    "& = \\frac{E[y;d]}{E[y]} \\end{align}$$"
   ]
  },
  {
   "cell_type": "markdown",
   "metadata": {
    "slideshow": {
     "slide_type": "subslide"
    }
   },
   "source": [
    "$$\\begin{align}G^\\prime(d) & = \\left(\\frac{\\int_0^d[1-F(y)]dy}{\\int_0^1[1-F(y)]dy}\\right)^\\prime \\\\ \\\\\n",
    "& = \\frac{1-F(d)}{E[y]} \\geq 0 \\\\ \\\\ \\\\\n",
    "G^{\\prime \\prime}(d) & = \\left(\\frac{\\int_0^d[1-F(y)]dy}{\\int_0^1[1-F(y)]dy}\\right)^{\\prime \\prime} = \\left(\\frac{1-F(d)}{E[y]}\\right)^\\prime \\\\ \\\\\n",
    "& = \\frac{-f(d)}{E[y]}\\leq 0 \\end{align}$$"
   ]
  },
  {
   "cell_type": "markdown",
   "metadata": {
    "slideshow": {
     "slide_type": "subslide"
    }
   },
   "source": [
    "- G(d) is an increasing at a decreasing rate (concave) function on the interval [0,1]."
   ]
  },
  {
   "cell_type": "markdown",
   "metadata": {
    "slideshow": {
     "slide_type": "slide"
    }
   },
   "source": [
    "## Deriving CDF, Mean, and Total Loss Prob<br><br>\n",
    "\n",
    "$$G^\\prime(d) = \\frac{1-F(d)}{E[y]}$$<br>\n",
    "$$\\big\\downarrow$$<br>\n",
    "$$F(d) = 1- G^\\prime(d)E[y]$$<br>\n",
    "$$\\big\\downarrow$$<br>\n",
    "$$F(d) = \\begin{cases} 1 & \\text{, if }d = 1 \\\\\n",
    "1-\\frac{G^\\prime(d)}{G^\\prime(0)} & \\text{, if }0 \\leq d \\lt 1 \\end{cases}$$"
   ]
  },
  {
   "cell_type": "markdown",
   "metadata": {
    "slideshow": {
     "slide_type": "subslide"
    }
   },
   "source": [
    "$$G^\\prime(d) = \\frac{1-F(d)}{E[y]}$$<br>\n",
    "$$\\big\\downarrow$$<br>\n",
    "$$G^\\prime(0) = \\frac{1}{E[y]} \\text{ and } E[y] = \\mu = \\frac{1}{G^\\prime(0)}$$<br><br>\n",
    "\n",
    "- Here, $\\mu$ is the expected severity divided by MPL."
   ]
  },
  {
   "cell_type": "markdown",
   "metadata": {
    "slideshow": {
     "slide_type": "subslide"
    }
   },
   "source": [
    "$$\\begin{align} p & = 1 - F(1^-) \\\\ \\\\\n",
    "& = \\frac{G^\\prime(1)}{G^\\prime(0)}\\end{align}$$<br><br>\n",
    "\n",
    "- Given that G(x) is a concave function, we get:<br><br>\n",
    "\n",
    "$$G^\\prime(0) \\geq 1 \\geq G^\\prime(1) \\geq 0$$<br>\n",
    "$$\\big\\downarrow$$<br>\n",
    "$$1 \\geq \\mu \\geq p \\geq 0$$"
   ]
  },
  {
   "cell_type": "markdown",
   "metadata": {
    "slideshow": {
     "slide_type": "slide"
    }
   },
   "source": [
    "## MBBEFD Curves<br><br>\n",
    "\n",
    "$$G(x) = \\frac{ln(a+b^x) - ln(a+1)}{ln(a+b) -ln(a+1)}$$<br><br>\n",
    "\n",
    "$$p = \\frac{(a+1)b}{a+b}$$\n"
   ]
  },
  {
   "cell_type": "markdown",
   "metadata": {
    "slideshow": {
     "slide_type": "subslide"
    }
   },
   "source": [
    "- We let g = $\\frac{1}{p}$ then,<br><br>\n",
    "\n",
    "$$a= \\frac{(g-1)b}{1-gb}$$<br><br>\n",
    "\n",
    "- Hence we have G(x) made of 2 parameters (g $\\geq$ 1 and b $\\geq$ 0)"
   ]
  },
  {
   "cell_type": "markdown",
   "metadata": {
    "slideshow": {
     "slide_type": "subslide"
    }
   },
   "source": [
    "<center><img src ='images/Bernegger_1.JPG'></center><br><br>\n",
    "\n",
    "- Most likely cases to be tested on first 3\n",
    "    - First case, all total losses\n",
    "    - Third case, p = b"
   ]
  },
  {
   "cell_type": "markdown",
   "metadata": {
    "slideshow": {
     "slide_type": "slide"
    }
   },
   "source": [
    "<center><img src ='images/Bernegger_RF_1.JPG'></center><br><br>"
   ]
  },
  {
   "cell_type": "markdown",
   "metadata": {
    "slideshow": {
     "slide_type": "subslide"
    }
   },
   "source": [
    "<center><img src ='images/Bernegger_RF_2.JPG'></center><br><br>"
   ]
  },
  {
   "cell_type": "markdown",
   "metadata": {
    "slideshow": {
     "slide_type": "subslide"
    }
   },
   "source": [
    "<center><img src ='images/Bernegger_RF_3.JPG'></center><br><br>"
   ]
  },
  {
   "cell_type": "markdown",
   "metadata": {
    "slideshow": {
     "slide_type": "slide"
    }
   },
   "source": [
    "## Curve Fitting\n",
    "\n",
    "- There is only one curve for a given values of (p,$\\mu$) or ($\\mu$, $\\sigma$)\n",
    "    - Given these parameters, we can get g and b.\n",
    "\n",
    "#### If p and $\\mu$ are given\n",
    "- Then, g = $\\frac{1}{p}$\n",
    "- We can get value of b based on value of $mu$:<br><br>\n",
    "\n",
    "<center><img src ='images/Bernegger_3.JPG'></center><br>\n",
    "\n"
   ]
  },
  {
   "cell_type": "markdown",
   "metadata": {
    "slideshow": {
     "slide_type": "subslide"
    }
   },
   "source": [
    "- For case e, we have to solve for b iteratively using:<br><br>\n",
    "\n",
    "$$\\mu = \\frac{ln(gb)(1-b)}{ln(b)(a-gb)}$$"
   ]
  },
  {
   "cell_type": "markdown",
   "metadata": {
    "slideshow": {
     "slide_type": "subslide"
    }
   },
   "source": [
    "#### If $\\mu$ and $\\sigma$ are given\n",
    "- Following two conditions must be met:<br><br>\n",
    "\n",
    "$$\\mu^2 \\leq E[y^2] \\leq \\mu$$<br>\n",
    "$$p \\leq E[y^2]$$"
   ]
  },
  {
   "cell_type": "markdown",
   "metadata": {
    "slideshow": {
     "slide_type": "subslide"
    }
   },
   "source": [
    "- If conditions are met, we can get g and b by iteration:<br>\n",
    "\n",
    "    1. Start with a first estiamte of p* $ = E[y^2] = \\mu^2 + \\sigma^2$. This is upper bound for p.\n",
    "    \n",
    "    2. Use prior method where p* and $\\mu$ are given to get g* and b*.\n",
    "        - Then calculate $E^*[y^2]$\n",
    "        \n",
    "    3. Compare $E^*[y^2]$ to $E[y^2]$ and update guess of p*. \n",
    "        - Note: $E[y^2]$ is an increasing function of p*\n",
    "        \n",
    "    4. Repeat steps 2 and 3 until $E^*[y^2]$ is sufficiently close to $E[y^2]$"
   ]
  },
  {
   "cell_type": "markdown",
   "metadata": {
    "slideshow": {
     "slide_type": "slide"
    }
   },
   "source": [
    "<center><img src ='images/Bernegger_RF_4.JPG'></center><br><br>"
   ]
  },
  {
   "cell_type": "markdown",
   "metadata": {
    "slideshow": {
     "slide_type": "subslide"
    }
   },
   "source": [
    "<center><img src ='images/Bernegger_RF_5.JPG'></center><br><br>\n"
   ]
  },
  {
   "cell_type": "markdown",
   "metadata": {
    "slideshow": {
     "slide_type": "subslide"
    }
   },
   "source": [
    "<center><img src ='images/Bernegger_RF_6.JPG'></center><br><br>"
   ]
  },
  {
   "cell_type": "markdown",
   "metadata": {
    "slideshow": {
     "slide_type": "slide"
    }
   },
   "source": [
    "## Swiss Re Curves\n",
    "\n",
    "- Swiss Re Curves [$Y_1,Y_2,Y_3,Y_4$] correspond with c = [1.5 , 2 , 3 , 4]\n",
    "- c = 0 corresponds to distribution of total loss.\n",
    "    - g(0) = 1<br>\n",
    "    \n",
    "<center><img src= 'images/Swiss_Re.JPG'></center>"
   ]
  }
 ],
 "metadata": {
  "celltoolbar": "Slideshow",
  "kernelspec": {
   "display_name": "Python 3",
   "language": "python",
   "name": "python3"
  },
  "language_info": {
   "codemirror_mode": {
    "name": "ipython",
    "version": 3
   },
   "file_extension": ".py",
   "mimetype": "text/x-python",
   "name": "python",
   "nbconvert_exporter": "python",
   "pygments_lexer": "ipython3",
   "version": "3.7.1"
  }
 },
 "nbformat": 4,
 "nbformat_minor": 2
}
