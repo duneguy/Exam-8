{
 "cells": [
  {
   "cell_type": "markdown",
   "metadata": {
    "slideshow": {
     "slide_type": "slide"
    }
   },
   "source": [
    "## Loss-Sensitive Rating Plans (LSRP)\n",
    "\n",
    "- Plans under which the insured retains a greater portion of risk vs typical policy.\n",
    "- Only available to large commercial risks.\n",
    "\n",
    "#### Main LSRP Types\n",
    "- Retrospective rating plans\n",
    "- Large deductible plans\n",
    "- Self-insured retention with an xs policy"
   ]
  },
  {
   "cell_type": "markdown",
   "metadata": {
    "slideshow": {
     "slide_type": "slide"
    }
   },
   "source": [
    "## Retrospective Rating\n",
    "\n",
    "- Uses insured's current loss experience to determine current policy term premium.\n",
    "- Primary layer of loss is used to adjust premium.\n",
    "\n",
    "#### Cashflows\n",
    "- Initial premium is commonly same as prospective rated policy (GCP).\n",
    "- Few months after policy expires, exposures are audit and premium recalculated.\n",
    "    - Depends on basis\n",
    "        "
   ]
  },
  {
   "cell_type": "markdown",
   "metadata": {
    "slideshow": {
     "slide_type": "subslide"
    }
   },
   "source": [
    "$$\n",
    "\\begin{array}{c|c}\n",
    "\\text{Basis} & \\text{Initial Eval} & \\text{Subsequent Evals}\\\\\n",
    "\\hline\n",
    "\\text{Incurred} &  \\text{6 mos after expiry} & \\text{Every 12 mos after initial eval}\\\\\n",
    "\\text{Paid} &  \\text{Monthly} & \\text{Converted to incurred after certain timeframe (e.g. 5 years)}\n",
    "\\end{array}$$"
   ]
  },
  {
   "cell_type": "markdown",
   "metadata": {
    "slideshow": {
     "slide_type": "subslide"
    }
   },
   "source": [
    "- Max/Min ratable loss may be selected directly or based on max/min prem."
   ]
  },
  {
   "cell_type": "markdown",
   "metadata": {
    "slideshow": {
     "slide_type": "subslide"
    }
   },
   "source": [
    "#### Formula<br><br>\n",
    "\n",
    "$$\\begin{align}\\text{Premium} &= \\big(B + (1 + \\% \\text{cost prop to loss}) \\cdot \\text{Ratable Losses} \\big) \\cdot T \\\\ \\\\\n",
    "\\text{Premium} &= \\big(B +cL \\big) \\cdot T \\end{align}$$<br><br>\n",
    "\n",
    "- B - Basic Premium - Fixed charges - do not vary with losses\n",
    "    - UW expenses and other fixed expenses\n",
    "    - Expected Per-occurence charge\n",
    "    - Net insurance charge\n",
    "        - Compares insurance savings to aggregate xs charge"
   ]
  },
  {
   "cell_type": "markdown",
   "metadata": {
    "slideshow": {
     "slide_type": "subslide"
    }
   },
   "source": [
    "- C - Loss conversion factor - vary with losses\n",
    "    - ALAE\n",
    "    - Loss based assessments<br><br>\n",
    "    \n",
    "- L - Ratable losses\n",
    "    - May or may not include ALAE<br><br>\n",
    "    \n",
    "- T - Tax multiplier: $\\frac{1}{1-\\text{tax rate}}$"
   ]
  },
  {
   "cell_type": "markdown",
   "metadata": {
    "slideshow": {
     "slide_type": "subslide"
    }
   },
   "source": [
    "##### Expense Portion of basic premium\n",
    "\n",
    "$$ e - (c-1) E[A]$$<br>\n",
    "\n",
    "- e - expense ratio underlying GCP\n",
    "    - Lower ratio for bigger accounts\n",
    "    - Excludes \n",
    "        - Premium-based taxes (included in tax multiplier)\n",
    "        - Assessments<br><br>\n",
    "        \n",
    "- <b>E or E[A]</b> - overall expected losses - expected loss ratio underlying GCP\n",
    "    - $\\frac{\\text{Exp aggregate losses}}{SP}$"
   ]
  },
  {
   "cell_type": "markdown",
   "metadata": {
    "slideshow": {
     "slide_type": "slide"
    }
   },
   "source": [
    "## Large Risk Alternative Rating Option (LRARO)<br>\n",
    "\n",
    "- Allow large sophisticated consumers to negotiate parameters.\n",
    "- Common customizations\n",
    "    - NCCI retro plan can be on a paid basis\n",
    "        - Allows insurer to reflect loss of investment income\n",
    "    - Allows max/min ratable loss amounts to be set directly"
   ]
  },
  {
   "cell_type": "markdown",
   "metadata": {
    "slideshow": {
     "slide_type": "slide"
    }
   },
   "source": [
    "## Large Dollar Deductible Plans<br>\n",
    "\n",
    "- Insurer pays for all losses and then bills insured for deductible losses.\n",
    "- ULAE and ALAE incurred on all losses.\n",
    "- No insurance saving equivalent - all eligible losses are subject to deductible reimbursement.\n",
    "- Risk transfer similar to retro policy with per-occurence limit, max ratable loss, but no min ratable loss.<br><br>\n",
    "\n",
    "- Can be priced similar to retro policies.\n",
    "    - Due to lower expected losses retained by insurer, might make expense ratios quite high."
   ]
  },
  {
   "cell_type": "markdown",
   "metadata": {
    "slideshow": {
     "slide_type": "slide"
    }
   },
   "source": [
    "## Self-Insured Retentions (SIRs) with an Excess Policy\n",
    "\n",
    "- Insured is responsible for adjusting claims using TPA.\n",
    "- Insurer only incurs ALAE for claims xs of retention (pro-rata basis).\n",
    "- Lower ULAE since insurer does not handle claims below the retention.\n",
    "- Insurer pays the insured for loss amounts above the retention."
   ]
  },
  {
   "cell_type": "markdown",
   "metadata": {
    "slideshow": {
     "slide_type": "slide"
    }
   },
   "source": [
    "## Other Variations on Loss-Sensitive Plans<br>\n",
    "\n",
    "- Dividend Plans\n",
    "- Clash coverage\n",
    "- Basket aggregate coverage\n",
    "- Multi-year plans\n",
    "- Captives"
   ]
  },
  {
   "cell_type": "markdown",
   "metadata": {
    "slideshow": {
     "slide_type": "subslide"
    }
   },
   "source": [
    "#### Dividend Plans\n",
    "- Profit returned to insureds\n",
    "- Considered an expense<br><br>\n",
    "\n",
    "#### Clash Coverage\n",
    "- Protects against loss impacting multiple coverages"
   ]
  },
  {
   "cell_type": "markdown",
   "metadata": {
    "slideshow": {
     "slide_type": "subslide"
    }
   },
   "source": [
    "#### Basket Aggregate Coverage\n",
    "\n",
    "- Caps aggregate reimbursable or ratable loss.\n",
    "- Typically, underlying plans are written with no agg limit or max ratable loss.<br><br>\n",
    "\n",
    "#### Multi-Year Plans\n",
    "- Popular amongst insureds during soft markets.\n",
    "- Adjustments for longer period\n",
    "    - Agg xs and per-occ charges need to be adjusted for loss trend\n",
    "    - Allowance for rate change if exposure changes dramatically\n",
    "    - Higher credit risk"
   ]
  },
  {
   "cell_type": "markdown",
   "metadata": {
    "slideshow": {
     "slide_type": "slide"
    }
   },
   "source": [
    "## Credit Risk\n",
    "\n",
    "- Ways to protect against credit risk\n",
    "    - <b>Security</b> - Collateral\n",
    "    - <b>LDFs</b> - Calculate est ult losses (incurred only)\n",
    "    - <b>Holdbacks</b> - delay retro premium adjustments (incurred or dividend plans)"
   ]
  },
  {
   "cell_type": "markdown",
   "metadata": {
    "slideshow": {
     "slide_type": "slide"
    }
   },
   "source": [
    "## Dissolution of Loss-Sensitive Plans\n",
    "\n",
    "#### Retrospective rating plans\n",
    "- <b>Closeout</b> - apply LDFs to losses to determine a final premium amount\n",
    "\n",
    "#### Large deductible plans\n",
    "- Buyout\n",
    "- Loss portfolio transfer\n",
    "\n",
    "#### Self-insured retention plan\n",
    "- Loss portfolio transfer"
   ]
  },
  {
   "cell_type": "markdown",
   "metadata": {
    "slideshow": {
     "slide_type": "slide"
    }
   },
   "source": [
    "<table><tr><td><img src='images/Fisher_2_Ret_1.JPG'></td><td><img src='images/Fisher_2_Ret_2.JPG'></td></tr></table>"
   ]
  },
  {
   "cell_type": "markdown",
   "metadata": {
    "slideshow": {
     "slide_type": "slide"
    }
   },
   "source": [
    "<table><tr><td><img src='images/Fisher_2_LDD_1.JPG'></td><td><img src='images/Fisher_2_LDD_2.JPG'></td></tr></table>"
   ]
  }
 ],
 "metadata": {
  "celltoolbar": "Slideshow",
  "kernelspec": {
   "display_name": "Python 3",
   "language": "python",
   "name": "python3"
  },
  "language_info": {
   "codemirror_mode": {
    "name": "ipython",
    "version": 3
   },
   "file_extension": ".py",
   "mimetype": "text/x-python",
   "name": "python",
   "nbconvert_exporter": "python",
   "pygments_lexer": "ipython3",
   "version": "3.7.1"
  }
 },
 "nbformat": 4,
 "nbformat_minor": 2
}
